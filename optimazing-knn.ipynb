{
 "cells": [
  {
   "cell_type": "code",
   "execution_count": 496,
   "metadata": {},
   "outputs": [],
   "source": [
    "import pandas as pd\n",
    "import matplotlib.pyplot as plt\n",
    "import numpy as np\n",
    "import seaborn as sns\n",
    "\n",
    "from pandas.core.frame import DataFrame\n",
    "\n",
    "filename = 'healthcare-dataset-stroke-data.csv'\n",
    "cols = ['gender','age','hypertension','heart_disease','ever_married', 'work_type', 'Residence_type','avg_glucose_level','bmi', 'smoking_status','stroke']\n",
    "\n",
    "df = pd.read_csv(filename, usecols=cols)"
   ]
  },
  {
   "cell_type": "code",
   "execution_count": 497,
   "metadata": {},
   "outputs": [
    {
     "name": "stdout",
     "output_type": "stream",
     "text": [
      "Non-Numeric columns:\n",
      "gender\n",
      "ever_married\n",
      "work_type\n",
      "Residence_type\n",
      "smoking_status\n",
      "\n",
      "Numeric columns:\n",
      "age\n",
      "hypertension\n",
      "heart_disease\n",
      "avg_glucose_level\n",
      "bmi\n",
      "stroke\n"
     ]
    }
   ],
   "source": [
    "# Check datatype each column of dataframe\n",
    "cat_df = df.select_dtypes(include=['object'])\n",
    "num_df = df.select_dtypes(exclude=['object'])\n",
    "\n",
    "def printColumnTypes(non_numeric_df: DataFrame, numeric_df: DataFrame):\n",
    "    '''separates non-numeric and numeric columns'''\n",
    "    print(\"Non-Numeric columns:\")\n",
    "    for col in non_numeric_df:\n",
    "        print(f\"{col}\")\n",
    "    print(\"\")\n",
    "    print(\"Numeric columns:\")\n",
    "    for col in numeric_df:\n",
    "        print(f\"{col}\")\n",
    "\n",
    "printColumnTypes(cat_df, num_df)"
   ]
  },
  {
   "cell_type": "code",
   "execution_count": 498,
   "metadata": {},
   "outputs": [
    {
     "data": {
      "text/html": [
       "<div>\n",
       "<style scoped>\n",
       "    .dataframe tbody tr th:only-of-type {\n",
       "        vertical-align: middle;\n",
       "    }\n",
       "\n",
       "    .dataframe tbody tr th {\n",
       "        vertical-align: top;\n",
       "    }\n",
       "\n",
       "    .dataframe thead th {\n",
       "        text-align: right;\n",
       "    }\n",
       "</style>\n",
       "<table border=\"1\" class=\"dataframe\">\n",
       "  <thead>\n",
       "    <tr style=\"text-align: right;\">\n",
       "      <th></th>\n",
       "      <th>gender</th>\n",
       "      <th>age</th>\n",
       "      <th>hypertension</th>\n",
       "      <th>heart_disease</th>\n",
       "      <th>ever_married</th>\n",
       "      <th>work_type</th>\n",
       "      <th>Residence_type</th>\n",
       "      <th>avg_glucose_level</th>\n",
       "      <th>bmi</th>\n",
       "      <th>smoking_status</th>\n",
       "      <th>stroke</th>\n",
       "    </tr>\n",
       "  </thead>\n",
       "  <tbody>\n",
       "    <tr>\n",
       "      <th>count</th>\n",
       "      <td>5110</td>\n",
       "      <td>5110.000000</td>\n",
       "      <td>5110.000000</td>\n",
       "      <td>5110.000000</td>\n",
       "      <td>5110</td>\n",
       "      <td>5110</td>\n",
       "      <td>5110</td>\n",
       "      <td>5110.000000</td>\n",
       "      <td>4909.000000</td>\n",
       "      <td>5110</td>\n",
       "      <td>5110.000000</td>\n",
       "    </tr>\n",
       "    <tr>\n",
       "      <th>unique</th>\n",
       "      <td>3</td>\n",
       "      <td>NaN</td>\n",
       "      <td>NaN</td>\n",
       "      <td>NaN</td>\n",
       "      <td>2</td>\n",
       "      <td>5</td>\n",
       "      <td>2</td>\n",
       "      <td>NaN</td>\n",
       "      <td>NaN</td>\n",
       "      <td>4</td>\n",
       "      <td>NaN</td>\n",
       "    </tr>\n",
       "    <tr>\n",
       "      <th>top</th>\n",
       "      <td>Female</td>\n",
       "      <td>NaN</td>\n",
       "      <td>NaN</td>\n",
       "      <td>NaN</td>\n",
       "      <td>Yes</td>\n",
       "      <td>Private</td>\n",
       "      <td>Urban</td>\n",
       "      <td>NaN</td>\n",
       "      <td>NaN</td>\n",
       "      <td>never smoked</td>\n",
       "      <td>NaN</td>\n",
       "    </tr>\n",
       "    <tr>\n",
       "      <th>freq</th>\n",
       "      <td>2994</td>\n",
       "      <td>NaN</td>\n",
       "      <td>NaN</td>\n",
       "      <td>NaN</td>\n",
       "      <td>3353</td>\n",
       "      <td>2925</td>\n",
       "      <td>2596</td>\n",
       "      <td>NaN</td>\n",
       "      <td>NaN</td>\n",
       "      <td>1892</td>\n",
       "      <td>NaN</td>\n",
       "    </tr>\n",
       "    <tr>\n",
       "      <th>mean</th>\n",
       "      <td>NaN</td>\n",
       "      <td>43.226614</td>\n",
       "      <td>0.097456</td>\n",
       "      <td>0.054012</td>\n",
       "      <td>NaN</td>\n",
       "      <td>NaN</td>\n",
       "      <td>NaN</td>\n",
       "      <td>106.147677</td>\n",
       "      <td>28.893237</td>\n",
       "      <td>NaN</td>\n",
       "      <td>0.048728</td>\n",
       "    </tr>\n",
       "    <tr>\n",
       "      <th>std</th>\n",
       "      <td>NaN</td>\n",
       "      <td>22.612647</td>\n",
       "      <td>0.296607</td>\n",
       "      <td>0.226063</td>\n",
       "      <td>NaN</td>\n",
       "      <td>NaN</td>\n",
       "      <td>NaN</td>\n",
       "      <td>45.283560</td>\n",
       "      <td>7.854067</td>\n",
       "      <td>NaN</td>\n",
       "      <td>0.215320</td>\n",
       "    </tr>\n",
       "    <tr>\n",
       "      <th>min</th>\n",
       "      <td>NaN</td>\n",
       "      <td>0.080000</td>\n",
       "      <td>0.000000</td>\n",
       "      <td>0.000000</td>\n",
       "      <td>NaN</td>\n",
       "      <td>NaN</td>\n",
       "      <td>NaN</td>\n",
       "      <td>55.120000</td>\n",
       "      <td>10.300000</td>\n",
       "      <td>NaN</td>\n",
       "      <td>0.000000</td>\n",
       "    </tr>\n",
       "    <tr>\n",
       "      <th>25%</th>\n",
       "      <td>NaN</td>\n",
       "      <td>25.000000</td>\n",
       "      <td>0.000000</td>\n",
       "      <td>0.000000</td>\n",
       "      <td>NaN</td>\n",
       "      <td>NaN</td>\n",
       "      <td>NaN</td>\n",
       "      <td>77.245000</td>\n",
       "      <td>23.500000</td>\n",
       "      <td>NaN</td>\n",
       "      <td>0.000000</td>\n",
       "    </tr>\n",
       "    <tr>\n",
       "      <th>50%</th>\n",
       "      <td>NaN</td>\n",
       "      <td>45.000000</td>\n",
       "      <td>0.000000</td>\n",
       "      <td>0.000000</td>\n",
       "      <td>NaN</td>\n",
       "      <td>NaN</td>\n",
       "      <td>NaN</td>\n",
       "      <td>91.885000</td>\n",
       "      <td>28.100000</td>\n",
       "      <td>NaN</td>\n",
       "      <td>0.000000</td>\n",
       "    </tr>\n",
       "    <tr>\n",
       "      <th>75%</th>\n",
       "      <td>NaN</td>\n",
       "      <td>61.000000</td>\n",
       "      <td>0.000000</td>\n",
       "      <td>0.000000</td>\n",
       "      <td>NaN</td>\n",
       "      <td>NaN</td>\n",
       "      <td>NaN</td>\n",
       "      <td>114.090000</td>\n",
       "      <td>33.100000</td>\n",
       "      <td>NaN</td>\n",
       "      <td>0.000000</td>\n",
       "    </tr>\n",
       "    <tr>\n",
       "      <th>max</th>\n",
       "      <td>NaN</td>\n",
       "      <td>82.000000</td>\n",
       "      <td>1.000000</td>\n",
       "      <td>1.000000</td>\n",
       "      <td>NaN</td>\n",
       "      <td>NaN</td>\n",
       "      <td>NaN</td>\n",
       "      <td>271.740000</td>\n",
       "      <td>97.600000</td>\n",
       "      <td>NaN</td>\n",
       "      <td>1.000000</td>\n",
       "    </tr>\n",
       "  </tbody>\n",
       "</table>\n",
       "</div>"
      ],
      "text/plain": [
       "        gender          age  hypertension  heart_disease ever_married  \\\n",
       "count     5110  5110.000000   5110.000000    5110.000000         5110   \n",
       "unique       3          NaN           NaN            NaN            2   \n",
       "top     Female          NaN           NaN            NaN          Yes   \n",
       "freq      2994          NaN           NaN            NaN         3353   \n",
       "mean       NaN    43.226614      0.097456       0.054012          NaN   \n",
       "std        NaN    22.612647      0.296607       0.226063          NaN   \n",
       "min        NaN     0.080000      0.000000       0.000000          NaN   \n",
       "25%        NaN    25.000000      0.000000       0.000000          NaN   \n",
       "50%        NaN    45.000000      0.000000       0.000000          NaN   \n",
       "75%        NaN    61.000000      0.000000       0.000000          NaN   \n",
       "max        NaN    82.000000      1.000000       1.000000          NaN   \n",
       "\n",
       "       work_type Residence_type  avg_glucose_level          bmi  \\\n",
       "count       5110           5110        5110.000000  4909.000000   \n",
       "unique         5              2                NaN          NaN   \n",
       "top      Private          Urban                NaN          NaN   \n",
       "freq        2925           2596                NaN          NaN   \n",
       "mean         NaN            NaN         106.147677    28.893237   \n",
       "std          NaN            NaN          45.283560     7.854067   \n",
       "min          NaN            NaN          55.120000    10.300000   \n",
       "25%          NaN            NaN          77.245000    23.500000   \n",
       "50%          NaN            NaN          91.885000    28.100000   \n",
       "75%          NaN            NaN         114.090000    33.100000   \n",
       "max          NaN            NaN         271.740000    97.600000   \n",
       "\n",
       "       smoking_status       stroke  \n",
       "count            5110  5110.000000  \n",
       "unique              4          NaN  \n",
       "top      never smoked          NaN  \n",
       "freq             1892          NaN  \n",
       "mean              NaN     0.048728  \n",
       "std               NaN     0.215320  \n",
       "min               NaN     0.000000  \n",
       "25%               NaN     0.000000  \n",
       "50%               NaN     0.000000  \n",
       "75%               NaN     0.000000  \n",
       "max               NaN     1.000000  "
      ]
     },
     "execution_count": 498,
     "metadata": {},
     "output_type": "execute_result"
    }
   ],
   "source": [
    "df.describe(include='all')"
   ]
  },
  {
   "cell_type": "code",
   "execution_count": 499,
   "metadata": {},
   "outputs": [
    {
     "name": "stdout",
     "output_type": "stream",
     "text": [
      "<class 'pandas.core.frame.DataFrame'>\n",
      "RangeIndex: 5110 entries, 0 to 5109\n",
      "Data columns (total 11 columns):\n",
      " #   Column             Non-Null Count  Dtype  \n",
      "---  ------             --------------  -----  \n",
      " 0   gender             5110 non-null   object \n",
      " 1   age                5110 non-null   float64\n",
      " 2   hypertension       5110 non-null   int64  \n",
      " 3   heart_disease      5110 non-null   int64  \n",
      " 4   ever_married       5110 non-null   object \n",
      " 5   work_type          5110 non-null   object \n",
      " 6   Residence_type     5110 non-null   object \n",
      " 7   avg_glucose_level  5110 non-null   float64\n",
      " 8   bmi                4909 non-null   float64\n",
      " 9   smoking_status     5110 non-null   object \n",
      " 10  stroke             5110 non-null   int64  \n",
      "dtypes: float64(3), int64(3), object(5)\n",
      "memory usage: 439.3+ KB\n"
     ]
    }
   ],
   "source": [
    "df.info()"
   ]
  },
  {
   "cell_type": "code",
   "execution_count": 500,
   "metadata": {},
   "outputs": [
    {
     "data": {
      "text/plain": [
       "gender                 0\n",
       "age                    0\n",
       "hypertension           0\n",
       "heart_disease          0\n",
       "ever_married           0\n",
       "work_type              0\n",
       "Residence_type         0\n",
       "avg_glucose_level      0\n",
       "bmi                  201\n",
       "smoking_status         0\n",
       "stroke                 0\n",
       "dtype: int64"
      ]
     },
     "execution_count": 500,
     "metadata": {},
     "output_type": "execute_result"
    }
   ],
   "source": [
    "df.isnull().sum()"
   ]
  },
  {
   "attachments": {},
   "cell_type": "markdown",
   "metadata": {},
   "source": [
    "### Terdapat Missing Value pada Attribute BMI\n",
    "Hal ini ditandakan pada kolom bmi terdapat 201 missing value"
   ]
  },
  {
   "cell_type": "code",
   "execution_count": 501,
   "metadata": {},
   "outputs": [
    {
     "name": "stdout",
     "output_type": "stream",
     "text": [
      "gender: ['Male' 'Female' 'Other']\n",
      "ever_married: ['Yes' 'No']\n",
      "work_type: ['Private' 'Self-employed' 'Govt_job' 'children' 'Never_worked']\n",
      "Residence_type: ['Urban' 'Rural']\n",
      "smoking_status: ['formerly smoked' 'never smoked' 'smokes' 'Unknown']\n"
     ]
    }
   ],
   "source": [
    "def print_unique_value(cols: list):\n",
    "    for col in cols:\n",
    "        print(f\"{col}: {df[col].unique()}\")\n",
    "        \n",
    "non_numeric_col = ['gender','ever_married','work_type','Residence_type', 'smoking_status']\n",
    "\n",
    "print_unique_value(non_numeric_col)"
   ]
  },
  {
   "cell_type": "code",
   "execution_count": 502,
   "metadata": {},
   "outputs": [
    {
     "name": "stdout",
     "output_type": "stream",
     "text": [
      "Female    0.585910\n",
      "Male      0.413894\n",
      "Other     0.000196\n",
      "Name: gender, dtype: float64\n",
      "\n",
      "Yes    0.656164\n",
      "No     0.343836\n",
      "Name: ever_married, dtype: float64\n",
      "\n",
      "Private          0.572407\n",
      "Self-employed    0.160274\n",
      "children         0.134442\n",
      "Govt_job         0.128571\n",
      "Never_worked     0.004305\n",
      "Name: work_type, dtype: float64\n",
      "\n",
      "Urban    0.508023\n",
      "Rural    0.491977\n",
      "Name: Residence_type, dtype: float64\n",
      "\n",
      "never smoked       0.370254\n",
      "Unknown            0.302153\n",
      "formerly smoked    0.173190\n",
      "smokes             0.154403\n",
      "Name: smoking_status, dtype: float64\n",
      "\n"
     ]
    }
   ],
   "source": [
    "def print_percentage_data(dataframe, cols: list[str] | str):\n",
    "    if type(cols) == str:\n",
    "        print(dataframe[cols].value_counts() / len(dataframe))\n",
    "        return\n",
    "\n",
    "    for col in cols:\n",
    "        print(dataframe[col].value_counts() / len(dataframe))\n",
    "        print()\n",
    "\n",
    "print_percentage_data(df, non_numeric_col)"
   ]
  },
  {
   "attachments": {},
   "cell_type": "markdown",
   "metadata": {},
   "source": [
    "### Pra-process\n",
    "- Data Cleansing\n",
    "- Remove Outlier\n",
    "- Label Encoding"
   ]
  },
  {
   "cell_type": "code",
   "execution_count": 503,
   "metadata": {},
   "outputs": [
    {
     "data": {
      "text/plain": [
       "gender               0\n",
       "age                  0\n",
       "hypertension         0\n",
       "heart_disease        0\n",
       "ever_married         0\n",
       "work_type            0\n",
       "Residence_type       0\n",
       "avg_glucose_level    0\n",
       "bmi                  0\n",
       "smoking_status       0\n",
       "stroke               0\n",
       "dtype: int64"
      ]
     },
     "execution_count": 503,
     "metadata": {},
     "output_type": "execute_result"
    }
   ],
   "source": [
    "mean_bmi_replacement_value = df.loc[:,'bmi'].dropna().mean()\n",
    "df['bmi'] = df.loc[:, 'bmi'].fillna(mean_bmi_replacement_value)\n",
    "\n",
    "df.isnull().sum()"
   ]
  },
  {
   "cell_type": "code",
   "execution_count": 504,
   "metadata": {},
   "outputs": [
    {
     "data": {
      "text/plain": [
       "array(['formerly smoked', 'never smoked', 'smokes'], dtype=object)"
      ]
     },
     "execution_count": 504,
     "metadata": {},
     "output_type": "execute_result"
    }
   ],
   "source": [
    "modus_smoking_status = df['smoking_status'].max()\n",
    "df['smoking_status'] = df['smoking_status'].apply(lambda x: modus_smoking_status if x == 'Unknown' else x)\n",
    "\n",
    "df['smoking_status'].unique()"
   ]
  },
  {
   "cell_type": "code",
   "execution_count": 505,
   "metadata": {},
   "outputs": [
    {
     "name": "stdout",
     "output_type": "stream",
     "text": [
      "smokes             0.456556\n",
      "never smoked       0.370254\n",
      "formerly smoked    0.173190\n",
      "Name: smoking_status, dtype: float64\n"
     ]
    }
   ],
   "source": [
    "print_percentage_data(df, 'smoking_status')"
   ]
  },
  {
   "cell_type": "code",
   "execution_count": 506,
   "metadata": {},
   "outputs": [
    {
     "name": "stdout",
     "output_type": "stream",
     "text": [
      "Female    0.586025\n",
      "Male      0.413975\n",
      "Name: gender, dtype: float64\n"
     ]
    }
   ],
   "source": [
    "df = df[df['gender'] != 'Other']\n",
    "\n",
    "print_percentage_data(df, 'gender')"
   ]
  },
  {
   "cell_type": "code",
   "execution_count": 507,
   "metadata": {},
   "outputs": [],
   "source": [
    "num_gender = { 'Female': 0, 'Male': 1 }\n",
    "num_ever_married = { 'No': 0, 'Yes': 1 }\n",
    "num_smoking_status = {\n",
    "    'formerly smoked': 0,\n",
    "    'never smoked': 1,\n",
    "    'smokes': 2,\n",
    "}\n",
    "\n",
    "num_work_type = {\n",
    "    'children': 0,\n",
    "    'Govt_job': 1,\n",
    "    'Never_worked': 2,\n",
    "    'Private': 3,\n",
    "    'Self-employed': 4,\n",
    "}\n",
    "num_residence_type = {\n",
    "    'Urban': 0,\n",
    "    'Rural': 1\n",
    "}\n",
    "\n",
    "# Label Encoding\n",
    "df['gender'] = df['gender'].replace(num_gender)\n",
    "df['ever_married'] = df['ever_married'].replace(num_ever_married)\n",
    "df['Residence_type'] = df['Residence_type'].replace(num_residence_type)\n",
    "df['smoking_status'] = df['smoking_status'].replace(num_smoking_status)\n",
    "df['work_type'] = df['work_type'].replace(num_work_type)"
   ]
  },
  {
   "cell_type": "code",
   "execution_count": 508,
   "metadata": {},
   "outputs": [
    {
     "data": {
      "text/html": [
       "<div>\n",
       "<style scoped>\n",
       "    .dataframe tbody tr th:only-of-type {\n",
       "        vertical-align: middle;\n",
       "    }\n",
       "\n",
       "    .dataframe tbody tr th {\n",
       "        vertical-align: top;\n",
       "    }\n",
       "\n",
       "    .dataframe thead th {\n",
       "        text-align: right;\n",
       "    }\n",
       "</style>\n",
       "<table border=\"1\" class=\"dataframe\">\n",
       "  <thead>\n",
       "    <tr style=\"text-align: right;\">\n",
       "      <th></th>\n",
       "      <th>gender</th>\n",
       "      <th>age</th>\n",
       "      <th>hypertension</th>\n",
       "      <th>heart_disease</th>\n",
       "      <th>ever_married</th>\n",
       "      <th>work_type</th>\n",
       "      <th>Residence_type</th>\n",
       "      <th>avg_glucose_level</th>\n",
       "      <th>bmi</th>\n",
       "      <th>smoking_status</th>\n",
       "      <th>stroke</th>\n",
       "    </tr>\n",
       "  </thead>\n",
       "  <tbody>\n",
       "    <tr>\n",
       "      <th>0</th>\n",
       "      <td>1</td>\n",
       "      <td>67.0</td>\n",
       "      <td>0</td>\n",
       "      <td>1</td>\n",
       "      <td>1</td>\n",
       "      <td>3</td>\n",
       "      <td>0</td>\n",
       "      <td>228.69</td>\n",
       "      <td>36.600000</td>\n",
       "      <td>0</td>\n",
       "      <td>1</td>\n",
       "    </tr>\n",
       "    <tr>\n",
       "      <th>1</th>\n",
       "      <td>0</td>\n",
       "      <td>61.0</td>\n",
       "      <td>0</td>\n",
       "      <td>0</td>\n",
       "      <td>1</td>\n",
       "      <td>4</td>\n",
       "      <td>1</td>\n",
       "      <td>202.21</td>\n",
       "      <td>28.893237</td>\n",
       "      <td>1</td>\n",
       "      <td>1</td>\n",
       "    </tr>\n",
       "    <tr>\n",
       "      <th>2</th>\n",
       "      <td>1</td>\n",
       "      <td>80.0</td>\n",
       "      <td>0</td>\n",
       "      <td>1</td>\n",
       "      <td>1</td>\n",
       "      <td>3</td>\n",
       "      <td>1</td>\n",
       "      <td>105.92</td>\n",
       "      <td>32.500000</td>\n",
       "      <td>1</td>\n",
       "      <td>1</td>\n",
       "    </tr>\n",
       "    <tr>\n",
       "      <th>3</th>\n",
       "      <td>0</td>\n",
       "      <td>49.0</td>\n",
       "      <td>0</td>\n",
       "      <td>0</td>\n",
       "      <td>1</td>\n",
       "      <td>3</td>\n",
       "      <td>0</td>\n",
       "      <td>171.23</td>\n",
       "      <td>34.400000</td>\n",
       "      <td>2</td>\n",
       "      <td>1</td>\n",
       "    </tr>\n",
       "    <tr>\n",
       "      <th>4</th>\n",
       "      <td>0</td>\n",
       "      <td>79.0</td>\n",
       "      <td>1</td>\n",
       "      <td>0</td>\n",
       "      <td>1</td>\n",
       "      <td>4</td>\n",
       "      <td>1</td>\n",
       "      <td>174.12</td>\n",
       "      <td>24.000000</td>\n",
       "      <td>1</td>\n",
       "      <td>1</td>\n",
       "    </tr>\n",
       "  </tbody>\n",
       "</table>\n",
       "</div>"
      ],
      "text/plain": [
       "   gender   age  hypertension  heart_disease  ever_married  work_type  \\\n",
       "0       1  67.0             0              1             1          3   \n",
       "1       0  61.0             0              0             1          4   \n",
       "2       1  80.0             0              1             1          3   \n",
       "3       0  49.0             0              0             1          3   \n",
       "4       0  79.0             1              0             1          4   \n",
       "\n",
       "   Residence_type  avg_glucose_level        bmi  smoking_status  stroke  \n",
       "0               0             228.69  36.600000               0       1  \n",
       "1               1             202.21  28.893237               1       1  \n",
       "2               1             105.92  32.500000               1       1  \n",
       "3               0             171.23  34.400000               2       1  \n",
       "4               1             174.12  24.000000               1       1  "
      ]
     },
     "execution_count": 508,
     "metadata": {},
     "output_type": "execute_result"
    }
   ],
   "source": [
    "df.head()"
   ]
  },
  {
   "cell_type": "code",
   "execution_count": 509,
   "metadata": {},
   "outputs": [
    {
     "data": {
      "image/png": "[encoded data removed]",
      "text/plain": [
       "<Figure size 432x432 with 1 Axes>"
      ]
     },
     "metadata": {},
     "output_type": "display_data"
    }
   ],
   "source": [
    "stroke_value_count = df['stroke'].value_counts()\n",
    "replace_index = [\"tidak stroke\" if i == 0 else \"stroke\" for i in stroke_value_count.index]\n",
    "\n",
    "plt.figure(figsize=(6, 6))\n",
    "plt.pie(stroke_value_count.values,labels=replace_index, autopct='%1.1f%%')\n",
    "plt.title('Distribusi Kelas')\n",
    "plt.legend()\n",
    "plt.show()"
   ]
  },
  {
   "cell_type": "code",
   "execution_count": 510,
   "metadata": {},
   "outputs": [
    {
     "data": {
      "text/html": [
       "<div>\n",
       "<style scoped>\n",
       "    .dataframe tbody tr th:only-of-type {\n",
       "        vertical-align: middle;\n",
       "    }\n",
       "\n",
       "    .dataframe tbody tr th {\n",
       "        vertical-align: top;\n",
       "    }\n",
       "\n",
       "    .dataframe thead th {\n",
       "        text-align: right;\n",
       "    }\n",
       "</style>\n",
       "<table border=\"1\" class=\"dataframe\">\n",
       "  <thead>\n",
       "    <tr style=\"text-align: right;\">\n",
       "      <th></th>\n",
       "      <th>gender</th>\n",
       "      <th>age</th>\n",
       "      <th>hypertension</th>\n",
       "      <th>heart_disease</th>\n",
       "      <th>ever_married</th>\n",
       "      <th>work_type</th>\n",
       "      <th>Residence_type</th>\n",
       "      <th>avg_glucose_level</th>\n",
       "      <th>bmi</th>\n",
       "      <th>smoking_status</th>\n",
       "    </tr>\n",
       "  </thead>\n",
       "  <tbody>\n",
       "    <tr>\n",
       "      <th>0</th>\n",
       "      <td>1</td>\n",
       "      <td>67.0</td>\n",
       "      <td>0</td>\n",
       "      <td>1</td>\n",
       "      <td>1</td>\n",
       "      <td>3</td>\n",
       "      <td>0</td>\n",
       "      <td>228.69</td>\n",
       "      <td>36.600000</td>\n",
       "      <td>0</td>\n",
       "    </tr>\n",
       "    <tr>\n",
       "      <th>1</th>\n",
       "      <td>0</td>\n",
       "      <td>61.0</td>\n",
       "      <td>0</td>\n",
       "      <td>0</td>\n",
       "      <td>1</td>\n",
       "      <td>4</td>\n",
       "      <td>1</td>\n",
       "      <td>202.21</td>\n",
       "      <td>28.893237</td>\n",
       "      <td>1</td>\n",
       "    </tr>\n",
       "    <tr>\n",
       "      <th>2</th>\n",
       "      <td>1</td>\n",
       "      <td>80.0</td>\n",
       "      <td>0</td>\n",
       "      <td>1</td>\n",
       "      <td>1</td>\n",
       "      <td>3</td>\n",
       "      <td>1</td>\n",
       "      <td>105.92</td>\n",
       "      <td>32.500000</td>\n",
       "      <td>1</td>\n",
       "    </tr>\n",
       "    <tr>\n",
       "      <th>3</th>\n",
       "      <td>0</td>\n",
       "      <td>49.0</td>\n",
       "      <td>0</td>\n",
       "      <td>0</td>\n",
       "      <td>1</td>\n",
       "      <td>3</td>\n",
       "      <td>0</td>\n",
       "      <td>171.23</td>\n",
       "      <td>34.400000</td>\n",
       "      <td>2</td>\n",
       "    </tr>\n",
       "    <tr>\n",
       "      <th>4</th>\n",
       "      <td>0</td>\n",
       "      <td>79.0</td>\n",
       "      <td>1</td>\n",
       "      <td>0</td>\n",
       "      <td>1</td>\n",
       "      <td>4</td>\n",
       "      <td>1</td>\n",
       "      <td>174.12</td>\n",
       "      <td>24.000000</td>\n",
       "      <td>1</td>\n",
       "    </tr>\n",
       "    <tr>\n",
       "      <th>...</th>\n",
       "      <td>...</td>\n",
       "      <td>...</td>\n",
       "      <td>...</td>\n",
       "      <td>...</td>\n",
       "      <td>...</td>\n",
       "      <td>...</td>\n",
       "      <td>...</td>\n",
       "      <td>...</td>\n",
       "      <td>...</td>\n",
       "      <td>...</td>\n",
       "    </tr>\n",
       "    <tr>\n",
       "      <th>5105</th>\n",
       "      <td>0</td>\n",
       "      <td>80.0</td>\n",
       "      <td>1</td>\n",
       "      <td>0</td>\n",
       "      <td>1</td>\n",
       "      <td>3</td>\n",
       "      <td>0</td>\n",
       "      <td>83.75</td>\n",
       "      <td>28.893237</td>\n",
       "      <td>1</td>\n",
       "    </tr>\n",
       "    <tr>\n",
       "      <th>5106</th>\n",
       "      <td>0</td>\n",
       "      <td>81.0</td>\n",
       "      <td>0</td>\n",
       "      <td>0</td>\n",
       "      <td>1</td>\n",
       "      <td>4</td>\n",
       "      <td>0</td>\n",
       "      <td>125.20</td>\n",
       "      <td>40.000000</td>\n",
       "      <td>1</td>\n",
       "    </tr>\n",
       "    <tr>\n",
       "      <th>5107</th>\n",
       "      <td>0</td>\n",
       "      <td>35.0</td>\n",
       "      <td>0</td>\n",
       "      <td>0</td>\n",
       "      <td>1</td>\n",
       "      <td>4</td>\n",
       "      <td>1</td>\n",
       "      <td>82.99</td>\n",
       "      <td>30.600000</td>\n",
       "      <td>1</td>\n",
       "    </tr>\n",
       "    <tr>\n",
       "      <th>5108</th>\n",
       "      <td>1</td>\n",
       "      <td>51.0</td>\n",
       "      <td>0</td>\n",
       "      <td>0</td>\n",
       "      <td>1</td>\n",
       "      <td>3</td>\n",
       "      <td>1</td>\n",
       "      <td>166.29</td>\n",
       "      <td>25.600000</td>\n",
       "      <td>0</td>\n",
       "    </tr>\n",
       "    <tr>\n",
       "      <th>5109</th>\n",
       "      <td>0</td>\n",
       "      <td>44.0</td>\n",
       "      <td>0</td>\n",
       "      <td>0</td>\n",
       "      <td>1</td>\n",
       "      <td>1</td>\n",
       "      <td>0</td>\n",
       "      <td>85.28</td>\n",
       "      <td>26.200000</td>\n",
       "      <td>2</td>\n",
       "    </tr>\n",
       "  </tbody>\n",
       "</table>\n",
       "<p>5109 rows × 10 columns</p>\n",
       "</div>"
      ],
      "text/plain": [
       "      gender   age  hypertension  heart_disease  ever_married  work_type  \\\n",
       "0          1  67.0             0              1             1          3   \n",
       "1          0  61.0             0              0             1          4   \n",
       "2          1  80.0             0              1             1          3   \n",
       "3          0  49.0             0              0             1          3   \n",
       "4          0  79.0             1              0             1          4   \n",
       "...      ...   ...           ...            ...           ...        ...   \n",
       "5105       0  80.0             1              0             1          3   \n",
       "5106       0  81.0             0              0             1          4   \n",
       "5107       0  35.0             0              0             1          4   \n",
       "5108       1  51.0             0              0             1          3   \n",
       "5109       0  44.0             0              0             1          1   \n",
       "\n",
       "      Residence_type  avg_glucose_level        bmi  smoking_status  \n",
       "0                  0             228.69  36.600000               0  \n",
       "1                  1             202.21  28.893237               1  \n",
       "2                  1             105.92  32.500000               1  \n",
       "3                  0             171.23  34.400000               2  \n",
       "4                  1             174.12  24.000000               1  \n",
       "...              ...                ...        ...             ...  \n",
       "5105               0              83.75  28.893237               1  \n",
       "5106               0             125.20  40.000000               1  \n",
       "5107               1              82.99  30.600000               1  \n",
       "5108               1             166.29  25.600000               0  \n",
       "5109               0              85.28  26.200000               2  \n",
       "\n",
       "[5109 rows x 10 columns]"
      ]
     },
     "execution_count": 510,
     "metadata": {},
     "output_type": "execute_result"
    }
   ],
   "source": [
    "X = df.iloc[:, df.columns != 'stroke']\n",
    "y = df.stroke\n",
    "\n",
    "X"
   ]
  },
  {
   "attachments": {},
   "cell_type": "markdown",
   "metadata": {},
   "source": [
    "### **Membuat function melakukan visualisasi distribusi kelas**\n",
    "\n",
    "Visualisasi dilakukan menggunakan library  `Matplotlib`\n",
    "Untuk mempermudah akan dibentuk dalam 1 function \n",
    "```python \n",
    "def viz_distribution_of_class(X,y, col_idx, title) \n",
    "```\n",
    "\n",
    "| Parameter | Deskripsi | Data Type |\n",
    "| --------- | --------- | --------- |\n",
    "| X | Fitur pada dataset | Numpy Array | \n",
    "| y | Kelas pada dataset | Numpy Array |\n",
    "| col_idx | index column yang merepresentasikan dataset | Tupple [0, 1] |\n",
    "| title | Title Visualisasi (default \"\") | String / None |\n"
   ]
  },
  {
   "cell_type": "code",
   "execution_count": 511,
   "metadata": {},
   "outputs": [],
   "source": [
    "from collections import Counter\n",
    "from matplotlib import pyplot\n",
    "from numpy import where\n",
    "\n",
    "\n",
    "def viz_distribution_of_class(X, y, col_idx, title=\"\") -> None:\n",
    "    plt = pyplot\n",
    "    counter = Counter(y)\n",
    "    print(counter)\n",
    "    # scatter plot of examples by class label\n",
    "    for label, _ in counter.items():\n",
    "        row_ix = where(y != label)[0]\n",
    "        plt.title(title)\n",
    "        plt.scatter(X[row_ix, col_idx[0]], X[row_ix, col_idx[1]], label=str(label))\n",
    "        plt.legend()\n",
    "    plt.show()"
   ]
  },
  {
   "attachments": {},
   "cell_type": "markdown",
   "metadata": {},
   "source": [
    "### Visualisasi Distribusi kelas sebelum dilakukan resampling"
   ]
  },
  {
   "cell_type": "code",
   "execution_count": 512,
   "metadata": {},
   "outputs": [
    {
     "name": "stdout",
     "output_type": "stream",
     "text": [
      "Counter({0: 4860, 1: 249})\n"
     ]
    },
    {
     "data": {
      "image/png": "[encoded data removed]",
      "text/plain": [
       "<Figure size 432x288 with 1 Axes>"
      ]
     },
     "metadata": {
      "needs_background": "light"
     },
     "output_type": "display_data"
    }
   ],
   "source": [
    "from sklearn.preprocessing import MinMaxScaler\n",
    "\n",
    "scaler = MinMaxScaler()\n",
    "X_scaled = scaler.fit_transform(X)\n",
    "\n",
    "viz_distribution_of_class(X_scaled, y, [1,8], title=\"Sebelum Dilakukan Resampling\")"
   ]
  },
  {
   "attachments": {},
   "cell_type": "markdown",
   "metadata": {},
   "source": [
    "### Visualisasi Distribusi Kelas Setelah dilakukan SMOTE"
   ]
  },
  {
   "cell_type": "code",
   "execution_count": 513,
   "metadata": {},
   "outputs": [
    {
     "name": "stdout",
     "output_type": "stream",
     "text": [
      "Counter({1: 4860, 0: 4860})\n"
     ]
    },
    {
     "data": {
      "image/png": "[encoded data removed]",
      "text/plain": [
       "<Figure size 432x288 with 1 Axes>"
      ]
     },
     "metadata": {
      "needs_background": "light"
     },
     "output_type": "display_data"
    }
   ],
   "source": [
    "from imblearn.over_sampling import SMOTE\n",
    "\n",
    "sm_oversampl = SMOTE()\n",
    "X_oversampling, y_oversampling = sm_oversampl.fit_resample(X_scaled, y)\n",
    "\n",
    "viz_distribution_of_class(X_oversampling, y_oversampling, [1,8], title=\"Setelah dilakukan SMOTE\")"
   ]
  },
  {
   "attachments": {},
   "cell_type": "markdown",
   "metadata": {},
   "source": [
    "### Visualisasi Distribusi Kelas Setelah dilakukan SMOTE + TomekLink"
   ]
  },
  {
   "cell_type": "code",
   "execution_count": 514,
   "metadata": {},
   "outputs": [
    {
     "name": "stdout",
     "output_type": "stream",
     "text": [
      "Counter({0: 4860, 1: 4800})\n"
     ]
    },
    {
     "data": {
      "image/png": "[encoded data removed]",
      "text/plain": [
       "<Figure size 432x288 with 1 Axes>"
      ]
     },
     "metadata": {
      "needs_background": "light"
     },
     "output_type": "display_data"
    }
   ],
   "source": [
    "from imblearn.under_sampling import TomekLinks\n",
    "\n",
    "\n",
    "tomekLink = TomekLinks()\n",
    "X_tomekLink, y_tomekLink = tomekLink.fit_resample(X_oversampling, y_oversampling)\n",
    "\n",
    "viz_distribution_of_class(X_tomekLink, y_tomekLink, [1,8], title=\"Setelah Dilakukan SMOTE + TomekLink\")"
   ]
  },
  {
   "attachments": {},
   "cell_type": "markdown",
   "metadata": {},
   "source": [
    "### Visualisasi Distribusi Kelas Setelah dilakukan SMOTE + ENN"
   ]
  },
  {
   "cell_type": "code",
   "execution_count": 515,
   "metadata": {},
   "outputs": [
    {
     "name": "stdout",
     "output_type": "stream",
     "text": [
      "Counter({0: 4860, 1: 4376})\n"
     ]
    },
    {
     "data": {
      "image/png": "[encoded data removed]",
      "text/plain": [
       "<Figure size 432x288 with 1 Axes>"
      ]
     },
     "metadata": {
      "needs_background": "light"
     },
     "output_type": "display_data"
    }
   ],
   "source": [
    "from imblearn.under_sampling import EditedNearestNeighbours\n",
    "\n",
    "enn = EditedNearestNeighbours()\n",
    "X_enn, y_enn = enn.fit_resample(X_oversampling, y_oversampling)\n",
    "\n",
    "viz_distribution_of_class(X_enn, y_enn, [1,8], title=\"Setelah Dilakukan SMOTE + ENN\")"
   ]
  },
  {
   "attachments": {},
   "cell_type": "markdown",
   "metadata": {},
   "source": [
    "### **Process Evaluasi Model Menggunakan 10-cross-validation**\n",
    "\n",
    "1. Tanpa Seleksi Fitur Information Gain :\n",
    "    - SMOTE\n",
    "    - SMOTE + TomekLink\n",
    "    - SMOTE + ENN\n",
    "\n",
    "2. Menggunakan Seleksi Fitur Information Gain :\n",
    "    - SMOTE\n",
    "    - SMOTE + TomekLink\n",
    "    - SMOTE + ENN\n",
    "\n",
    "Evaluasi Model berupa :\n",
    "- F-measure\n",
    "- ROC / AUC\n",
    "\n",
    "Source Belajar : \n",
    "1. [SMOTE for imbalanced dataset](https://machinelearningmastery.com/smote-oversampling-for-imbalanced-classification/)"
   ]
  },
  {
   "cell_type": "code",
   "execution_count": 516,
   "metadata": {},
   "outputs": [],
   "source": [
    "from sklearn.neighbors import KNeighborsClassifier\n",
    "from imblearn.pipeline import Pipeline\n",
    "from sklearn.model_selection import KFold\n",
    "from sklearn.model_selection import cross_validate\n",
    "\n",
    "# Resampling \n",
    "\n",
    "class Evaluate():\n",
    "    def __init__(self, _X, _y):\n",
    "        self._x = _X\n",
    "        self._y = _y\n",
    "        self.result = []\n",
    "\n",
    "    def print_result(self):\n",
    "        result_df = pd.DataFrame.from_records(self.result)\n",
    "        print(result_df)\n",
    "\n",
    "    def _mutation_dataframe_cv(self, action, pipeline, cv):\n",
    "        scores = cross_validate(pipeline, self._x, self._y, scoring=['accuracy', 'precision', 'recall', 'f1', 'roc_auc'], cv=cv, n_jobs=-1)\n",
    "        _result = {\n",
    "            'action': action,\n",
    "            'attribute': self._x.shape[1],\n",
    "            'label': f\"{action}_{self._x.shape[1]}\"\n",
    "        }\n",
    "        for key in scores:\n",
    "            _result[key] = np.mean(scores[key])\n",
    "        self.result.append(_result)\n",
    "\n",
    "    def cross_validate(self):\n",
    "        oversampling = SMOTE(random_state=42)\n",
    "        tl = TomekLinks()\n",
    "        enn = EditedNearestNeighbours(sampling_strategy=\"all\")\n",
    "\n",
    "        model = KNeighborsClassifier(n_neighbors=3 ,weights='distance', metric='euclidean')\n",
    "\n",
    "        pipeline_smote = Pipeline(steps = [\n",
    "            ['over', oversampling],\n",
    "            ['classifier', model]\n",
    "        ])\n",
    "\n",
    "        pipeline_smote_tomek = Pipeline(steps = [\n",
    "            ['over', oversampling],\n",
    "            ['tomek', tl],\n",
    "            ['classifier', model],\n",
    "        ])\n",
    "\n",
    "        pipeline_smote_enn = Pipeline(steps = [\n",
    "            ['over', oversampling],\n",
    "            ['enn', enn],\n",
    "            ['classifier', model],\n",
    "        ])\n",
    "\n",
    "        cv = KFold(n_splits=10,random_state=1, shuffle=True)\n",
    "\n",
    "        self._mutation_dataframe_cv(action=\"SMOTE\",pipeline=pipeline_smote, cv=cv )\n",
    "        self._mutation_dataframe_cv(action=\"SMOTE-Tomek\", pipeline=pipeline_smote_tomek,cv=cv)\n",
    "        self._mutation_dataframe_cv(action=\"SMOTE-ENN\", pipeline=pipeline_smote_enn,cv=cv)\n",
    "\n",
    "        \n",
    "        # result_df.set_index('action')\n",
    "\n",
    "        return self\n",
    "        # def print_scores(scores, title: str=''):\n",
    "        #     print(title)\n",
    "        #     for key in scores:\n",
    "        #         print(f\"{key}: {np.mean(scores[key])}\")\n",
    "        #     print(\"\\n\")\n",
    "\n",
    "        # print_scores(scores_smote, 'evaluasi 10 cross validation SMOTE')\n",
    "        # print_scores(scores_smote_tomek, 'evaluasi 10 cross validation SMOTE-TomekLinks')\n",
    "        # print_scores(scores_smote_enn, 'evaluasi 10 cross validation SMOTE-ENN')\n"
   ]
  },
  {
   "cell_type": "code",
   "execution_count": 517,
   "metadata": {},
   "outputs": [
    {
     "name": "stdout",
     "output_type": "stream",
     "text": [
      "        action  attribute           label  fit_time  score_time  \\\n",
      "0        SMOTE         10        SMOTE_10  0.064300    0.197098   \n",
      "1  SMOTE-Tomek         10  SMOTE-Tomek_10  0.865491    0.107580   \n",
      "2    SMOTE-ENN         10    SMOTE-ENN_10  0.972497    0.089803   \n",
      "\n",
      "   test_accuracy  test_precision  test_recall   test_f1  test_roc_auc  \n",
      "0       0.840483        0.093190     0.261687  0.135053      0.621732  \n",
      "1       0.843223        0.094784     0.261687  0.136653      0.617398  \n",
      "2       0.790183        0.109644     0.467787  0.175426      0.666827  \n"
     ]
    }
   ],
   "source": [
    "standart_evaluate = Evaluate(X_scaled, y)\n",
    "standart_evaluate.cross_validate().print_result()"
   ]
  },
  {
   "attachments": {},
   "cell_type": "markdown",
   "metadata": {},
   "source": [
    "## Percobaan Evaluasi model dengan tambahan Seleksi Fitur\n",
    "\n",
    "Seleksi Fitur : **Information Gain**\n",
    "\n",
    "Source Belajar :\n",
    "1. [How to implement Information Gain using python](https://www.youtube.com/watch?v=81JSbXZ26Ls&ab_channel=KrishNaik)"
   ]
  },
  {
   "cell_type": "code",
   "execution_count": 518,
   "metadata": {},
   "outputs": [
    {
     "data": {
      "text/plain": [
       "age                  0.034485\n",
       "bmi                  0.010441\n",
       "work_type            0.006693\n",
       "ever_married         0.006379\n",
       "avg_glucose_level    0.006238\n",
       "heart_disease        0.004897\n",
       "gender               0.004171\n",
       "hypertension         0.003540\n",
       "smoking_status       0.001582\n",
       "Residence_type       0.000740\n",
       "dtype: float64"
      ]
     },
     "execution_count": 518,
     "metadata": {},
     "output_type": "execute_result"
    }
   ],
   "source": [
    "from sklearn.feature_selection import mutual_info_classif\n",
    "\n",
    "mutual_info = mutual_info_classif(X_scaled, y, random_state=1)\n",
    "mutual_info = pd.Series(mutual_info)\n",
    "mutual_info.index = df.iloc[:, df.columns != 'stroke'].columns\n",
    "mutual_info.sort_values(ascending=False)\n",
    "\n",
    "# ig_zipped = zip(df.iloc[:, df.columns != 'stroke'].columns, mutual_info_classif(X_scaled,y, random_state=1))\n",
    "# ig_df = pd.DataFrame(sorted(ig_zipped, key=lambda x: x[1], reverse=True), columns=['Features', 'entrophy'])\n",
    "# ig_df\n"
   ]
  },
  {
   "cell_type": "code",
   "execution_count": 519,
   "metadata": {},
   "outputs": [
    {
     "data": {
      "text/plain": [
       "<Axes: >"
      ]
     },
     "execution_count": 519,
     "metadata": {},
     "output_type": "execute_result"
    },
    {
     "data": {
      "image/png": "[encoded data removed]",
      "text/plain": [
       "<Figure size 1440x576 with 1 Axes>"
      ]
     },
     "metadata": {
      "needs_background": "light"
     },
     "output_type": "display_data"
    }
   ],
   "source": [
    "mutual_info.sort_values(ascending=False).plot.bar(figsize=(20,8))"
   ]
  },
  {
   "cell_type": "code",
   "execution_count": 520,
   "metadata": {},
   "outputs": [],
   "source": [
    "from sklearn.feature_selection import SelectKBest"
   ]
  },
  {
   "cell_type": "code",
   "execution_count": 521,
   "metadata": {},
   "outputs": [],
   "source": [
    "def mic_static_random(X,y):\n",
    "    return mutual_info_classif(X,y, random_state=1)\n",
    "\n",
    "sel_five_cols = SelectKBest(mic_static_random, k=5)\n",
    "sel_five_cols.fit(X_scaled, y)\n",
    "\n",
    "X_ig = pd.DataFrame(X_scaled, columns=X.columns).iloc[:, sel_five_cols.get_support()]"
   ]
  },
  {
   "cell_type": "code",
   "execution_count": 522,
   "metadata": {},
   "outputs": [
    {
     "name": "stdout",
     "output_type": "stream",
     "text": [
      "        action  attribute          label  fit_time  score_time  test_accuracy  \\\n",
      "0        SMOTE          5        SMOTE_5  0.101291    0.164102       0.813277   \n",
      "1  SMOTE-Tomek          5  SMOTE-Tomek_5  0.507893    0.081397       0.818170   \n",
      "2    SMOTE-ENN          5    SMOTE-ENN_5  0.296690    0.043000       0.765714   \n",
      "\n",
      "   test_precision  test_recall   test_f1  test_roc_auc  \n",
      "0        0.104082     0.356927  0.159655      0.651199  \n",
      "1        0.106457     0.354602  0.162186      0.650486  \n",
      "2        0.117836     0.585110  0.194577      0.708644  \n"
     ]
    }
   ],
   "source": [
    "selection_features_evaluate = Evaluate(X_ig, y)\n",
    "selection_features_evaluate.cross_validate().print_result()"
   ]
  },
  {
   "attachments": {},
   "cell_type": "markdown",
   "metadata": {},
   "source": [
    "## Percobaan evaluasi model menggunakan Seleksi Fitur dengan banyak fitur 5-10"
   ]
  },
  {
   "cell_type": "code",
   "execution_count": 523,
   "metadata": {},
   "outputs": [],
   "source": [
    "test_k_best = [5,6,7,8,9,10]\n",
    "\n",
    "temp_result_val = []\n",
    "for i in test_k_best:\n",
    "    sel_five_cols = SelectKBest(mic_static_random, k=i)\n",
    "    sel_five_cols.fit(X_scaled, y)\n",
    "\n",
    "    test_X_ig = pd.DataFrame(X_scaled, columns=X.columns).iloc[:, sel_five_cols.get_support()]\n",
    "    selection_features_evaluate = Evaluate(test_X_ig, y)\n",
    "    selection_features_evaluate.cross_validate()\n",
    "    temp_result_val.append(selection_features_evaluate.result)\n",
    "\n",
    "temp_result_val = np.array(temp_result_val).flatten()"
   ]
  },
  {
   "cell_type": "code",
   "execution_count": 524,
   "metadata": {},
   "outputs": [
    {
     "data": {
      "text/html": [
       "<div>\n",
       "<style scoped>\n",
       "    .dataframe tbody tr th:only-of-type {\n",
       "        vertical-align: middle;\n",
       "    }\n",
       "\n",
       "    .dataframe tbody tr th {\n",
       "        vertical-align: top;\n",
       "    }\n",
       "\n",
       "    .dataframe thead th {\n",
       "        text-align: right;\n",
       "    }\n",
       "</style>\n",
       "<table border=\"1\" class=\"dataframe\">\n",
       "  <thead>\n",
       "    <tr style=\"text-align: right;\">\n",
       "      <th></th>\n",
       "      <th>action</th>\n",
       "      <th>attribute</th>\n",
       "      <th>label</th>\n",
       "      <th>fit_time</th>\n",
       "      <th>score_time</th>\n",
       "      <th>test_accuracy</th>\n",
       "      <th>test_precision</th>\n",
       "      <th>test_recall</th>\n",
       "      <th>test_f1</th>\n",
       "      <th>test_roc_auc</th>\n",
       "    </tr>\n",
       "  </thead>\n",
       "  <tbody>\n",
       "    <tr>\n",
       "      <th>0</th>\n",
       "      <td>SMOTE</td>\n",
       "      <td>5</td>\n",
       "      <td>SMOTE_5</td>\n",
       "      <td>0.050097</td>\n",
       "      <td>0.075904</td>\n",
       "      <td>0.813277</td>\n",
       "      <td>0.104082</td>\n",
       "      <td>0.356927</td>\n",
       "      <td>0.159655</td>\n",
       "      <td>0.651199</td>\n",
       "    </tr>\n",
       "    <tr>\n",
       "      <th>3</th>\n",
       "      <td>SMOTE</td>\n",
       "      <td>6</td>\n",
       "      <td>SMOTE_6</td>\n",
       "      <td>0.097689</td>\n",
       "      <td>0.183803</td>\n",
       "      <td>0.818168</td>\n",
       "      <td>0.106385</td>\n",
       "      <td>0.366562</td>\n",
       "      <td>0.163482</td>\n",
       "      <td>0.651486</td>\n",
       "    </tr>\n",
       "    <tr>\n",
       "      <th>6</th>\n",
       "      <td>SMOTE</td>\n",
       "      <td>7</td>\n",
       "      <td>SMOTE_7</td>\n",
       "      <td>0.040692</td>\n",
       "      <td>0.081202</td>\n",
       "      <td>0.825412</td>\n",
       "      <td>0.119292</td>\n",
       "      <td>0.401212</td>\n",
       "      <td>0.181928</td>\n",
       "      <td>0.672806</td>\n",
       "    </tr>\n",
       "    <tr>\n",
       "      <th>9</th>\n",
       "      <td>SMOTE</td>\n",
       "      <td>8</td>\n",
       "      <td>SMOTE_8</td>\n",
       "      <td>0.110888</td>\n",
       "      <td>0.258206</td>\n",
       "      <td>0.827567</td>\n",
       "      <td>0.115011</td>\n",
       "      <td>0.369381</td>\n",
       "      <td>0.173860</td>\n",
       "      <td>0.649927</td>\n",
       "    </tr>\n",
       "    <tr>\n",
       "      <th>12</th>\n",
       "      <td>SMOTE</td>\n",
       "      <td>9</td>\n",
       "      <td>SMOTE_9</td>\n",
       "      <td>0.128886</td>\n",
       "      <td>0.250906</td>\n",
       "      <td>0.843808</td>\n",
       "      <td>0.118882</td>\n",
       "      <td>0.337746</td>\n",
       "      <td>0.172938</td>\n",
       "      <td>0.641212</td>\n",
       "    </tr>\n",
       "    <tr>\n",
       "      <th>15</th>\n",
       "      <td>SMOTE</td>\n",
       "      <td>10</td>\n",
       "      <td>SMOTE_10</td>\n",
       "      <td>0.111196</td>\n",
       "      <td>0.266398</td>\n",
       "      <td>0.840483</td>\n",
       "      <td>0.093190</td>\n",
       "      <td>0.261687</td>\n",
       "      <td>0.135053</td>\n",
       "      <td>0.621732</td>\n",
       "    </tr>\n",
       "    <tr>\n",
       "      <th>2</th>\n",
       "      <td>SMOTE-ENN</td>\n",
       "      <td>5</td>\n",
       "      <td>SMOTE-ENN_5</td>\n",
       "      <td>0.315296</td>\n",
       "      <td>0.045706</td>\n",
       "      <td>0.765714</td>\n",
       "      <td>0.117836</td>\n",
       "      <td>0.585110</td>\n",
       "      <td>0.194577</td>\n",
       "      <td>0.708644</td>\n",
       "    </tr>\n",
       "    <tr>\n",
       "      <th>5</th>\n",
       "      <td>SMOTE-ENN</td>\n",
       "      <td>6</td>\n",
       "      <td>SMOTE-ENN_6</td>\n",
       "      <td>0.498593</td>\n",
       "      <td>0.065399</td>\n",
       "      <td>0.772565</td>\n",
       "      <td>0.112458</td>\n",
       "      <td>0.540871</td>\n",
       "      <td>0.184514</td>\n",
       "      <td>0.691739</td>\n",
       "    </tr>\n",
       "    <tr>\n",
       "      <th>8</th>\n",
       "      <td>SMOTE-ENN</td>\n",
       "      <td>7</td>\n",
       "      <td>SMOTE-ENN_7</td>\n",
       "      <td>1.065789</td>\n",
       "      <td>0.077902</td>\n",
       "      <td>0.777851</td>\n",
       "      <td>0.120978</td>\n",
       "      <td>0.567399</td>\n",
       "      <td>0.197425</td>\n",
       "      <td>0.703383</td>\n",
       "    </tr>\n",
       "    <tr>\n",
       "      <th>11</th>\n",
       "      <td>SMOTE-ENN</td>\n",
       "      <td>8</td>\n",
       "      <td>SMOTE-ENN_8</td>\n",
       "      <td>1.174386</td>\n",
       "      <td>0.077799</td>\n",
       "      <td>0.775503</td>\n",
       "      <td>0.113737</td>\n",
       "      <td>0.526545</td>\n",
       "      <td>0.185199</td>\n",
       "      <td>0.689126</td>\n",
       "    </tr>\n",
       "    <tr>\n",
       "      <th>14</th>\n",
       "      <td>SMOTE-ENN</td>\n",
       "      <td>9</td>\n",
       "      <td>SMOTE-ENN_9</td>\n",
       "      <td>1.184689</td>\n",
       "      <td>0.081998</td>\n",
       "      <td>0.784500</td>\n",
       "      <td>0.106476</td>\n",
       "      <td>0.449570</td>\n",
       "      <td>0.169573</td>\n",
       "      <td>0.665650</td>\n",
       "    </tr>\n",
       "    <tr>\n",
       "      <th>17</th>\n",
       "      <td>SMOTE-ENN</td>\n",
       "      <td>10</td>\n",
       "      <td>SMOTE-ENN_10</td>\n",
       "      <td>1.209598</td>\n",
       "      <td>0.137102</td>\n",
       "      <td>0.790183</td>\n",
       "      <td>0.109644</td>\n",
       "      <td>0.467787</td>\n",
       "      <td>0.175426</td>\n",
       "      <td>0.666827</td>\n",
       "    </tr>\n",
       "    <tr>\n",
       "      <th>1</th>\n",
       "      <td>SMOTE-Tomek</td>\n",
       "      <td>5</td>\n",
       "      <td>SMOTE-Tomek_5</td>\n",
       "      <td>0.403488</td>\n",
       "      <td>0.062097</td>\n",
       "      <td>0.818170</td>\n",
       "      <td>0.106457</td>\n",
       "      <td>0.354602</td>\n",
       "      <td>0.162186</td>\n",
       "      <td>0.650486</td>\n",
       "    </tr>\n",
       "    <tr>\n",
       "      <th>4</th>\n",
       "      <td>SMOTE-Tomek</td>\n",
       "      <td>6</td>\n",
       "      <td>SMOTE-Tomek_6</td>\n",
       "      <td>0.836984</td>\n",
       "      <td>0.079406</td>\n",
       "      <td>0.821887</td>\n",
       "      <td>0.106882</td>\n",
       "      <td>0.359888</td>\n",
       "      <td>0.163320</td>\n",
       "      <td>0.648104</td>\n",
       "    </tr>\n",
       "    <tr>\n",
       "      <th>7</th>\n",
       "      <td>SMOTE-Tomek</td>\n",
       "      <td>7</td>\n",
       "      <td>SMOTE-Tomek_7</td>\n",
       "      <td>0.495393</td>\n",
       "      <td>0.082004</td>\n",
       "      <td>0.829717</td>\n",
       "      <td>0.118709</td>\n",
       "      <td>0.386487</td>\n",
       "      <td>0.179554</td>\n",
       "      <td>0.669594</td>\n",
       "    </tr>\n",
       "    <tr>\n",
       "      <th>10</th>\n",
       "      <td>SMOTE-Tomek</td>\n",
       "      <td>8</td>\n",
       "      <td>SMOTE-Tomek_8</td>\n",
       "      <td>0.945078</td>\n",
       "      <td>0.077000</td>\n",
       "      <td>0.831089</td>\n",
       "      <td>0.114213</td>\n",
       "      <td>0.354259</td>\n",
       "      <td>0.171039</td>\n",
       "      <td>0.640088</td>\n",
       "    </tr>\n",
       "    <tr>\n",
       "      <th>13</th>\n",
       "      <td>SMOTE-Tomek</td>\n",
       "      <td>9</td>\n",
       "      <td>SMOTE-Tomek_9</td>\n",
       "      <td>1.033957</td>\n",
       "      <td>0.086397</td>\n",
       "      <td>0.846744</td>\n",
       "      <td>0.119444</td>\n",
       "      <td>0.329051</td>\n",
       "      <td>0.172013</td>\n",
       "      <td>0.643074</td>\n",
       "    </tr>\n",
       "    <tr>\n",
       "      <th>16</th>\n",
       "      <td>SMOTE-Tomek</td>\n",
       "      <td>10</td>\n",
       "      <td>SMOTE-Tomek_10</td>\n",
       "      <td>1.318385</td>\n",
       "      <td>0.153898</td>\n",
       "      <td>0.843223</td>\n",
       "      <td>0.094784</td>\n",
       "      <td>0.261687</td>\n",
       "      <td>0.136653</td>\n",
       "      <td>0.617398</td>\n",
       "    </tr>\n",
       "  </tbody>\n",
       "</table>\n",
       "</div>"
      ],
      "text/plain": [
       "         action  attribute           label  fit_time  score_time  \\\n",
       "0         SMOTE          5         SMOTE_5  0.050097    0.075904   \n",
       "3         SMOTE          6         SMOTE_6  0.097689    0.183803   \n",
       "6         SMOTE          7         SMOTE_7  0.040692    0.081202   \n",
       "9         SMOTE          8         SMOTE_8  0.110888    0.258206   \n",
       "12        SMOTE          9         SMOTE_9  0.128886    0.250906   \n",
       "15        SMOTE         10        SMOTE_10  0.111196    0.266398   \n",
       "2     SMOTE-ENN          5     SMOTE-ENN_5  0.315296    0.045706   \n",
       "5     SMOTE-ENN          6     SMOTE-ENN_6  0.498593    0.065399   \n",
       "8     SMOTE-ENN          7     SMOTE-ENN_7  1.065789    0.077902   \n",
       "11    SMOTE-ENN          8     SMOTE-ENN_8  1.174386    0.077799   \n",
       "14    SMOTE-ENN          9     SMOTE-ENN_9  1.184689    0.081998   \n",
       "17    SMOTE-ENN         10    SMOTE-ENN_10  1.209598    0.137102   \n",
       "1   SMOTE-Tomek          5   SMOTE-Tomek_5  0.403488    0.062097   \n",
       "4   SMOTE-Tomek          6   SMOTE-Tomek_6  0.836984    0.079406   \n",
       "7   SMOTE-Tomek          7   SMOTE-Tomek_7  0.495393    0.082004   \n",
       "10  SMOTE-Tomek          8   SMOTE-Tomek_8  0.945078    0.077000   \n",
       "13  SMOTE-Tomek          9   SMOTE-Tomek_9  1.033957    0.086397   \n",
       "16  SMOTE-Tomek         10  SMOTE-Tomek_10  1.318385    0.153898   \n",
       "\n",
       "    test_accuracy  test_precision  test_recall   test_f1  test_roc_auc  \n",
       "0        0.813277        0.104082     0.356927  0.159655      0.651199  \n",
       "3        0.818168        0.106385     0.366562  0.163482      0.651486  \n",
       "6        0.825412        0.119292     0.401212  0.181928      0.672806  \n",
       "9        0.827567        0.115011     0.369381  0.173860      0.649927  \n",
       "12       0.843808        0.118882     0.337746  0.172938      0.641212  \n",
       "15       0.840483        0.093190     0.261687  0.135053      0.621732  \n",
       "2        0.765714        0.117836     0.585110  0.194577      0.708644  \n",
       "5        0.772565        0.112458     0.540871  0.184514      0.691739  \n",
       "8        0.777851        0.120978     0.567399  0.197425      0.703383  \n",
       "11       0.775503        0.113737     0.526545  0.185199      0.689126  \n",
       "14       0.784500        0.106476     0.449570  0.169573      0.665650  \n",
       "17       0.790183        0.109644     0.467787  0.175426      0.666827  \n",
       "1        0.818170        0.106457     0.354602  0.162186      0.650486  \n",
       "4        0.821887        0.106882     0.359888  0.163320      0.648104  \n",
       "7        0.829717        0.118709     0.386487  0.179554      0.669594  \n",
       "10       0.831089        0.114213     0.354259  0.171039      0.640088  \n",
       "13       0.846744        0.119444     0.329051  0.172013      0.643074  \n",
       "16       0.843223        0.094784     0.261687  0.136653      0.617398  "
      ]
     },
     "execution_count": 524,
     "metadata": {},
     "output_type": "execute_result"
    }
   ],
   "source": [
    "result_evaluate = pd.DataFrame.from_records(temp_result_val)\n",
    "result_evaluate.sort_values(['action','attribute'])"
   ]
  },
  {
   "cell_type": "code",
   "execution_count": 525,
   "metadata": {},
   "outputs": [],
   "source": [
    "def viz_evaluate(x, y, title=''):\n",
    "    plt.figure(figsize=(24,6))\n",
    "    plt.bar(x, y)\n",
    "\n",
    "    plt.xticks(fontsize=8)\n",
    "\n",
    "    plt.xlabel('Method')\n",
    "    plt.ylabel('Values')\n",
    "\n",
    "    plt.title(title)\n",
    "    plt.show()"
   ]
  },
  {
   "cell_type": "code",
   "execution_count": 531,
   "metadata": {},
   "outputs": [
    {
     "data": {
      "image/png": "[encoded data removed]",
      "text/plain": [
       "<Figure size 1728x432 with 1 Axes>"
      ]
     },
     "metadata": {
      "needs_background": "light"
     },
     "output_type": "display_data"
    }
   ],
   "source": [
    "by_accuracy = result_evaluate.sort_values('test_accuracy', ascending=False)\n",
    "\n",
    "viz_evaluate(by_accuracy['label'], by_accuracy['test_accuracy'], \"Perbandingan Akurasi\")"
   ]
  },
  {
   "cell_type": "code",
   "execution_count": 534,
   "metadata": {},
   "outputs": [
    {
     "data": {
      "image/png": "[encoded data removed]",
      "text/plain": [
       "<Figure size 1728x432 with 1 Axes>"
      ]
     },
     "metadata": {
      "needs_background": "light"
     },
     "output_type": "display_data"
    }
   ],
   "source": [
    "by_f1 = result_evaluate.sort_values('test_f1', ascending=False)\n",
    "\n",
    "viz_evaluate(by_f1['label'], by_f1['test_f1'], \"Perbandingan F-Measure\")"
   ]
  },
  {
   "cell_type": "code",
   "execution_count": 536,
   "metadata": {},
   "outputs": [
    {
     "data": {
      "image/png": "[encoded data removed]",
      "text/plain": [
       "<Figure size 1728x432 with 1 Axes>"
      ]
     },
     "metadata": {
      "needs_background": "light"
     },
     "output_type": "display_data"
    }
   ],
   "source": [
    "by_roc_auc = result_evaluate.sort_values('test_roc_auc', ascending=False)\n",
    "\n",
    "viz_evaluate(by_roc_auc['label'], by_roc_auc['test_roc_auc'], \"Perbandingan ROC AUC\")\n"
   ]
  },
  {
   "attachments": {},
   "cell_type": "markdown",
   "metadata": {},
   "source": [
    "### Hasil Evaluasi\n",
    "\n",
    "Top Rank tiap nilai evaluasi:\n",
    "- Akurasi : SMOTE-Tomek (attribute 9)\n",
    "- F-Measure : SMOTE-ENN (attribute 7)\n",
    "- ROC-AUC : SMOTE-ENN (attribute 5)"
   ]
  }
 ],
 "metadata": {
  "kernelspec": {
   "display_name": "Python 3",
   "language": "python",
   "name": "python3"
  },
  "language_info": {
   "codemirror_mode": {
    "name": "ipython",
    "version": 3
   },
   "file_extension": ".py",
   "mimetype": "text/x-python",
   "name": "python",
   "nbconvert_exporter": "python",
   "pygments_lexer": "ipython3",
   "version": "3.10.11"
  },
  "orig_nbformat": 4
 },
 "nbformat": 4,
 "nbformat_minor": 2
}
