{
 "cells": [
  {
   "cell_type": "code",
   "execution_count": 7,
   "metadata": {},
   "outputs": [],
   "source": [
    "import pandas as pd\n",
    "from pandas.core.frame import DataFrame\n",
    "import matplotlib.pyplot as plt\n",
    "\n",
    "import numpy as np\n",
    "import seaborn as sns\n",
    "\n",
    "filename = 'healthcare-dataset-stroke-data.csv'\n",
    "cols = ['gender','age','hypertension','heart_disease','ever_married', 'work_type', 'Residence_type','avg_glucose_level','bmi', 'smoking_status','stroke']\n",
    "\n",
    "df = pd.read_csv(filename, usecols=cols)"
   ]
  },
  {
   "cell_type": "code",
   "execution_count": 8,
   "metadata": {},
   "outputs": [
    {
     "name": "stdout",
     "output_type": "stream",
     "text": [
      "Non-Numeric columns:\n",
      "gender\n",
      "ever_married\n",
      "work_type\n",
      "Residence_type\n",
      "smoking_status\n",
      "\n",
      "Numeric columns:\n",
      "age\n",
      "hypertension\n",
      "heart_disease\n",
      "avg_glucose_level\n",
      "bmi\n",
      "stroke\n"
     ]
    }
   ],
   "source": [
    "# Check datatype each column of dataframe\n",
    "cat_df = df.select_dtypes(include=['object'])\n",
    "num_df = df.select_dtypes(exclude=['object'])\n",
    "\n",
    "def printColumnTypes(non_numeric_df: DataFrame, numeric_df: DataFrame):\n",
    "    '''separates non-numeric and numeric columns'''\n",
    "    print(\"Non-Numeric columns:\")\n",
    "    for col in non_numeric_df:\n",
    "        print(f\"{col}\")\n",
    "    print(\"\")\n",
    "    print(\"Numeric columns:\")\n",
    "    for col in numeric_df:\n",
    "        print(f\"{col}\")\n",
    "\n",
    "printColumnTypes(cat_df, num_df)"
   ]
  },
  {
   "cell_type": "code",
   "execution_count": 10,
   "metadata": {},
   "outputs": [
    {
     "data": {
      "text/html": [
       "<div>\n",
       "<style scoped>\n",
       "    .dataframe tbody tr th:only-of-type {\n",
       "        vertical-align: middle;\n",
       "    }\n",
       "\n",
       "    .dataframe tbody tr th {\n",
       "        vertical-align: top;\n",
       "    }\n",
       "\n",
       "    .dataframe thead th {\n",
       "        text-align: right;\n",
       "    }\n",
       "</style>\n",
       "<table border=\"1\" class=\"dataframe\">\n",
       "  <thead>\n",
       "    <tr style=\"text-align: right;\">\n",
       "      <th></th>\n",
       "      <th>gender</th>\n",
       "      <th>age</th>\n",
       "      <th>hypertension</th>\n",
       "      <th>heart_disease</th>\n",
       "      <th>ever_married</th>\n",
       "      <th>work_type</th>\n",
       "      <th>Residence_type</th>\n",
       "      <th>avg_glucose_level</th>\n",
       "      <th>bmi</th>\n",
       "      <th>smoking_status</th>\n",
       "      <th>stroke</th>\n",
       "    </tr>\n",
       "  </thead>\n",
       "  <tbody>\n",
       "    <tr>\n",
       "      <th>count</th>\n",
       "      <td>5110</td>\n",
       "      <td>5110.000000</td>\n",
       "      <td>5110.000000</td>\n",
       "      <td>5110.000000</td>\n",
       "      <td>5110</td>\n",
       "      <td>5110</td>\n",
       "      <td>5110</td>\n",
       "      <td>5110.000000</td>\n",
       "      <td>4909.000000</td>\n",
       "      <td>5110</td>\n",
       "      <td>5110.000000</td>\n",
       "    </tr>\n",
       "    <tr>\n",
       "      <th>unique</th>\n",
       "      <td>3</td>\n",
       "      <td>NaN</td>\n",
       "      <td>NaN</td>\n",
       "      <td>NaN</td>\n",
       "      <td>2</td>\n",
       "      <td>5</td>\n",
       "      <td>2</td>\n",
       "      <td>NaN</td>\n",
       "      <td>NaN</td>\n",
       "      <td>4</td>\n",
       "      <td>NaN</td>\n",
       "    </tr>\n",
       "    <tr>\n",
       "      <th>top</th>\n",
       "      <td>Female</td>\n",
       "      <td>NaN</td>\n",
       "      <td>NaN</td>\n",
       "      <td>NaN</td>\n",
       "      <td>Yes</td>\n",
       "      <td>Private</td>\n",
       "      <td>Urban</td>\n",
       "      <td>NaN</td>\n",
       "      <td>NaN</td>\n",
       "      <td>never smoked</td>\n",
       "      <td>NaN</td>\n",
       "    </tr>\n",
       "    <tr>\n",
       "      <th>freq</th>\n",
       "      <td>2994</td>\n",
       "      <td>NaN</td>\n",
       "      <td>NaN</td>\n",
       "      <td>NaN</td>\n",
       "      <td>3353</td>\n",
       "      <td>2925</td>\n",
       "      <td>2596</td>\n",
       "      <td>NaN</td>\n",
       "      <td>NaN</td>\n",
       "      <td>1892</td>\n",
       "      <td>NaN</td>\n",
       "    </tr>\n",
       "    <tr>\n",
       "      <th>mean</th>\n",
       "      <td>NaN</td>\n",
       "      <td>43.226614</td>\n",
       "      <td>0.097456</td>\n",
       "      <td>0.054012</td>\n",
       "      <td>NaN</td>\n",
       "      <td>NaN</td>\n",
       "      <td>NaN</td>\n",
       "      <td>106.147677</td>\n",
       "      <td>28.893237</td>\n",
       "      <td>NaN</td>\n",
       "      <td>0.048728</td>\n",
       "    </tr>\n",
       "    <tr>\n",
       "      <th>std</th>\n",
       "      <td>NaN</td>\n",
       "      <td>22.612647</td>\n",
       "      <td>0.296607</td>\n",
       "      <td>0.226063</td>\n",
       "      <td>NaN</td>\n",
       "      <td>NaN</td>\n",
       "      <td>NaN</td>\n",
       "      <td>45.283560</td>\n",
       "      <td>7.854067</td>\n",
       "      <td>NaN</td>\n",
       "      <td>0.215320</td>\n",
       "    </tr>\n",
       "    <tr>\n",
       "      <th>min</th>\n",
       "      <td>NaN</td>\n",
       "      <td>0.080000</td>\n",
       "      <td>0.000000</td>\n",
       "      <td>0.000000</td>\n",
       "      <td>NaN</td>\n",
       "      <td>NaN</td>\n",
       "      <td>NaN</td>\n",
       "      <td>55.120000</td>\n",
       "      <td>10.300000</td>\n",
       "      <td>NaN</td>\n",
       "      <td>0.000000</td>\n",
       "    </tr>\n",
       "    <tr>\n",
       "      <th>25%</th>\n",
       "      <td>NaN</td>\n",
       "      <td>25.000000</td>\n",
       "      <td>0.000000</td>\n",
       "      <td>0.000000</td>\n",
       "      <td>NaN</td>\n",
       "      <td>NaN</td>\n",
       "      <td>NaN</td>\n",
       "      <td>77.245000</td>\n",
       "      <td>23.500000</td>\n",
       "      <td>NaN</td>\n",
       "      <td>0.000000</td>\n",
       "    </tr>\n",
       "    <tr>\n",
       "      <th>50%</th>\n",
       "      <td>NaN</td>\n",
       "      <td>45.000000</td>\n",
       "      <td>0.000000</td>\n",
       "      <td>0.000000</td>\n",
       "      <td>NaN</td>\n",
       "      <td>NaN</td>\n",
       "      <td>NaN</td>\n",
       "      <td>91.885000</td>\n",
       "      <td>28.100000</td>\n",
       "      <td>NaN</td>\n",
       "      <td>0.000000</td>\n",
       "    </tr>\n",
       "    <tr>\n",
       "      <th>75%</th>\n",
       "      <td>NaN</td>\n",
       "      <td>61.000000</td>\n",
       "      <td>0.000000</td>\n",
       "      <td>0.000000</td>\n",
       "      <td>NaN</td>\n",
       "      <td>NaN</td>\n",
       "      <td>NaN</td>\n",
       "      <td>114.090000</td>\n",
       "      <td>33.100000</td>\n",
       "      <td>NaN</td>\n",
       "      <td>0.000000</td>\n",
       "    </tr>\n",
       "    <tr>\n",
       "      <th>max</th>\n",
       "      <td>NaN</td>\n",
       "      <td>82.000000</td>\n",
       "      <td>1.000000</td>\n",
       "      <td>1.000000</td>\n",
       "      <td>NaN</td>\n",
       "      <td>NaN</td>\n",
       "      <td>NaN</td>\n",
       "      <td>271.740000</td>\n",
       "      <td>97.600000</td>\n",
       "      <td>NaN</td>\n",
       "      <td>1.000000</td>\n",
       "    </tr>\n",
       "  </tbody>\n",
       "</table>\n",
       "</div>"
      ],
      "text/plain": [
       "        gender          age  hypertension  heart_disease ever_married  \\\n",
       "count     5110  5110.000000   5110.000000    5110.000000         5110   \n",
       "unique       3          NaN           NaN            NaN            2   \n",
       "top     Female          NaN           NaN            NaN          Yes   \n",
       "freq      2994          NaN           NaN            NaN         3353   \n",
       "mean       NaN    43.226614      0.097456       0.054012          NaN   \n",
       "std        NaN    22.612647      0.296607       0.226063          NaN   \n",
       "min        NaN     0.080000      0.000000       0.000000          NaN   \n",
       "25%        NaN    25.000000      0.000000       0.000000          NaN   \n",
       "50%        NaN    45.000000      0.000000       0.000000          NaN   \n",
       "75%        NaN    61.000000      0.000000       0.000000          NaN   \n",
       "max        NaN    82.000000      1.000000       1.000000          NaN   \n",
       "\n",
       "       work_type Residence_type  avg_glucose_level          bmi  \\\n",
       "count       5110           5110        5110.000000  4909.000000   \n",
       "unique         5              2                NaN          NaN   \n",
       "top      Private          Urban                NaN          NaN   \n",
       "freq        2925           2596                NaN          NaN   \n",
       "mean         NaN            NaN         106.147677    28.893237   \n",
       "std          NaN            NaN          45.283560     7.854067   \n",
       "min          NaN            NaN          55.120000    10.300000   \n",
       "25%          NaN            NaN          77.245000    23.500000   \n",
       "50%          NaN            NaN          91.885000    28.100000   \n",
       "75%          NaN            NaN         114.090000    33.100000   \n",
       "max          NaN            NaN         271.740000    97.600000   \n",
       "\n",
       "       smoking_status       stroke  \n",
       "count            5110  5110.000000  \n",
       "unique              4          NaN  \n",
       "top      never smoked          NaN  \n",
       "freq             1892          NaN  \n",
       "mean              NaN     0.048728  \n",
       "std               NaN     0.215320  \n",
       "min               NaN     0.000000  \n",
       "25%               NaN     0.000000  \n",
       "50%               NaN     0.000000  \n",
       "75%               NaN     0.000000  \n",
       "max               NaN     1.000000  "
      ]
     },
     "execution_count": 10,
     "metadata": {},
     "output_type": "execute_result"
    }
   ],
   "source": [
    "df.describe(include='all')"
   ]
  },
  {
   "cell_type": "code",
   "execution_count": 11,
   "metadata": {},
   "outputs": [
    {
     "name": "stdout",
     "output_type": "stream",
     "text": [
      "<class 'pandas.core.frame.DataFrame'>\n",
      "RangeIndex: 5110 entries, 0 to 5109\n",
      "Data columns (total 11 columns):\n",
      " #   Column             Non-Null Count  Dtype  \n",
      "---  ------             --------------  -----  \n",
      " 0   gender             5110 non-null   object \n",
      " 1   age                5110 non-null   float64\n",
      " 2   hypertension       5110 non-null   int64  \n",
      " 3   heart_disease      5110 non-null   int64  \n",
      " 4   ever_married       5110 non-null   object \n",
      " 5   work_type          5110 non-null   object \n",
      " 6   Residence_type     5110 non-null   object \n",
      " 7   avg_glucose_level  5110 non-null   float64\n",
      " 8   bmi                4909 non-null   float64\n",
      " 9   smoking_status     5110 non-null   object \n",
      " 10  stroke             5110 non-null   int64  \n",
      "dtypes: float64(3), int64(3), object(5)\n",
      "memory usage: 439.3+ KB\n"
     ]
    }
   ],
   "source": [
    "df.info()"
   ]
  },
  {
   "cell_type": "code",
   "execution_count": 17,
   "metadata": {},
   "outputs": [
    {
     "data": {
      "text/plain": [
       "gender                 0\n",
       "age                    0\n",
       "hypertension           0\n",
       "heart_disease          0\n",
       "ever_married           0\n",
       "work_type              0\n",
       "Residence_type         0\n",
       "avg_glucose_level      0\n",
       "bmi                  201\n",
       "smoking_status         0\n",
       "stroke                 0\n",
       "dtype: int64"
      ]
     },
     "execution_count": 17,
     "metadata": {},
     "output_type": "execute_result"
    }
   ],
   "source": [
    "df.isnull().sum()"
   ]
  },
  {
   "attachments": {},
   "cell_type": "markdown",
   "metadata": {},
   "source": [
    "### Terdapat Missing Value pada Attribute BMI\n",
    "Hal ini ditandakan pada kolom bmi terdapat 201 missing value"
   ]
  },
  {
   "cell_type": "code",
   "execution_count": 12,
   "metadata": {},
   "outputs": [
    {
     "name": "stdout",
     "output_type": "stream",
     "text": [
      "gender: ['Male' 'Female' 'Other']\n",
      "ever_married: ['Yes' 'No']\n",
      "work_type: ['Private' 'Self-employed' 'Govt_job' 'children' 'Never_worked']\n",
      "Residence_type: ['Urban' 'Rural']\n",
      "smoking_status: ['formerly smoked' 'never smoked' 'smokes' 'Unknown']\n"
     ]
    }
   ],
   "source": [
    "def print_unique_value(cols: list):\n",
    "    for col in cols:\n",
    "        print(f\"{col}: {df[col].unique()}\")\n",
    "        \n",
    "non_numeric_col = ['gender','ever_married','work_type','Residence_type', 'smoking_status']\n",
    "\n",
    "print_unique_value(non_numeric_col)"
   ]
  },
  {
   "cell_type": "code",
   "execution_count": 30,
   "metadata": {},
   "outputs": [
    {
     "name": "stdout",
     "output_type": "stream",
     "text": [
      "Female    0.585910\n",
      "Male      0.413894\n",
      "Other     0.000196\n",
      "Name: gender, dtype: float64\n",
      "\n",
      "Yes    0.656164\n",
      "No     0.343836\n",
      "Name: ever_married, dtype: float64\n",
      "\n",
      "Private          0.572407\n",
      "Self-employed    0.160274\n",
      "children         0.134442\n",
      "Govt_job         0.128571\n",
      "Never_worked     0.004305\n",
      "Name: work_type, dtype: float64\n",
      "\n",
      "Urban    0.508023\n",
      "Rural    0.491977\n",
      "Name: Residence_type, dtype: float64\n",
      "\n",
      "smokes             0.456556\n",
      "never smoked       0.370254\n",
      "formerly smoked    0.173190\n",
      "Name: smoking_status, dtype: float64\n",
      "\n"
     ]
    }
   ],
   "source": [
    "def print_percentage_data(dataframe, cols: list[str] | str):\n",
    "    if type(cols) == str:\n",
    "        print(dataframe[cols].value_counts() / len(dataframe))\n",
    "        return\n",
    "\n",
    "    for col in cols:\n",
    "        print(dataframe[col].value_counts() / len(dataframe))\n",
    "        print()\n",
    "\n",
    "print_percentage_data(df, non_numeric_col)"
   ]
  },
  {
   "attachments": {},
   "cell_type": "markdown",
   "metadata": {},
   "source": [
    "### Pra-process\n",
    "- Data Cleansing\n",
    "- Remove Outlier\n",
    "- Label Encoding"
   ]
  },
  {
   "cell_type": "code",
   "execution_count": 27,
   "metadata": {},
   "outputs": [
    {
     "data": {
      "text/plain": [
       "gender               0\n",
       "age                  0\n",
       "hypertension         0\n",
       "heart_disease        0\n",
       "ever_married         0\n",
       "work_type            0\n",
       "Residence_type       0\n",
       "avg_glucose_level    0\n",
       "bmi                  0\n",
       "smoking_status       0\n",
       "stroke               0\n",
       "dtype: int64"
      ]
     },
     "execution_count": 27,
     "metadata": {},
     "output_type": "execute_result"
    }
   ],
   "source": [
    "mean_bmi_replacement_value = df.loc[:,'bmi'].dropna().mean()\n",
    "df['bmi'] = df.loc[:, 'bmi'].fillna(mean_bmi_replacement_value)\n",
    "\n",
    "df.isnull().sum()"
   ]
  },
  {
   "cell_type": "code",
   "execution_count": 28,
   "metadata": {},
   "outputs": [
    {
     "data": {
      "text/plain": [
       "array(['formerly smoked', 'never smoked', 'smokes'], dtype=object)"
      ]
     },
     "execution_count": 28,
     "metadata": {},
     "output_type": "execute_result"
    }
   ],
   "source": [
    "modus_smoking_status = df['smoking_status'].max()\n",
    "df['smoking_status'] = df['smoking_status'].apply(lambda x: modus_smoking_status if x == 'Unknown' else x)\n",
    "\n",
    "df['smoking_status'].unique()"
   ]
  },
  {
   "cell_type": "code",
   "execution_count": 31,
   "metadata": {},
   "outputs": [
    {
     "name": "stdout",
     "output_type": "stream",
     "text": [
      "smokes             0.456556\n",
      "never smoked       0.370254\n",
      "formerly smoked    0.173190\n",
      "Name: smoking_status, dtype: float64\n"
     ]
    }
   ],
   "source": [
    "print_percentage_data(df, 'smoking_status')"
   ]
  },
  {
   "cell_type": "code",
   "execution_count": 33,
   "metadata": {},
   "outputs": [
    {
     "name": "stdout",
     "output_type": "stream",
     "text": [
      "Female    0.586025\n",
      "Male      0.413975\n",
      "Name: gender, dtype: float64\n"
     ]
    }
   ],
   "source": [
    "df = df[df['gender'] != 'Other']\n",
    "\n",
    "print_percentage_data(df, 'gender')"
   ]
  },
  {
   "cell_type": "code",
   "execution_count": 34,
   "metadata": {},
   "outputs": [],
   "source": [
    "num_gender = { 'Female': 0, 'Male': 1 }\n",
    "num_ever_married = { 'No': 0, 'Yes': 1 }\n",
    "num_smoking_status = {\n",
    "    'formerly smoked': 0,\n",
    "    'never smoked': 1,\n",
    "    'smokes': 2,\n",
    "}\n",
    "\n",
    "num_work_type = {\n",
    "    'children': 0,\n",
    "    'Govt_job': 1,\n",
    "    'Never_worked': 2,\n",
    "    'Private': 3,\n",
    "    'Self-employed': 4,\n",
    "}\n",
    "num_residence_type = {\n",
    "    'Urban': 0,\n",
    "    'Rural': 1\n",
    "}\n",
    "\n",
    "# Label Encoding\n",
    "df['gender'] = df['gender'].replace(num_gender)\n",
    "df['ever_married'] = df['ever_married'].replace(num_ever_married)\n",
    "df['Residence_type'] = df['Residence_type'].replace(num_residence_type)\n",
    "df['smoking_status'] = df['smoking_status'].replace(num_smoking_status)\n",
    "df['work_type'] = df['work_type'].replace(num_work_type)"
   ]
  },
  {
   "cell_type": "code",
   "execution_count": 36,
   "metadata": {},
   "outputs": [
    {
     "data": {
      "text/html": [
       "<div>\n",
       "<style scoped>\n",
       "    .dataframe tbody tr th:only-of-type {\n",
       "        vertical-align: middle;\n",
       "    }\n",
       "\n",
       "    .dataframe tbody tr th {\n",
       "        vertical-align: top;\n",
       "    }\n",
       "\n",
       "    .dataframe thead th {\n",
       "        text-align: right;\n",
       "    }\n",
       "</style>\n",
       "<table border=\"1\" class=\"dataframe\">\n",
       "  <thead>\n",
       "    <tr style=\"text-align: right;\">\n",
       "      <th></th>\n",
       "      <th>gender</th>\n",
       "      <th>age</th>\n",
       "      <th>hypertension</th>\n",
       "      <th>heart_disease</th>\n",
       "      <th>ever_married</th>\n",
       "      <th>work_type</th>\n",
       "      <th>Residence_type</th>\n",
       "      <th>avg_glucose_level</th>\n",
       "      <th>bmi</th>\n",
       "      <th>smoking_status</th>\n",
       "      <th>stroke</th>\n",
       "    </tr>\n",
       "  </thead>\n",
       "  <tbody>\n",
       "    <tr>\n",
       "      <th>0</th>\n",
       "      <td>1</td>\n",
       "      <td>67.0</td>\n",
       "      <td>0</td>\n",
       "      <td>1</td>\n",
       "      <td>1</td>\n",
       "      <td>3</td>\n",
       "      <td>0</td>\n",
       "      <td>228.69</td>\n",
       "      <td>36.60000</td>\n",
       "      <td>0</td>\n",
       "      <td>1</td>\n",
       "    </tr>\n",
       "    <tr>\n",
       "      <th>1</th>\n",
       "      <td>0</td>\n",
       "      <td>61.0</td>\n",
       "      <td>0</td>\n",
       "      <td>0</td>\n",
       "      <td>1</td>\n",
       "      <td>4</td>\n",
       "      <td>1</td>\n",
       "      <td>202.21</td>\n",
       "      <td>28.89456</td>\n",
       "      <td>1</td>\n",
       "      <td>1</td>\n",
       "    </tr>\n",
       "    <tr>\n",
       "      <th>2</th>\n",
       "      <td>1</td>\n",
       "      <td>80.0</td>\n",
       "      <td>0</td>\n",
       "      <td>1</td>\n",
       "      <td>1</td>\n",
       "      <td>3</td>\n",
       "      <td>1</td>\n",
       "      <td>105.92</td>\n",
       "      <td>32.50000</td>\n",
       "      <td>1</td>\n",
       "      <td>1</td>\n",
       "    </tr>\n",
       "    <tr>\n",
       "      <th>3</th>\n",
       "      <td>0</td>\n",
       "      <td>49.0</td>\n",
       "      <td>0</td>\n",
       "      <td>0</td>\n",
       "      <td>1</td>\n",
       "      <td>3</td>\n",
       "      <td>0</td>\n",
       "      <td>171.23</td>\n",
       "      <td>34.40000</td>\n",
       "      <td>2</td>\n",
       "      <td>1</td>\n",
       "    </tr>\n",
       "    <tr>\n",
       "      <th>4</th>\n",
       "      <td>0</td>\n",
       "      <td>79.0</td>\n",
       "      <td>1</td>\n",
       "      <td>0</td>\n",
       "      <td>1</td>\n",
       "      <td>4</td>\n",
       "      <td>1</td>\n",
       "      <td>174.12</td>\n",
       "      <td>24.00000</td>\n",
       "      <td>1</td>\n",
       "      <td>1</td>\n",
       "    </tr>\n",
       "  </tbody>\n",
       "</table>\n",
       "</div>"
      ],
      "text/plain": [
       "   gender   age  hypertension  heart_disease  ever_married  work_type  \\\n",
       "0       1  67.0             0              1             1          3   \n",
       "1       0  61.0             0              0             1          4   \n",
       "2       1  80.0             0              1             1          3   \n",
       "3       0  49.0             0              0             1          3   \n",
       "4       0  79.0             1              0             1          4   \n",
       "\n",
       "   Residence_type  avg_glucose_level       bmi  smoking_status  stroke  \n",
       "0               0             228.69  36.60000               0       1  \n",
       "1               1             202.21  28.89456               1       1  \n",
       "2               1             105.92  32.50000               1       1  \n",
       "3               0             171.23  34.40000               2       1  \n",
       "4               1             174.12  24.00000               1       1  "
      ]
     },
     "execution_count": 36,
     "metadata": {},
     "output_type": "execute_result"
    }
   ],
   "source": [
    "df.head()"
   ]
  },
  {
   "cell_type": "code",
   "execution_count": 38,
   "metadata": {},
   "outputs": [
    {
     "name": "stdout",
     "output_type": "stream",
     "text": [
      "0    0.951262\n",
      "1    0.048738\n",
      "Name: stroke, dtype: float64\n"
     ]
    }
   ],
   "source": [
    "print(df['stroke'].value_counts() / len(df))"
   ]
  },
  {
   "cell_type": "code",
   "execution_count": 39,
   "metadata": {},
   "outputs": [],
   "source": [
    "X = df.iloc[:, :-1].values\n",
    "y = df.iloc[:, 10].values"
   ]
  },
  {
   "attachments": {},
   "cell_type": "markdown",
   "metadata": {},
   "source": [
    "### **Membuat function melakukan visualisasi distribusi kelas**\n",
    "\n",
    "Visualisasi dilakukan menggunakan library  `Matplotlib`\n",
    "Untuk mempermudah akan dibentuk dalam 1 function \n",
    "```python \n",
    "def viz_distribution_of_class(X,y, col_idx, title) \n",
    "```\n",
    "\n",
    "| Parameter | Deskripsi | Data Type |\n",
    "| --------- | --------- | --------- |\n",
    "| X | Fitur pada dataset | Numpy Array | \n",
    "| y | Kelas pada dataset | Numpy Array |\n",
    "| col_idx | index column yang merepresentasikan dataset | Tupple [0, 1] |\n",
    "| title | Title Visualisasi (default \"\") | String / None |\n"
   ]
  },
  {
   "cell_type": "code",
   "execution_count": 40,
   "metadata": {},
   "outputs": [],
   "source": [
    "from collections import Counter\n",
    "from matplotlib import pyplot\n",
    "from numpy import where\n",
    "\n",
    "\n",
    "def viz_distribution_of_class(X, y, col_idx, title=\"\") -> None:\n",
    "    plt = pyplot\n",
    "    counter = Counter(y)\n",
    "    print(counter)\n",
    "    # scatter plot of examples by class label\n",
    "    for label, _ in counter.items():\n",
    "        row_ix = where(y != label)[0]\n",
    "        plt.title(title)\n",
    "        plt.scatter(X[row_ix, col_idx[0]], X[row_ix, col_idx[1]], label=str(label))\n",
    "        plt.legend()\n",
    "    plt.show()"
   ]
  },
  {
   "attachments": {},
   "cell_type": "markdown",
   "metadata": {},
   "source": [
    "### Visualisasi Distribusi kelas sebelum dilakukan resampling"
   ]
  },
  {
   "cell_type": "code",
   "execution_count": 41,
   "metadata": {},
   "outputs": [
    {
     "name": "stdout",
     "output_type": "stream",
     "text": [
      "Counter({0: 4860, 1: 249})\n"
     ]
    },
    {
     "data": {
      "image/png": "[encoded data removed]",
      "text/plain": [
       "<Figure size 432x288 with 1 Axes>"
      ]
     },
     "metadata": {
      "needs_background": "light"
     },
     "output_type": "display_data"
    }
   ],
   "source": [
    "from sklearn.preprocessing import MinMaxScaler\n",
    "\n",
    "scaler = MinMaxScaler()\n",
    "X_scaled = scaler.fit_transform(X)\n",
    "\n",
    "viz_distribution_of_class(X_scaled, y, [1,8], title=\"Sebelum Dilakukan Resampling\")"
   ]
  },
  {
   "attachments": {},
   "cell_type": "markdown",
   "metadata": {},
   "source": [
    "### Visualisasi Distribusi Kelas Setelah dilakukan SMOTE"
   ]
  },
  {
   "cell_type": "code",
   "execution_count": 42,
   "metadata": {},
   "outputs": [
    {
     "name": "stdout",
     "output_type": "stream",
     "text": [
      "Counter({1: 4860, 0: 4860})\n"
     ]
    },
    {
     "data": {
      "image/png": "[encoded data removed]",
      "text/plain": [
       "<Figure size 432x288 with 1 Axes>"
      ]
     },
     "metadata": {
      "needs_background": "light"
     },
     "output_type": "display_data"
    }
   ],
   "source": [
    "from imblearn.over_sampling import SMOTE\n",
    "\n",
    "sm_oversampl = SMOTE()\n",
    "X_oversampling, y_oversampling = sm_oversampl.fit_resample(X_scaled, y)\n",
    "\n",
    "viz_distribution_of_class(X_oversampling, y_oversampling, [1,8], title=\"Setelah dilakukan SMOTE\")"
   ]
  },
  {
   "attachments": {},
   "cell_type": "markdown",
   "metadata": {},
   "source": [
    "### Visualisasi Distribusi Kelas Setelah dilakukan SMOTE + TomekLink"
   ]
  },
  {
   "cell_type": "code",
   "execution_count": 43,
   "metadata": {},
   "outputs": [
    {
     "name": "stdout",
     "output_type": "stream",
     "text": [
      "Counter({0: 4860, 1: 4791})\n"
     ]
    },
    {
     "data": {
      "image/png": "[encoded data removed]",
      "text/plain": [
       "<Figure size 432x288 with 1 Axes>"
      ]
     },
     "metadata": {
      "needs_background": "light"
     },
     "output_type": "display_data"
    }
   ],
   "source": [
    "from imblearn.under_sampling import TomekLinks\n",
    "\n",
    "\n",
    "tomekLink = TomekLinks()\n",
    "X_tomekLink, y_tomekLink = tomekLink.fit_resample(X_oversampling, y_oversampling)\n",
    "\n",
    "viz_distribution_of_class(X_tomekLink, y_tomekLink, [1,8], title=\"Setelah Dilakukan SMOTE + TomekLink\")"
   ]
  },
  {
   "attachments": {},
   "cell_type": "markdown",
   "metadata": {},
   "source": [
    "### Visualisasi Distribusi Kelas Setelah dilakukan SMOTE + ENN"
   ]
  },
  {
   "cell_type": "code",
   "execution_count": 44,
   "metadata": {},
   "outputs": [
    {
     "name": "stdout",
     "output_type": "stream",
     "text": [
      "Counter({1: 4380, 0: 3878})\n"
     ]
    },
    {
     "data": {
      "image/png": "[encoded data removed]",
      "text/plain": [
       "<Figure size 432x288 with 1 Axes>"
      ]
     },
     "metadata": {
      "needs_background": "light"
     },
     "output_type": "display_data"
    }
   ],
   "source": [
    "from imblearn.under_sampling import EditedNearestNeighbours\n",
    "\n",
    "enn = EditedNearestNeighbours(sampling_strategy=\"all\")\n",
    "X_enn, y_enn = enn.fit_resample(X_oversampling, y_oversampling)\n",
    "\n",
    "viz_distribution_of_class(X_enn, y_enn, [1,8], title=\"Setelah Dilakukan SMOTE + ENN\")"
   ]
  },
  {
   "attachments": {},
   "cell_type": "markdown",
   "metadata": {},
   "source": [
    "### **Process Evaluasi Model Menggunakan 10-cross-validation**\n",
    "\n",
    "1. Tanpa Seleksi Fitur Information Gain :\n",
    "    - SMOTE\n",
    "    - SMOTE + TomekLink\n",
    "    - SMOTE + ENN\n",
    "\n",
    "2. Menggunakan Seleksi Fitur Information Gain :\n",
    "    - SMOTE\n",
    "    - SMOTE + TomekLink\n",
    "    - SMOTE + ENN\n",
    "\n",
    "Evaluasi Model berupa :\n",
    "- F-measure\n",
    "- ROC / AUC"
   ]
  },
  {
   "cell_type": "code",
   "execution_count": 53,
   "metadata": {},
   "outputs": [
    {
     "name": "stdout",
     "output_type": "stream",
     "text": [
      "evaluasi 10 cross validation SMOTE\n",
      "fit_time: 0.04994287490844727\n",
      "score_time: 0.043942046165466306\n",
      "test_accuracy: 0.8103403553202103\n",
      "test_precision: 0.11591085618050583\n",
      "test_recall: 0.432143522510562\n",
      "test_f1: 0.18061567093608782\n",
      "test_roc_auc: 0.674971878812868\n",
      "\n",
      "\n",
      "evaluasi 10 cross validation SMOTE-TomekLinks\n",
      "fit_time: 0.29007112979888916\n",
      "score_time: 0.046474361419677736\n",
      "test_accuracy: 0.8156260312344117\n",
      "test_precision: 0.12435789555225787\n",
      "test_recall: 0.45987740815714656\n",
      "test_f1: 0.19372275382776363\n",
      "test_roc_auc: 0.682410911893121\n",
      "\n",
      "\n",
      "evaluasi 10 cross validation SMOTE-ENN\n",
      "fit_time: 0.28895618915557864\n",
      "score_time: 0.044028282165527344\n",
      "test_accuracy: 0.8103415064656\n",
      "test_precision: 0.11942810883290648\n",
      "test_recall: 0.44928745054654395\n",
      "test_f1: 0.18666641215669613\n",
      "test_roc_auc: 0.6779171597522518\n",
      "\n",
      "\n"
     ]
    }
   ],
   "source": [
    "from sklearn.neighbors import KNeighborsClassifier\n",
    "from imblearn.pipeline import Pipeline\n",
    "from sklearn.model_selection import KFold\n",
    "from sklearn.model_selection import cross_validate\n",
    "\n",
    "# Resampling \n",
    "oversampling = SMOTE()\n",
    "tl = TomekLinks()\n",
    "enn = EditedNearestNeighbours(sampling_strategy=\"all\")\n",
    "\n",
    "\n",
    "model = KNeighborsClassifier(n_neighbors=3 ,weights='distance', metric='euclidean')\n",
    "\n",
    "pipeline_smote = Pipeline(steps = [\n",
    "    ['over', oversampling],\n",
    "    ['classifier', model]\n",
    "])\n",
    "\n",
    "pipeline_smote_tomek = Pipeline(steps = [\n",
    "    ['over', oversampling],\n",
    "    ['tomek', tl],\n",
    "    ['classifier', model],\n",
    "])\n",
    "\n",
    "pipeline_smote_enn = Pipeline(steps = [\n",
    "    ['over', oversampling],\n",
    "    ['tomek', tl],\n",
    "    ['classifier', model],\n",
    "])\n",
    "\n",
    "cv = KFold(n_splits=10,random_state=1, shuffle=True)\n",
    "\n",
    "scores_smote = cross_validate(pipeline_smote, X, y, scoring=['accuracy', 'precision', 'recall', 'f1', 'roc_auc'], cv=cv, n_jobs=-1)\n",
    "scores_smote_tomek = cross_validate(pipeline_smote_tomek, X, y, scoring=['accuracy', 'precision', 'recall', 'f1', 'roc_auc'], cv=cv, n_jobs=-1)\n",
    "scores_smote_enn = cross_validate(pipeline_smote_enn, X, y, scoring=['accuracy', 'precision', 'recall', 'f1', 'roc_auc'], cv=cv, n_jobs=-1)\n",
    "\n",
    "def print_scores(scores, title: str=''):\n",
    "    print(title)\n",
    "    for key in scores:\n",
    "        print(f\"{key}: {np.mean(scores[key])}\")\n",
    "    print(\"\\n\")\n",
    "\n",
    "print_scores(scores_smote, 'evaluasi 10 cross validation SMOTE')\n",
    "print_scores(scores_smote_tomek, 'evaluasi 10 cross validation SMOTE-TomekLinks')\n",
    "print_scores(scores_smote_enn, 'evaluasi 10 cross validation SMOTE-ENN')"
   ]
  },
  {
   "attachments": {},
   "cell_type": "markdown",
   "metadata": {},
   "source": [
    "## Percobaan Evaluasi model dengan tambahan Seleksi Fitur\n",
    "\n",
    "Seleksi Fitur : **Information Gain**"
   ]
  },
  {
   "cell_type": "code",
   "execution_count": null,
   "metadata": {},
   "outputs": [],
   "source": [
    "from sklearn.feature_selection import mutual_info_classif\n",
    "\n",
    "\n",
    "new_df = mutual_info_classif()\n",
    "\n",
    "pipeline_smote = Pipeline(steps = [\n",
    "    ['over', oversampling],\n",
    "    ['classifier', model]\n",
    "])\n",
    "\n",
    "pipeline_smote_tomek = Pipeline(steps = [\n",
    "    ['over', oversampling],\n",
    "    ['tomek', tl],\n",
    "    ['classifier', model],\n",
    "])\n",
    "\n",
    "pipeline_smote_enn = Pipeline(steps = [\n",
    "    ['over', oversampling],\n",
    "    ['tomek', tl],\n",
    "    ['classifier', model],\n",
    "])\n",
    "\n",
    "cv = KFold(n_splits=10,random_state=1, shuffle=True)\n",
    "\n",
    "scores_smote = cross_validate(pipeline_smote, X, y, scoring=['accuracy', 'precision', 'recall', 'f1', 'roc_auc'], cv=cv, n_jobs=-1)\n",
    "scores_smote_tomek = cross_validate(pipeline_smote_tomek, X, y, scoring=['accuracy', 'precision', 'recall', 'f1', 'roc_auc'], cv=cv, n_jobs=-1)\n",
    "scores_smote_enn = cross_validate(pipeline_smote_enn, X, y, scoring=['accuracy', 'precision', 'recall', 'f1', 'roc_auc'], cv=cv, n_jobs=-1)\n",
    "\n",
    "def print_scores(scores, title: str=''):\n",
    "    print(title)\n",
    "    for key in scores:\n",
    "        print(f\"{key}: {np.mean(scores[key])}\")\n",
    "    print(\"\\n\")\n",
    "\n",
    "print_scores(scores_smote, 'evaluasi 10 cross validation SMOTE')\n",
    "print_scores(scores_smote_tomek, 'evaluasi 10 cross validation SMOTE-TomekLinks')\n",
    "print_scores(scores_smote_enn, 'evaluasi 10 cross validation SMOTE-ENN')"
   ]
  },
  {
   "attachments": {},
   "cell_type": "markdown",
   "metadata": {},
   "source": []
  }
 ],
 "metadata": {
  "kernelspec": {
   "display_name": "Python 3",
   "language": "python",
   "name": "python3"
  },
  "language_info": {
   "codemirror_mode": {
    "name": "ipython",
    "version": 3
   },
   "file_extension": ".py",
   "mimetype": "text/x-python",
   "name": "python",
   "nbconvert_exporter": "python",
   "pygments_lexer": "ipython3",
   "version": "3.10.11"
  },
  "orig_nbformat": 4
 },
 "nbformat": 4,
 "nbformat_minor": 2
}
