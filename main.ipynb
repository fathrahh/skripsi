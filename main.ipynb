{
 "cells": [
  {
   "cell_type": "code",
   "execution_count": 2,
   "metadata": {},
   "outputs": [],
   "source": [
    "import pandas as pd\n",
    "import matplotlib.pyplot as plt\n",
    "import numpy as np\n",
    "import seaborn as sns\n",
    "\n",
    "from pandas.core.frame import DataFrame\n",
    "\n",
    "filename = 'healthcare-dataset-stroke-data.csv'\n",
    "cols = ['gender','age','hypertension','heart_disease','ever_married', 'work_type', 'Residence_type','avg_glucose_level','bmi', 'smoking_status','stroke']\n",
    "\n",
    "df = pd.read_csv(filename)"
   ]
  },
  {
   "cell_type": "code",
   "execution_count": 3,
   "metadata": {},
   "outputs": [
    {
     "name": "stdout",
     "output_type": "stream",
     "text": [
      "Non-Numeric columns:\n",
      "gender\n",
      "ever_married\n",
      "work_type\n",
      "Residence_type\n",
      "smoking_status\n",
      "\n",
      "Numeric columns:\n",
      "id\n",
      "age\n",
      "hypertension\n",
      "heart_disease\n",
      "avg_glucose_level\n",
      "bmi\n",
      "stroke\n"
     ]
    },
    {
     "data": {
      "text/html": [
       "<div>\n",
       "<style scoped>\n",
       "    .dataframe tbody tr th:only-of-type {\n",
       "        vertical-align: middle;\n",
       "    }\n",
       "\n",
       "    .dataframe tbody tr th {\n",
       "        vertical-align: top;\n",
       "    }\n",
       "\n",
       "    .dataframe thead th {\n",
       "        text-align: right;\n",
       "    }\n",
       "</style>\n",
       "<table border=\"1\" class=\"dataframe\">\n",
       "  <thead>\n",
       "    <tr style=\"text-align: right;\">\n",
       "      <th></th>\n",
       "      <th>id</th>\n",
       "      <th>gender</th>\n",
       "      <th>age</th>\n",
       "      <th>hypertension</th>\n",
       "      <th>heart_disease</th>\n",
       "      <th>ever_married</th>\n",
       "      <th>work_type</th>\n",
       "      <th>Residence_type</th>\n",
       "      <th>avg_glucose_level</th>\n",
       "      <th>bmi</th>\n",
       "      <th>smoking_status</th>\n",
       "      <th>stroke</th>\n",
       "    </tr>\n",
       "  </thead>\n",
       "  <tbody>\n",
       "    <tr>\n",
       "      <th>141</th>\n",
       "      <td>45965</td>\n",
       "      <td>Female</td>\n",
       "      <td>59.0</td>\n",
       "      <td>0</td>\n",
       "      <td>0</td>\n",
       "      <td>Yes</td>\n",
       "      <td>Private</td>\n",
       "      <td>Rural</td>\n",
       "      <td>116.44</td>\n",
       "      <td>23.8</td>\n",
       "      <td>smokes</td>\n",
       "      <td>1</td>\n",
       "    </tr>\n",
       "    <tr>\n",
       "      <th>403</th>\n",
       "      <td>66972</td>\n",
       "      <td>Female</td>\n",
       "      <td>52.0</td>\n",
       "      <td>0</td>\n",
       "      <td>0</td>\n",
       "      <td>Yes</td>\n",
       "      <td>Govt_job</td>\n",
       "      <td>Urban</td>\n",
       "      <td>80.88</td>\n",
       "      <td>23.8</td>\n",
       "      <td>smokes</td>\n",
       "      <td>0</td>\n",
       "    </tr>\n",
       "    <tr>\n",
       "      <th>1678</th>\n",
       "      <td>14481</td>\n",
       "      <td>Female</td>\n",
       "      <td>79.0</td>\n",
       "      <td>0</td>\n",
       "      <td>0</td>\n",
       "      <td>Yes</td>\n",
       "      <td>Self-employed</td>\n",
       "      <td>Urban</td>\n",
       "      <td>80.57</td>\n",
       "      <td>23.8</td>\n",
       "      <td>never smoked</td>\n",
       "      <td>0</td>\n",
       "    </tr>\n",
       "    <tr>\n",
       "      <th>1871</th>\n",
       "      <td>21608</td>\n",
       "      <td>Male</td>\n",
       "      <td>56.0</td>\n",
       "      <td>1</td>\n",
       "      <td>0</td>\n",
       "      <td>Yes</td>\n",
       "      <td>Govt_job</td>\n",
       "      <td>Urban</td>\n",
       "      <td>72.79</td>\n",
       "      <td>23.8</td>\n",
       "      <td>smokes</td>\n",
       "      <td>0</td>\n",
       "    </tr>\n",
       "    <tr>\n",
       "      <th>1960</th>\n",
       "      <td>56736</td>\n",
       "      <td>Male</td>\n",
       "      <td>18.0</td>\n",
       "      <td>0</td>\n",
       "      <td>0</td>\n",
       "      <td>No</td>\n",
       "      <td>Private</td>\n",
       "      <td>Rural</td>\n",
       "      <td>67.80</td>\n",
       "      <td>23.8</td>\n",
       "      <td>Unknown</td>\n",
       "      <td>0</td>\n",
       "    </tr>\n",
       "    <tr>\n",
       "      <th>2058</th>\n",
       "      <td>34396</td>\n",
       "      <td>Female</td>\n",
       "      <td>52.0</td>\n",
       "      <td>1</td>\n",
       "      <td>0</td>\n",
       "      <td>Yes</td>\n",
       "      <td>Private</td>\n",
       "      <td>Urban</td>\n",
       "      <td>94.98</td>\n",
       "      <td>23.8</td>\n",
       "      <td>never smoked</td>\n",
       "      <td>0</td>\n",
       "    </tr>\n",
       "    <tr>\n",
       "      <th>2068</th>\n",
       "      <td>16113</td>\n",
       "      <td>Female</td>\n",
       "      <td>47.0</td>\n",
       "      <td>0</td>\n",
       "      <td>0</td>\n",
       "      <td>Yes</td>\n",
       "      <td>Govt_job</td>\n",
       "      <td>Rural</td>\n",
       "      <td>100.41</td>\n",
       "      <td>23.8</td>\n",
       "      <td>never smoked</td>\n",
       "      <td>0</td>\n",
       "    </tr>\n",
       "    <tr>\n",
       "      <th>2231</th>\n",
       "      <td>38320</td>\n",
       "      <td>Male</td>\n",
       "      <td>45.0</td>\n",
       "      <td>1</td>\n",
       "      <td>0</td>\n",
       "      <td>Yes</td>\n",
       "      <td>Private</td>\n",
       "      <td>Rural</td>\n",
       "      <td>136.20</td>\n",
       "      <td>23.8</td>\n",
       "      <td>Unknown</td>\n",
       "      <td>0</td>\n",
       "    </tr>\n",
       "    <tr>\n",
       "      <th>2233</th>\n",
       "      <td>31857</td>\n",
       "      <td>Female</td>\n",
       "      <td>77.0</td>\n",
       "      <td>0</td>\n",
       "      <td>0</td>\n",
       "      <td>Yes</td>\n",
       "      <td>Self-employed</td>\n",
       "      <td>Rural</td>\n",
       "      <td>104.23</td>\n",
       "      <td>23.8</td>\n",
       "      <td>smokes</td>\n",
       "      <td>0</td>\n",
       "    </tr>\n",
       "    <tr>\n",
       "      <th>2247</th>\n",
       "      <td>19419</td>\n",
       "      <td>Male</td>\n",
       "      <td>14.0</td>\n",
       "      <td>0</td>\n",
       "      <td>0</td>\n",
       "      <td>No</td>\n",
       "      <td>children</td>\n",
       "      <td>Rural</td>\n",
       "      <td>91.25</td>\n",
       "      <td>23.8</td>\n",
       "      <td>Unknown</td>\n",
       "      <td>0</td>\n",
       "    </tr>\n",
       "    <tr>\n",
       "      <th>2349</th>\n",
       "      <td>56312</td>\n",
       "      <td>Male</td>\n",
       "      <td>47.0</td>\n",
       "      <td>0</td>\n",
       "      <td>0</td>\n",
       "      <td>No</td>\n",
       "      <td>Private</td>\n",
       "      <td>Rural</td>\n",
       "      <td>111.15</td>\n",
       "      <td>23.8</td>\n",
       "      <td>never smoked</td>\n",
       "      <td>0</td>\n",
       "    </tr>\n",
       "    <tr>\n",
       "      <th>2616</th>\n",
       "      <td>69900</td>\n",
       "      <td>Female</td>\n",
       "      <td>46.0</td>\n",
       "      <td>0</td>\n",
       "      <td>0</td>\n",
       "      <td>Yes</td>\n",
       "      <td>Govt_job</td>\n",
       "      <td>Urban</td>\n",
       "      <td>56.89</td>\n",
       "      <td>23.8</td>\n",
       "      <td>smokes</td>\n",
       "      <td>0</td>\n",
       "    </tr>\n",
       "    <tr>\n",
       "      <th>2743</th>\n",
       "      <td>71327</td>\n",
       "      <td>Female</td>\n",
       "      <td>47.0</td>\n",
       "      <td>0</td>\n",
       "      <td>0</td>\n",
       "      <td>No</td>\n",
       "      <td>Private</td>\n",
       "      <td>Rural</td>\n",
       "      <td>143.45</td>\n",
       "      <td>23.8</td>\n",
       "      <td>never smoked</td>\n",
       "      <td>0</td>\n",
       "    </tr>\n",
       "    <tr>\n",
       "      <th>3141</th>\n",
       "      <td>57896</td>\n",
       "      <td>Male</td>\n",
       "      <td>32.0</td>\n",
       "      <td>0</td>\n",
       "      <td>0</td>\n",
       "      <td>Yes</td>\n",
       "      <td>Private</td>\n",
       "      <td>Urban</td>\n",
       "      <td>64.02</td>\n",
       "      <td>23.8</td>\n",
       "      <td>smokes</td>\n",
       "      <td>0</td>\n",
       "    </tr>\n",
       "    <tr>\n",
       "      <th>3636</th>\n",
       "      <td>2903</td>\n",
       "      <td>Female</td>\n",
       "      <td>35.0</td>\n",
       "      <td>0</td>\n",
       "      <td>0</td>\n",
       "      <td>No</td>\n",
       "      <td>Private</td>\n",
       "      <td>Rural</td>\n",
       "      <td>123.83</td>\n",
       "      <td>23.8</td>\n",
       "      <td>never smoked</td>\n",
       "      <td>0</td>\n",
       "    </tr>\n",
       "    <tr>\n",
       "      <th>3675</th>\n",
       "      <td>25325</td>\n",
       "      <td>Female</td>\n",
       "      <td>42.0</td>\n",
       "      <td>0</td>\n",
       "      <td>0</td>\n",
       "      <td>Yes</td>\n",
       "      <td>Private</td>\n",
       "      <td>Rural</td>\n",
       "      <td>82.24</td>\n",
       "      <td>23.8</td>\n",
       "      <td>formerly smoked</td>\n",
       "      <td>0</td>\n",
       "    </tr>\n",
       "    <tr>\n",
       "      <th>3740</th>\n",
       "      <td>5380</td>\n",
       "      <td>Female</td>\n",
       "      <td>26.0</td>\n",
       "      <td>0</td>\n",
       "      <td>0</td>\n",
       "      <td>Yes</td>\n",
       "      <td>Private</td>\n",
       "      <td>Urban</td>\n",
       "      <td>91.35</td>\n",
       "      <td>23.8</td>\n",
       "      <td>never smoked</td>\n",
       "      <td>0</td>\n",
       "    </tr>\n",
       "    <tr>\n",
       "      <th>4064</th>\n",
       "      <td>45622</td>\n",
       "      <td>Female</td>\n",
       "      <td>25.0</td>\n",
       "      <td>0</td>\n",
       "      <td>0</td>\n",
       "      <td>No</td>\n",
       "      <td>Private</td>\n",
       "      <td>Rural</td>\n",
       "      <td>118.85</td>\n",
       "      <td>23.8</td>\n",
       "      <td>smokes</td>\n",
       "      <td>0</td>\n",
       "    </tr>\n",
       "    <tr>\n",
       "      <th>4353</th>\n",
       "      <td>35999</td>\n",
       "      <td>Female</td>\n",
       "      <td>52.0</td>\n",
       "      <td>0</td>\n",
       "      <td>0</td>\n",
       "      <td>Yes</td>\n",
       "      <td>Private</td>\n",
       "      <td>Urban</td>\n",
       "      <td>86.85</td>\n",
       "      <td>23.8</td>\n",
       "      <td>formerly smoked</td>\n",
       "      <td>0</td>\n",
       "    </tr>\n",
       "    <tr>\n",
       "      <th>4488</th>\n",
       "      <td>5170</td>\n",
       "      <td>Male</td>\n",
       "      <td>42.0</td>\n",
       "      <td>0</td>\n",
       "      <td>0</td>\n",
       "      <td>Yes</td>\n",
       "      <td>Govt_job</td>\n",
       "      <td>Rural</td>\n",
       "      <td>67.97</td>\n",
       "      <td>23.8</td>\n",
       "      <td>Unknown</td>\n",
       "      <td>0</td>\n",
       "    </tr>\n",
       "    <tr>\n",
       "      <th>4508</th>\n",
       "      <td>24163</td>\n",
       "      <td>Female</td>\n",
       "      <td>12.0</td>\n",
       "      <td>0</td>\n",
       "      <td>0</td>\n",
       "      <td>No</td>\n",
       "      <td>children</td>\n",
       "      <td>Rural</td>\n",
       "      <td>116.04</td>\n",
       "      <td>23.8</td>\n",
       "      <td>Unknown</td>\n",
       "      <td>0</td>\n",
       "    </tr>\n",
       "    <tr>\n",
       "      <th>4876</th>\n",
       "      <td>45163</td>\n",
       "      <td>Female</td>\n",
       "      <td>47.0</td>\n",
       "      <td>0</td>\n",
       "      <td>0</td>\n",
       "      <td>Yes</td>\n",
       "      <td>Private</td>\n",
       "      <td>Urban</td>\n",
       "      <td>99.36</td>\n",
       "      <td>23.8</td>\n",
       "      <td>smokes</td>\n",
       "      <td>0</td>\n",
       "    </tr>\n",
       "  </tbody>\n",
       "</table>\n",
       "</div>"
      ],
      "text/plain": [
       "         id  gender   age  hypertension  heart_disease ever_married  \\\n",
       "141   45965  Female  59.0             0              0          Yes   \n",
       "403   66972  Female  52.0             0              0          Yes   \n",
       "1678  14481  Female  79.0             0              0          Yes   \n",
       "1871  21608    Male  56.0             1              0          Yes   \n",
       "1960  56736    Male  18.0             0              0           No   \n",
       "2058  34396  Female  52.0             1              0          Yes   \n",
       "2068  16113  Female  47.0             0              0          Yes   \n",
       "2231  38320    Male  45.0             1              0          Yes   \n",
       "2233  31857  Female  77.0             0              0          Yes   \n",
       "2247  19419    Male  14.0             0              0           No   \n",
       "2349  56312    Male  47.0             0              0           No   \n",
       "2616  69900  Female  46.0             0              0          Yes   \n",
       "2743  71327  Female  47.0             0              0           No   \n",
       "3141  57896    Male  32.0             0              0          Yes   \n",
       "3636   2903  Female  35.0             0              0           No   \n",
       "3675  25325  Female  42.0             0              0          Yes   \n",
       "3740   5380  Female  26.0             0              0          Yes   \n",
       "4064  45622  Female  25.0             0              0           No   \n",
       "4353  35999  Female  52.0             0              0          Yes   \n",
       "4488   5170    Male  42.0             0              0          Yes   \n",
       "4508  24163  Female  12.0             0              0           No   \n",
       "4876  45163  Female  47.0             0              0          Yes   \n",
       "\n",
       "          work_type Residence_type  avg_glucose_level   bmi   smoking_status  \\\n",
       "141         Private          Rural             116.44  23.8           smokes   \n",
       "403        Govt_job          Urban              80.88  23.8           smokes   \n",
       "1678  Self-employed          Urban              80.57  23.8     never smoked   \n",
       "1871       Govt_job          Urban              72.79  23.8           smokes   \n",
       "1960        Private          Rural              67.80  23.8          Unknown   \n",
       "2058        Private          Urban              94.98  23.8     never smoked   \n",
       "2068       Govt_job          Rural             100.41  23.8     never smoked   \n",
       "2231        Private          Rural             136.20  23.8          Unknown   \n",
       "2233  Self-employed          Rural             104.23  23.8           smokes   \n",
       "2247       children          Rural              91.25  23.8          Unknown   \n",
       "2349        Private          Rural             111.15  23.8     never smoked   \n",
       "2616       Govt_job          Urban              56.89  23.8           smokes   \n",
       "2743        Private          Rural             143.45  23.8     never smoked   \n",
       "3141        Private          Urban              64.02  23.8           smokes   \n",
       "3636        Private          Rural             123.83  23.8     never smoked   \n",
       "3675        Private          Rural              82.24  23.8  formerly smoked   \n",
       "3740        Private          Urban              91.35  23.8     never smoked   \n",
       "4064        Private          Rural             118.85  23.8           smokes   \n",
       "4353        Private          Urban              86.85  23.8  formerly smoked   \n",
       "4488       Govt_job          Rural              67.97  23.8          Unknown   \n",
       "4508       children          Rural             116.04  23.8          Unknown   \n",
       "4876        Private          Urban              99.36  23.8           smokes   \n",
       "\n",
       "      stroke  \n",
       "141        1  \n",
       "403        0  \n",
       "1678       0  \n",
       "1871       0  \n",
       "1960       0  \n",
       "2058       0  \n",
       "2068       0  \n",
       "2231       0  \n",
       "2233       0  \n",
       "2247       0  \n",
       "2349       0  \n",
       "2616       0  \n",
       "2743       0  \n",
       "3141       0  \n",
       "3636       0  \n",
       "3675       0  \n",
       "3740       0  \n",
       "4064       0  \n",
       "4353       0  \n",
       "4488       0  \n",
       "4508       0  \n",
       "4876       0  "
      ]
     },
     "execution_count": 3,
     "metadata": {},
     "output_type": "execute_result"
    }
   ],
   "source": [
    "# Check datatype each column of dataframe\n",
    "cat_df = df.select_dtypes(include=['object'])\n",
    "num_df = df.select_dtypes(exclude=['object'])\n",
    "\n",
    "def printColumnTypes(non_numeric_df: DataFrame, numeric_df: DataFrame):\n",
    "    '''separates non-numeric and numeric columns'''\n",
    "    print(\"Non-Numeric columns:\")\n",
    "    for col in non_numeric_df:\n",
    "        print(f\"{col}\")\n",
    "    print(\"\")\n",
    "    print(\"Numeric columns:\")\n",
    "    for col in numeric_df:\n",
    "        print(f\"{col}\")\n",
    "\n",
    "printColumnTypes(cat_df, num_df)\n",
    "\n",
    "df[df['bmi'] == 23.8]"
   ]
  },
  {
   "cell_type": "code",
   "execution_count": 4,
   "metadata": {},
   "outputs": [
    {
     "data": {
      "text/html": [
       "<div>\n",
       "<style scoped>\n",
       "    .dataframe tbody tr th:only-of-type {\n",
       "        vertical-align: middle;\n",
       "    }\n",
       "\n",
       "    .dataframe tbody tr th {\n",
       "        vertical-align: top;\n",
       "    }\n",
       "\n",
       "    .dataframe thead th {\n",
       "        text-align: right;\n",
       "    }\n",
       "</style>\n",
       "<table border=\"1\" class=\"dataframe\">\n",
       "  <thead>\n",
       "    <tr style=\"text-align: right;\">\n",
       "      <th></th>\n",
       "      <th>id</th>\n",
       "      <th>gender</th>\n",
       "      <th>age</th>\n",
       "      <th>hypertension</th>\n",
       "      <th>heart_disease</th>\n",
       "      <th>ever_married</th>\n",
       "      <th>work_type</th>\n",
       "      <th>Residence_type</th>\n",
       "      <th>avg_glucose_level</th>\n",
       "      <th>bmi</th>\n",
       "      <th>smoking_status</th>\n",
       "      <th>stroke</th>\n",
       "    </tr>\n",
       "  </thead>\n",
       "  <tbody>\n",
       "    <tr>\n",
       "      <th>count</th>\n",
       "      <td>5110.000000</td>\n",
       "      <td>5110</td>\n",
       "      <td>5110.000000</td>\n",
       "      <td>5110.000000</td>\n",
       "      <td>5110.000000</td>\n",
       "      <td>5110</td>\n",
       "      <td>5110</td>\n",
       "      <td>5110</td>\n",
       "      <td>5110.000000</td>\n",
       "      <td>4909.000000</td>\n",
       "      <td>5110</td>\n",
       "      <td>5110.000000</td>\n",
       "    </tr>\n",
       "    <tr>\n",
       "      <th>unique</th>\n",
       "      <td>NaN</td>\n",
       "      <td>3</td>\n",
       "      <td>NaN</td>\n",
       "      <td>NaN</td>\n",
       "      <td>NaN</td>\n",
       "      <td>2</td>\n",
       "      <td>5</td>\n",
       "      <td>2</td>\n",
       "      <td>NaN</td>\n",
       "      <td>NaN</td>\n",
       "      <td>4</td>\n",
       "      <td>NaN</td>\n",
       "    </tr>\n",
       "    <tr>\n",
       "      <th>top</th>\n",
       "      <td>NaN</td>\n",
       "      <td>Female</td>\n",
       "      <td>NaN</td>\n",
       "      <td>NaN</td>\n",
       "      <td>NaN</td>\n",
       "      <td>Yes</td>\n",
       "      <td>Private</td>\n",
       "      <td>Urban</td>\n",
       "      <td>NaN</td>\n",
       "      <td>NaN</td>\n",
       "      <td>never smoked</td>\n",
       "      <td>NaN</td>\n",
       "    </tr>\n",
       "    <tr>\n",
       "      <th>freq</th>\n",
       "      <td>NaN</td>\n",
       "      <td>2994</td>\n",
       "      <td>NaN</td>\n",
       "      <td>NaN</td>\n",
       "      <td>NaN</td>\n",
       "      <td>3353</td>\n",
       "      <td>2925</td>\n",
       "      <td>2596</td>\n",
       "      <td>NaN</td>\n",
       "      <td>NaN</td>\n",
       "      <td>1892</td>\n",
       "      <td>NaN</td>\n",
       "    </tr>\n",
       "    <tr>\n",
       "      <th>mean</th>\n",
       "      <td>36517.829354</td>\n",
       "      <td>NaN</td>\n",
       "      <td>43.226614</td>\n",
       "      <td>0.097456</td>\n",
       "      <td>0.054012</td>\n",
       "      <td>NaN</td>\n",
       "      <td>NaN</td>\n",
       "      <td>NaN</td>\n",
       "      <td>106.147677</td>\n",
       "      <td>28.893237</td>\n",
       "      <td>NaN</td>\n",
       "      <td>0.048728</td>\n",
       "    </tr>\n",
       "    <tr>\n",
       "      <th>std</th>\n",
       "      <td>21161.721625</td>\n",
       "      <td>NaN</td>\n",
       "      <td>22.612647</td>\n",
       "      <td>0.296607</td>\n",
       "      <td>0.226063</td>\n",
       "      <td>NaN</td>\n",
       "      <td>NaN</td>\n",
       "      <td>NaN</td>\n",
       "      <td>45.283560</td>\n",
       "      <td>7.854067</td>\n",
       "      <td>NaN</td>\n",
       "      <td>0.215320</td>\n",
       "    </tr>\n",
       "    <tr>\n",
       "      <th>min</th>\n",
       "      <td>67.000000</td>\n",
       "      <td>NaN</td>\n",
       "      <td>0.080000</td>\n",
       "      <td>0.000000</td>\n",
       "      <td>0.000000</td>\n",
       "      <td>NaN</td>\n",
       "      <td>NaN</td>\n",
       "      <td>NaN</td>\n",
       "      <td>55.120000</td>\n",
       "      <td>10.300000</td>\n",
       "      <td>NaN</td>\n",
       "      <td>0.000000</td>\n",
       "    </tr>\n",
       "    <tr>\n",
       "      <th>25%</th>\n",
       "      <td>17741.250000</td>\n",
       "      <td>NaN</td>\n",
       "      <td>25.000000</td>\n",
       "      <td>0.000000</td>\n",
       "      <td>0.000000</td>\n",
       "      <td>NaN</td>\n",
       "      <td>NaN</td>\n",
       "      <td>NaN</td>\n",
       "      <td>77.245000</td>\n",
       "      <td>23.500000</td>\n",
       "      <td>NaN</td>\n",
       "      <td>0.000000</td>\n",
       "    </tr>\n",
       "    <tr>\n",
       "      <th>50%</th>\n",
       "      <td>36932.000000</td>\n",
       "      <td>NaN</td>\n",
       "      <td>45.000000</td>\n",
       "      <td>0.000000</td>\n",
       "      <td>0.000000</td>\n",
       "      <td>NaN</td>\n",
       "      <td>NaN</td>\n",
       "      <td>NaN</td>\n",
       "      <td>91.885000</td>\n",
       "      <td>28.100000</td>\n",
       "      <td>NaN</td>\n",
       "      <td>0.000000</td>\n",
       "    </tr>\n",
       "    <tr>\n",
       "      <th>75%</th>\n",
       "      <td>54682.000000</td>\n",
       "      <td>NaN</td>\n",
       "      <td>61.000000</td>\n",
       "      <td>0.000000</td>\n",
       "      <td>0.000000</td>\n",
       "      <td>NaN</td>\n",
       "      <td>NaN</td>\n",
       "      <td>NaN</td>\n",
       "      <td>114.090000</td>\n",
       "      <td>33.100000</td>\n",
       "      <td>NaN</td>\n",
       "      <td>0.000000</td>\n",
       "    </tr>\n",
       "    <tr>\n",
       "      <th>max</th>\n",
       "      <td>72940.000000</td>\n",
       "      <td>NaN</td>\n",
       "      <td>82.000000</td>\n",
       "      <td>1.000000</td>\n",
       "      <td>1.000000</td>\n",
       "      <td>NaN</td>\n",
       "      <td>NaN</td>\n",
       "      <td>NaN</td>\n",
       "      <td>271.740000</td>\n",
       "      <td>97.600000</td>\n",
       "      <td>NaN</td>\n",
       "      <td>1.000000</td>\n",
       "    </tr>\n",
       "  </tbody>\n",
       "</table>\n",
       "</div>"
      ],
      "text/plain": [
       "                  id  gender          age  hypertension  heart_disease  \\\n",
       "count    5110.000000    5110  5110.000000   5110.000000    5110.000000   \n",
       "unique           NaN       3          NaN           NaN            NaN   \n",
       "top              NaN  Female          NaN           NaN            NaN   \n",
       "freq             NaN    2994          NaN           NaN            NaN   \n",
       "mean    36517.829354     NaN    43.226614      0.097456       0.054012   \n",
       "std     21161.721625     NaN    22.612647      0.296607       0.226063   \n",
       "min        67.000000     NaN     0.080000      0.000000       0.000000   \n",
       "25%     17741.250000     NaN    25.000000      0.000000       0.000000   \n",
       "50%     36932.000000     NaN    45.000000      0.000000       0.000000   \n",
       "75%     54682.000000     NaN    61.000000      0.000000       0.000000   \n",
       "max     72940.000000     NaN    82.000000      1.000000       1.000000   \n",
       "\n",
       "       ever_married work_type Residence_type  avg_glucose_level          bmi  \\\n",
       "count          5110      5110           5110        5110.000000  4909.000000   \n",
       "unique            2         5              2                NaN          NaN   \n",
       "top             Yes   Private          Urban                NaN          NaN   \n",
       "freq           3353      2925           2596                NaN          NaN   \n",
       "mean            NaN       NaN            NaN         106.147677    28.893237   \n",
       "std             NaN       NaN            NaN          45.283560     7.854067   \n",
       "min             NaN       NaN            NaN          55.120000    10.300000   \n",
       "25%             NaN       NaN            NaN          77.245000    23.500000   \n",
       "50%             NaN       NaN            NaN          91.885000    28.100000   \n",
       "75%             NaN       NaN            NaN         114.090000    33.100000   \n",
       "max             NaN       NaN            NaN         271.740000    97.600000   \n",
       "\n",
       "       smoking_status       stroke  \n",
       "count            5110  5110.000000  \n",
       "unique              4          NaN  \n",
       "top      never smoked          NaN  \n",
       "freq             1892          NaN  \n",
       "mean              NaN     0.048728  \n",
       "std               NaN     0.215320  \n",
       "min               NaN     0.000000  \n",
       "25%               NaN     0.000000  \n",
       "50%               NaN     0.000000  \n",
       "75%               NaN     0.000000  \n",
       "max               NaN     1.000000  "
      ]
     },
     "execution_count": 4,
     "metadata": {},
     "output_type": "execute_result"
    }
   ],
   "source": [
    "df.describe(include='all')"
   ]
  },
  {
   "cell_type": "code",
   "execution_count": 5,
   "metadata": {},
   "outputs": [
    {
     "data": {
      "text/html": [
       "<div>\n",
       "<style scoped>\n",
       "    .dataframe tbody tr th:only-of-type {\n",
       "        vertical-align: middle;\n",
       "    }\n",
       "\n",
       "    .dataframe tbody tr th {\n",
       "        vertical-align: top;\n",
       "    }\n",
       "\n",
       "    .dataframe thead th {\n",
       "        text-align: right;\n",
       "    }\n",
       "</style>\n",
       "<table border=\"1\" class=\"dataframe\">\n",
       "  <thead>\n",
       "    <tr style=\"text-align: right;\">\n",
       "      <th></th>\n",
       "      <th>gender</th>\n",
       "      <th>age</th>\n",
       "      <th>hypertension</th>\n",
       "      <th>heart_disease</th>\n",
       "      <th>ever_married</th>\n",
       "      <th>work_type</th>\n",
       "      <th>Residence_type</th>\n",
       "      <th>avg_glucose_level</th>\n",
       "      <th>bmi</th>\n",
       "      <th>smoking_status</th>\n",
       "      <th>stroke</th>\n",
       "    </tr>\n",
       "  </thead>\n",
       "  <tbody>\n",
       "    <tr>\n",
       "      <th>0</th>\n",
       "      <td>Male</td>\n",
       "      <td>67.0</td>\n",
       "      <td>0</td>\n",
       "      <td>1</td>\n",
       "      <td>Yes</td>\n",
       "      <td>Private</td>\n",
       "      <td>Urban</td>\n",
       "      <td>228.69</td>\n",
       "      <td>36.6</td>\n",
       "      <td>formerly smoked</td>\n",
       "      <td>1</td>\n",
       "    </tr>\n",
       "    <tr>\n",
       "      <th>1</th>\n",
       "      <td>Female</td>\n",
       "      <td>61.0</td>\n",
       "      <td>0</td>\n",
       "      <td>0</td>\n",
       "      <td>Yes</td>\n",
       "      <td>Self-employed</td>\n",
       "      <td>Rural</td>\n",
       "      <td>202.21</td>\n",
       "      <td>NaN</td>\n",
       "      <td>never smoked</td>\n",
       "      <td>1</td>\n",
       "    </tr>\n",
       "    <tr>\n",
       "      <th>2</th>\n",
       "      <td>Male</td>\n",
       "      <td>80.0</td>\n",
       "      <td>0</td>\n",
       "      <td>1</td>\n",
       "      <td>Yes</td>\n",
       "      <td>Private</td>\n",
       "      <td>Rural</td>\n",
       "      <td>105.92</td>\n",
       "      <td>32.5</td>\n",
       "      <td>never smoked</td>\n",
       "      <td>1</td>\n",
       "    </tr>\n",
       "    <tr>\n",
       "      <th>3</th>\n",
       "      <td>Female</td>\n",
       "      <td>49.0</td>\n",
       "      <td>0</td>\n",
       "      <td>0</td>\n",
       "      <td>Yes</td>\n",
       "      <td>Private</td>\n",
       "      <td>Urban</td>\n",
       "      <td>171.23</td>\n",
       "      <td>34.4</td>\n",
       "      <td>smokes</td>\n",
       "      <td>1</td>\n",
       "    </tr>\n",
       "    <tr>\n",
       "      <th>4</th>\n",
       "      <td>Female</td>\n",
       "      <td>79.0</td>\n",
       "      <td>1</td>\n",
       "      <td>0</td>\n",
       "      <td>Yes</td>\n",
       "      <td>Self-employed</td>\n",
       "      <td>Rural</td>\n",
       "      <td>174.12</td>\n",
       "      <td>24.0</td>\n",
       "      <td>never smoked</td>\n",
       "      <td>1</td>\n",
       "    </tr>\n",
       "  </tbody>\n",
       "</table>\n",
       "</div>"
      ],
      "text/plain": [
       "   gender   age  hypertension  heart_disease ever_married      work_type  \\\n",
       "0    Male  67.0             0              1          Yes        Private   \n",
       "1  Female  61.0             0              0          Yes  Self-employed   \n",
       "2    Male  80.0             0              1          Yes        Private   \n",
       "3  Female  49.0             0              0          Yes        Private   \n",
       "4  Female  79.0             1              0          Yes  Self-employed   \n",
       "\n",
       "  Residence_type  avg_glucose_level   bmi   smoking_status  stroke  \n",
       "0          Urban             228.69  36.6  formerly smoked       1  \n",
       "1          Rural             202.21   NaN     never smoked       1  \n",
       "2          Rural             105.92  32.5     never smoked       1  \n",
       "3          Urban             171.23  34.4           smokes       1  \n",
       "4          Rural             174.12  24.0     never smoked       1  "
      ]
     },
     "execution_count": 5,
     "metadata": {},
     "output_type": "execute_result"
    }
   ],
   "source": [
    "df = df.drop('id', axis=1)\n",
    "df.head()"
   ]
  },
  {
   "cell_type": "code",
   "execution_count": 6,
   "metadata": {},
   "outputs": [
    {
     "name": "stdout",
     "output_type": "stream",
     "text": [
      "<class 'pandas.core.frame.DataFrame'>\n",
      "RangeIndex: 5110 entries, 0 to 5109\n",
      "Data columns (total 11 columns):\n",
      " #   Column             Non-Null Count  Dtype  \n",
      "---  ------             --------------  -----  \n",
      " 0   gender             5110 non-null   object \n",
      " 1   age                5110 non-null   float64\n",
      " 2   hypertension       5110 non-null   int64  \n",
      " 3   heart_disease      5110 non-null   int64  \n",
      " 4   ever_married       5110 non-null   object \n",
      " 5   work_type          5110 non-null   object \n",
      " 6   Residence_type     5110 non-null   object \n",
      " 7   avg_glucose_level  5110 non-null   float64\n",
      " 8   bmi                4909 non-null   float64\n",
      " 9   smoking_status     5110 non-null   object \n",
      " 10  stroke             5110 non-null   int64  \n",
      "dtypes: float64(3), int64(3), object(5)\n",
      "memory usage: 439.3+ KB\n"
     ]
    }
   ],
   "source": [
    "df.info()"
   ]
  },
  {
   "cell_type": "code",
   "execution_count": 7,
   "metadata": {},
   "outputs": [
    {
     "data": {
      "text/plain": [
       "gender                 0\n",
       "age                    0\n",
       "hypertension           0\n",
       "heart_disease          0\n",
       "ever_married           0\n",
       "work_type              0\n",
       "Residence_type         0\n",
       "avg_glucose_level      0\n",
       "bmi                  201\n",
       "smoking_status         0\n",
       "stroke                 0\n",
       "dtype: int64"
      ]
     },
     "execution_count": 7,
     "metadata": {},
     "output_type": "execute_result"
    }
   ],
   "source": [
    "df.isnull().sum()"
   ]
  },
  {
   "cell_type": "code",
   "execution_count": 8,
   "metadata": {},
   "outputs": [
    {
     "name": "stdout",
     "output_type": "stream",
     "text": [
      "0    4861\n",
      "1     249\n",
      "Name: stroke, dtype: int64\n"
     ]
    },
    {
     "data": {
      "image/png": "[encoded data removed]",
      "text/plain": [
       "<Figure size 432x432 with 1 Axes>"
      ]
     },
     "metadata": {},
     "output_type": "display_data"
    }
   ],
   "source": [
    "stroke_value_count = df['stroke'].value_counts()\n",
    "replace_index = [\"tidak stroke\" if i == 0 else \"stroke\" for i in stroke_value_count.index]\n",
    "\n",
    "print(df['stroke'].value_counts())\n",
    "\n",
    "plt.figure(figsize=(6, 6))\n",
    "plt.pie(stroke_value_count.values,labels=replace_index, autopct='%1.1f%%')\n",
    "plt.title('Distribusi Kelas')\n",
    "plt.legend()\n",
    "plt.show()"
   ]
  },
  {
   "cell_type": "code",
   "execution_count": 9,
   "metadata": {},
   "outputs": [
    {
     "data": {
      "text/html": [
       "<div>\n",
       "<style scoped>\n",
       "    .dataframe tbody tr th:only-of-type {\n",
       "        vertical-align: middle;\n",
       "    }\n",
       "\n",
       "    .dataframe tbody tr th {\n",
       "        vertical-align: top;\n",
       "    }\n",
       "\n",
       "    .dataframe thead th {\n",
       "        text-align: right;\n",
       "    }\n",
       "</style>\n",
       "<table border=\"1\" class=\"dataframe\">\n",
       "  <thead>\n",
       "    <tr style=\"text-align: right;\">\n",
       "      <th></th>\n",
       "      <th>gender</th>\n",
       "      <th>age</th>\n",
       "      <th>hypertension</th>\n",
       "      <th>heart_disease</th>\n",
       "      <th>ever_married</th>\n",
       "      <th>work_type</th>\n",
       "      <th>Residence_type</th>\n",
       "      <th>avg_glucose_level</th>\n",
       "      <th>bmi</th>\n",
       "      <th>smoking_status</th>\n",
       "      <th>stroke</th>\n",
       "    </tr>\n",
       "  </thead>\n",
       "  <tbody>\n",
       "    <tr>\n",
       "      <th>3116</th>\n",
       "      <td>Other</td>\n",
       "      <td>26.0</td>\n",
       "      <td>0</td>\n",
       "      <td>0</td>\n",
       "      <td>No</td>\n",
       "      <td>Private</td>\n",
       "      <td>Rural</td>\n",
       "      <td>143.33</td>\n",
       "      <td>22.4</td>\n",
       "      <td>formerly smoked</td>\n",
       "      <td>0</td>\n",
       "    </tr>\n",
       "  </tbody>\n",
       "</table>\n",
       "</div>"
      ],
      "text/plain": [
       "     gender   age  hypertension  heart_disease ever_married work_type  \\\n",
       "3116  Other  26.0             0              0           No   Private   \n",
       "\n",
       "     Residence_type  avg_glucose_level   bmi   smoking_status  stroke  \n",
       "3116          Rural             143.33  22.4  formerly smoked       0  "
      ]
     },
     "execution_count": 9,
     "metadata": {},
     "output_type": "execute_result"
    }
   ],
   "source": [
    "df[df['gender'] == 'Other']"
   ]
  },
  {
   "attachments": {},
   "cell_type": "markdown",
   "metadata": {},
   "source": [
    "### Terdapat Missing Value pada Attribute BMI\n",
    "Hal ini ditandakan pada kolom bmi terdapat 201 missing value"
   ]
  },
  {
   "cell_type": "code",
   "execution_count": 10,
   "metadata": {},
   "outputs": [
    {
     "name": "stdout",
     "output_type": "stream",
     "text": [
      "gender: ['Male' 'Female' 'Other']\n",
      "ever_married: ['Yes' 'No']\n",
      "work_type: ['Private' 'Self-employed' 'Govt_job' 'children' 'Never_worked']\n",
      "Residence_type: ['Urban' 'Rural']\n",
      "smoking_status: ['formerly smoked' 'never smoked' 'smokes' 'Unknown']\n"
     ]
    }
   ],
   "source": [
    "def print_unique_value(cols: list):\n",
    "    for col in cols:\n",
    "        print(f\"{col}: {df[col].unique()}\")\n",
    "        \n",
    "non_numeric_col = ['gender','ever_married','work_type','Residence_type', 'smoking_status']\n",
    "\n",
    "print_unique_value(non_numeric_col)"
   ]
  },
  {
   "cell_type": "code",
   "execution_count": 11,
   "metadata": {},
   "outputs": [
    {
     "name": "stdout",
     "output_type": "stream",
     "text": [
      "Female    0.585910\n",
      "Male      0.413894\n",
      "Other     0.000196\n",
      "Name: gender, dtype: float64\n",
      "\n",
      "Yes    0.656164\n",
      "No     0.343836\n",
      "Name: ever_married, dtype: float64\n",
      "\n",
      "Private          0.572407\n",
      "Self-employed    0.160274\n",
      "children         0.134442\n",
      "Govt_job         0.128571\n",
      "Never_worked     0.004305\n",
      "Name: work_type, dtype: float64\n",
      "\n",
      "Urban    0.508023\n",
      "Rural    0.491977\n",
      "Name: Residence_type, dtype: float64\n",
      "\n",
      "never smoked       0.370254\n",
      "Unknown            0.302153\n",
      "formerly smoked    0.173190\n",
      "smokes             0.154403\n",
      "Name: smoking_status, dtype: float64\n",
      "\n"
     ]
    }
   ],
   "source": [
    "def print_percentage_data(dataframe, cols: list[str] | str):\n",
    "    if type(cols) == str:\n",
    "        print(dataframe[cols].value_counts() / len(dataframe))\n",
    "        return\n",
    "\n",
    "    for col in cols:\n",
    "        print(dataframe[col].value_counts() / len(dataframe))\n",
    "        print()\n",
    "\n",
    "print_percentage_data(df, non_numeric_col)"
   ]
  },
  {
   "cell_type": "code",
   "execution_count": 12,
   "metadata": {},
   "outputs": [
    {
     "data": {
      "text/plain": [
       "never smoked       1892\n",
       "Unknown            1544\n",
       "formerly smoked     885\n",
       "smokes              789\n",
       "Name: smoking_status, dtype: int64"
      ]
     },
     "execution_count": 12,
     "metadata": {},
     "output_type": "execute_result"
    }
   ],
   "source": [
    "df['smoking_status'].value_counts()"
   ]
  },
  {
   "cell_type": "code",
   "execution_count": 13,
   "metadata": {},
   "outputs": [
    {
     "data": {
      "text/plain": [
       "Female    2994\n",
       "Male      2115\n",
       "Other        1\n",
       "Name: gender, dtype: int64"
      ]
     },
     "execution_count": 13,
     "metadata": {},
     "output_type": "execute_result"
    }
   ],
   "source": [
    "df['gender'].value_counts()"
   ]
  },
  {
   "cell_type": "code",
   "execution_count": 14,
   "metadata": {},
   "outputs": [
    {
     "data": {
      "text/html": [
       "<div>\n",
       "<style scoped>\n",
       "    .dataframe tbody tr th:only-of-type {\n",
       "        vertical-align: middle;\n",
       "    }\n",
       "\n",
       "    .dataframe tbody tr th {\n",
       "        vertical-align: top;\n",
       "    }\n",
       "\n",
       "    .dataframe thead th {\n",
       "        text-align: right;\n",
       "    }\n",
       "</style>\n",
       "<table border=\"1\" class=\"dataframe\">\n",
       "  <thead>\n",
       "    <tr style=\"text-align: right;\">\n",
       "      <th></th>\n",
       "      <th>gender</th>\n",
       "      <th>age</th>\n",
       "      <th>hypertension</th>\n",
       "      <th>heart_disease</th>\n",
       "      <th>ever_married</th>\n",
       "      <th>work_type</th>\n",
       "      <th>Residence_type</th>\n",
       "      <th>avg_glucose_level</th>\n",
       "      <th>bmi</th>\n",
       "      <th>smoking_status</th>\n",
       "      <th>stroke</th>\n",
       "    </tr>\n",
       "  </thead>\n",
       "  <tbody>\n",
       "    <tr>\n",
       "      <th>3116</th>\n",
       "      <td>Other</td>\n",
       "      <td>26.0</td>\n",
       "      <td>0</td>\n",
       "      <td>0</td>\n",
       "      <td>No</td>\n",
       "      <td>Private</td>\n",
       "      <td>Rural</td>\n",
       "      <td>143.33</td>\n",
       "      <td>22.4</td>\n",
       "      <td>formerly smoked</td>\n",
       "      <td>0</td>\n",
       "    </tr>\n",
       "  </tbody>\n",
       "</table>\n",
       "</div>"
      ],
      "text/plain": [
       "     gender   age  hypertension  heart_disease ever_married work_type  \\\n",
       "3116  Other  26.0             0              0           No   Private   \n",
       "\n",
       "     Residence_type  avg_glucose_level   bmi   smoking_status  stroke  \n",
       "3116          Rural             143.33  22.4  formerly smoked       0  "
      ]
     },
     "execution_count": 14,
     "metadata": {},
     "output_type": "execute_result"
    }
   ],
   "source": [
    "df[df['gender'] == 'Other']"
   ]
  },
  {
   "cell_type": "code",
   "execution_count": 15,
   "metadata": {},
   "outputs": [
    {
     "name": "stdout",
     "output_type": "stream",
     "text": [
      "0    4861\n",
      "1     249\n",
      "Name: stroke, dtype: int64\n"
     ]
    },
    {
     "data": {
      "image/png": "[encoded data removed]",
      "text/plain": [
       "<Figure size 432x432 with 1 Axes>"
      ]
     },
     "metadata": {},
     "output_type": "display_data"
    }
   ],
   "source": [
    "stroke_value_count = df['stroke'].value_counts()\n",
    "replace_index = [\"tidak stroke\" if i == 0 else \"stroke\" for i in stroke_value_count.index]\n",
    "\n",
    "print(df['stroke'].value_counts())\n",
    "\n",
    "plt.figure(figsize=(6, 6))\n",
    "plt.pie(stroke_value_count.values,labels=replace_index, autopct='%1.1f%%')\n",
    "plt.title('Distribusi Kelas')\n",
    "plt.legend()\n",
    "plt.show()"
   ]
  },
  {
   "attachments": {},
   "cell_type": "markdown",
   "metadata": {},
   "source": [
    "### Pra-process\n",
    "- Data Cleansing\n",
    "- Remove Outlier\n",
    "- Label Encoding"
   ]
  },
  {
   "cell_type": "code",
   "execution_count": 16,
   "metadata": {},
   "outputs": [
    {
     "data": {
      "text/plain": [
       "gender               0\n",
       "age                  0\n",
       "hypertension         0\n",
       "heart_disease        0\n",
       "ever_married         0\n",
       "work_type            0\n",
       "Residence_type       0\n",
       "avg_glucose_level    0\n",
       "bmi                  0\n",
       "smoking_status       0\n",
       "stroke               0\n",
       "dtype: int64"
      ]
     },
     "execution_count": 16,
     "metadata": {},
     "output_type": "execute_result"
    }
   ],
   "source": [
    "mean_bmi_replacement_value = df.loc[:,'bmi'].dropna().mean()\n",
    "df['bmi'] = df.loc[:, 'bmi'].fillna(mean_bmi_replacement_value)\n",
    "\n",
    "df.isnull().sum()"
   ]
  },
  {
   "cell_type": "code",
   "execution_count": 17,
   "metadata": {},
   "outputs": [
    {
     "name": "stdout",
     "output_type": "stream",
     "text": [
      "Female    0.586025\n",
      "Male      0.413975\n",
      "Name: gender, dtype: float64\n"
     ]
    }
   ],
   "source": [
    "df = df[df['gender'] != 'Other']\n",
    "\n",
    "print_percentage_data(df, 'gender')"
   ]
  },
  {
   "cell_type": "code",
   "execution_count": 18,
   "metadata": {},
   "outputs": [
    {
     "name": "stdout",
     "output_type": "stream",
     "text": [
      "never smoked       0.672539\n",
      "formerly smoked    0.173028\n",
      "smokes             0.154433\n",
      "Name: smoking_status, dtype: float64\n"
     ]
    },
    {
     "data": {
      "text/plain": [
       "never smoked       3436\n",
       "formerly smoked     884\n",
       "smokes              789\n",
       "Name: smoking_status, dtype: int64"
      ]
     },
     "execution_count": 18,
     "metadata": {},
     "output_type": "execute_result"
    }
   ],
   "source": [
    "df['smoking_status'] = df['smoking_status'].replace({\n",
    "    'Unknown': np.nan\n",
    "})\n",
    "\n",
    "modus_smoking_status = df['smoking_status'].mode()[0]\n",
    "df.loc[df['smoking_status'].isna(),'smoking_status'] = modus_smoking_status\n",
    "print_percentage_data(df, 'smoking_status')\n",
    "\n",
    "df['smoking_status'].value_counts()"
   ]
  },
  {
   "cell_type": "code",
   "execution_count": 19,
   "metadata": {},
   "outputs": [],
   "source": [
    "num_gender = { 'Female': 0, 'Male': 1, 'Other': 2 }\n",
    "num_ever_married = { 'No': 0, 'Yes': 1 }\n",
    "num_smoking_status = {\n",
    "    'formerly smoked': 0,\n",
    "    'never smoked': 1,\n",
    "    'smokes': 2,\n",
    "}\n",
    "\n",
    "num_work_type = {\n",
    "    'children': 0,\n",
    "    'Govt_job': 1,\n",
    "    'Never_worked': 2,\n",
    "    'Private': 3,\n",
    "    'Self-employed': 4,\n",
    "}\n",
    "num_residence_type = {\n",
    "    'Urban': 0,\n",
    "    'Rural': 1\n",
    "}\n",
    "\n",
    "# Label Encoding\n",
    "df['gender'] = df['gender'].replace(num_gender)\n",
    "df['ever_married'] = df['ever_married'].replace(num_ever_married)\n",
    "df['Residence_type'] = df['Residence_type'].replace(num_residence_type)\n",
    "df['smoking_status'] = df['smoking_status'].replace(num_smoking_status)\n",
    "df['work_type'] = df['work_type'].replace(num_work_type)"
   ]
  },
  {
   "cell_type": "code",
   "execution_count": 20,
   "metadata": {},
   "outputs": [
    {
     "data": {
      "image/png": "[encoded data removed]",
      "text/plain": [
       "<Figure size 432x288 with 1 Axes>"
      ]
     },
     "metadata": {
      "needs_background": "light"
     },
     "output_type": "display_data"
    }
   ],
   "source": [
    "import matplotlib.pyplot as plt\n",
    "\n",
    "plt.boxplot(df['bmi'])\n",
    "plt.title('boxplot bmi')\n",
    "plt.show()"
   ]
  },
  {
   "cell_type": "code",
   "execution_count": 21,
   "metadata": {},
   "outputs": [
    {
     "data": {
      "text/html": [
       "<div>\n",
       "<style scoped>\n",
       "    .dataframe tbody tr th:only-of-type {\n",
       "        vertical-align: middle;\n",
       "    }\n",
       "\n",
       "    .dataframe tbody tr th {\n",
       "        vertical-align: top;\n",
       "    }\n",
       "\n",
       "    .dataframe thead th {\n",
       "        text-align: right;\n",
       "    }\n",
       "</style>\n",
       "<table border=\"1\" class=\"dataframe\">\n",
       "  <thead>\n",
       "    <tr style=\"text-align: right;\">\n",
       "      <th></th>\n",
       "      <th>bmi</th>\n",
       "      <th>avg_glucose_level</th>\n",
       "    </tr>\n",
       "  </thead>\n",
       "  <tbody>\n",
       "    <tr>\n",
       "      <th>count</th>\n",
       "      <td>5109.000000</td>\n",
       "      <td>5109.000000</td>\n",
       "    </tr>\n",
       "    <tr>\n",
       "      <th>mean</th>\n",
       "      <td>28.894508</td>\n",
       "      <td>106.140399</td>\n",
       "    </tr>\n",
       "    <tr>\n",
       "      <th>std</th>\n",
       "      <td>7.698235</td>\n",
       "      <td>45.285004</td>\n",
       "    </tr>\n",
       "    <tr>\n",
       "      <th>min</th>\n",
       "      <td>10.300000</td>\n",
       "      <td>55.120000</td>\n",
       "    </tr>\n",
       "    <tr>\n",
       "      <th>25%</th>\n",
       "      <td>23.800000</td>\n",
       "      <td>77.240000</td>\n",
       "    </tr>\n",
       "    <tr>\n",
       "      <th>50%</th>\n",
       "      <td>28.400000</td>\n",
       "      <td>91.880000</td>\n",
       "    </tr>\n",
       "    <tr>\n",
       "      <th>75%</th>\n",
       "      <td>32.800000</td>\n",
       "      <td>114.090000</td>\n",
       "    </tr>\n",
       "    <tr>\n",
       "      <th>max</th>\n",
       "      <td>97.600000</td>\n",
       "      <td>271.740000</td>\n",
       "    </tr>\n",
       "  </tbody>\n",
       "</table>\n",
       "</div>"
      ],
      "text/plain": [
       "               bmi  avg_glucose_level\n",
       "count  5109.000000        5109.000000\n",
       "mean     28.894508         106.140399\n",
       "std       7.698235          45.285004\n",
       "min      10.300000          55.120000\n",
       "25%      23.800000          77.240000\n",
       "50%      28.400000          91.880000\n",
       "75%      32.800000         114.090000\n",
       "max      97.600000         271.740000"
      ]
     },
     "execution_count": 21,
     "metadata": {},
     "output_type": "execute_result"
    }
   ],
   "source": [
    "df.loc[:,['bmi', 'avg_glucose_level']].describe(include='all')"
   ]
  },
  {
   "cell_type": "code",
   "execution_count": 22,
   "metadata": {},
   "outputs": [
    {
     "name": "stdout",
     "output_type": "stream",
     "text": [
      "[10.3, 11.3, 11.5, 12.0, 12.3, 12.8, 13.0, 13.2, 13.3, 13.4, 13.5, 13.7, 13.7, 13.8, 13.8, 13.9, 14.0, 14.1, 14.1, 14.1, 14.1, 14.1, 14.2, 14.2, 14.2, 14.2, 14.3, 14.3, 14.3, 14.4, 14.4, 14.5, 14.5, 14.6, 14.6, 14.6, 14.6, 14.8, 14.8, 14.8, 14.8, 14.9, 15.0, 15.0, 15.1, 15.1, 15.1, 15.1, 15.1, 15.1, 15.1, 15.1, 15.2, 15.2, 15.2, 15.2, 15.3, 15.3, 15.3, 15.3, 15.4, 15.4, 15.4, 15.5, 15.5, 15.5, 15.5, 15.5, 15.6, 15.6, 15.6, 15.7, 15.7, 15.7, 15.8, 15.8, 15.8, 15.8, 15.8, 15.9, 15.9, 15.9, 15.9, 15.9, 16.0, 16.0, 16.0, 16.0, 16.0, 16.0, 16.0, 16.0, 16.1, 16.1, 16.1, 16.1, 16.1, 16.1, 16.1, 16.1, 16.2, 16.2, 16.2, 16.2, 16.2, 16.2, 16.2, 16.2, 16.2, 16.2, 16.3, 16.3, 16.3, 16.3, 16.3, 16.3, 16.3, 16.3, 16.3, 16.3, 16.4, 16.4, 16.4, 16.4, 16.4, 16.4, 16.4, 16.4, 16.4, 16.4, 16.4, 16.5, 16.5, 16.5, 16.5, 16.6, 16.6, 16.6, 16.6, 16.6, 16.6, 16.6, 16.6, 16.7, 16.7, 16.7, 16.7, 16.7, 16.7, 16.7, 16.7, 16.7, 16.7, 16.7, 16.8, 16.8, 16.8, 16.8, 16.8, 16.8, 16.8, 16.9, 16.9, 16.9, 16.9, 16.9, 16.9, 16.9, 17.0, 17.0, 17.0, 17.0, 17.0, 17.0, 17.0, 17.0, 17.0, 17.0, 17.1, 17.1, 17.1, 17.1, 17.1, 17.1, 17.1, 17.1, 17.1, 17.1, 17.1, 17.1, 17.2, 17.2, 17.2, 17.2, 17.2, 17.2, 17.2, 17.2, 17.2, 17.2, 17.2, 17.3, 17.3, 17.3, 17.3, 17.3, 17.3, 17.3, 17.3, 17.3, 17.4, 17.4, 17.4, 17.4, 17.4, 17.4, 17.4, 17.4, 17.4, 17.4, 17.4, 17.4, 17.4, 17.5, 17.5, 17.5, 17.5, 17.5, 17.5, 17.5, 17.6, 17.6, 17.6, 17.6, 17.6, 17.6, 17.6, 17.6, 17.6, 17.6, 17.6, 17.6, 17.6, 17.6, 17.6, 17.6, 17.7, 17.7, 17.7, 17.7, 17.7, 17.7, 17.7, 17.7, 17.7, 17.7, 17.7, 17.7, 17.7, 17.8, 17.8, 17.8, 17.8, 17.8, 17.8, 17.8, 17.9, 17.9, 17.9, 17.9, 17.9, 17.9, 17.9, 18.0, 18.0, 18.0, 18.0, 18.0, 18.0, 18.0, 18.0, 18.0, 18.0, 18.0, 18.0, 18.0, 18.0, 18.0, 18.0, 18.1, 18.1, 18.1, 18.1, 18.1, 18.1, 18.1, 18.1, 18.1, 18.1, 18.1, 18.1, 18.2, 18.2, 18.2, 18.2, 18.2, 18.2, 18.2, 18.2, 18.2, 18.3, 18.3, 18.3, 18.3, 18.3, 18.3, 18.3, 18.3, 18.3, 18.3, 18.3, 18.3, 18.3, 18.3, 18.3, 18.3, 18.3, 18.4, 18.4, 18.4, 18.4, 18.4, 18.4, 18.4, 18.4, 18.4, 18.4, 18.5, 18.5, 18.5, 18.5, 18.5, 18.5, 18.5, 18.5, 18.5, 18.5, 18.5, 18.5, 18.6, 18.6, 18.6, 18.6, 18.6, 18.6, 18.6, 18.6, 18.6, 18.6, 18.6, 18.6, 18.6, 18.6, 18.6, 18.6, 18.6, 18.6, 18.6, 18.7, 18.7, 18.7, 18.7, 18.7, 18.7, 18.7, 18.7, 18.7, 18.7, 18.7, 18.7, 18.7, 18.8, 18.8, 18.8, 18.8, 18.8, 18.8, 18.8, 18.8, 18.8, 18.8, 18.8, 18.8, 18.8, 18.8, 18.8, 18.9, 18.9, 18.9, 18.9, 18.9, 18.9, 18.9, 18.9, 19.0, 19.0, 19.0, 19.0, 19.0, 19.0, 19.0, 19.1, 19.1, 19.1, 19.1, 19.1, 19.1, 19.1, 19.1, 19.1, 19.1, 19.1, 19.2, 19.2, 19.2, 19.2, 19.2, 19.2, 19.2, 19.2, 19.2, 19.2, 19.2, 19.2, 19.2, 19.3, 19.3, 19.3, 19.3, 19.3, 19.3, 19.3, 19.3, 19.3, 19.4, 19.4, 19.4, 19.4, 19.4, 19.4, 19.4, 19.4, 19.4, 19.4, 19.4, 19.4, 19.4, 19.4, 19.5, 19.5, 19.5, 19.5, 19.5, 19.5, 19.5, 19.5, 19.5, 19.5, 19.5, 19.5, 19.5, 19.5, 19.5, 19.5, 19.5, 19.5, 19.5, 19.5, 19.5, 19.6, 19.6, 19.6, 19.6, 19.6, 19.6, 19.6, 19.7, 19.7, 19.7, 19.7, 19.7, 19.7, 19.7, 19.7, 19.8, 19.8, 19.8, 19.8, 19.8, 19.8, 19.8, 19.8, 19.8, 19.8, 19.8, 19.8, 19.8, 19.8, 19.8, 19.8, 19.8, 19.9, 19.9, 19.9, 19.9, 19.9, 19.9, 19.9, 19.9, 19.9, 20.0, 20.0, 20.0, 20.0, 20.0, 20.0, 20.0, 20.0, 20.0, 20.0, 20.0, 20.0, 20.0, 20.0, 20.0, 20.0, 20.0, 20.1, 20.1, 20.1, 20.1, 20.1, 20.1, 20.1, 20.1, 20.1, 20.1, 20.1, 20.1, 20.1, 20.1, 20.1, 20.1, 20.1, 20.1, 20.1, 20.1, 20.1, 20.1, 20.1, 20.1, 20.1, 20.2, 20.2, 20.2, 20.2, 20.2, 20.2, 20.2, 20.2, 20.2, 20.2, 20.2, 20.2, 20.2, 20.2, 20.2, 20.2, 20.3, 20.3, 20.3, 20.3, 20.3, 20.3, 20.3, 20.3, 20.3, 20.3, 20.3, 20.3, 20.3, 20.3, 20.3, 20.3, 20.3, 20.4, 20.4, 20.4, 20.4, 20.4, 20.4, 20.4, 20.4, 20.4, 20.4, 20.4, 20.4, 20.4, 20.4, 20.4, 20.4, 20.4, 20.4, 20.4, 20.4, 20.4, 20.4, 20.4, 20.5, 20.5, 20.5, 20.5, 20.5, 20.5, 20.5, 20.5, 20.5, 20.5, 20.5, 20.5, 20.5, 20.5, 20.5, 20.5, 20.5, 20.5, 20.6, 20.6, 20.6, 20.6, 20.6, 20.6, 20.6, 20.6, 20.6, 20.6, 20.6, 20.6, 20.6, 20.6, 20.6, 20.7, 20.7, 20.7, 20.7, 20.7, 20.7, 20.7, 20.7, 20.7, 20.7, 20.7, 20.7, 20.8, 20.8, 20.8, 20.8, 20.8, 20.8, 20.8, 20.8, 20.8, 20.8, 20.8, 20.8, 20.8, 20.8, 20.8, 20.8, 20.8, 20.9, 20.9, 20.9, 20.9, 20.9, 20.9, 20.9, 20.9, 20.9, 20.9, 20.9, 20.9, 20.9, 21.0, 21.0, 21.0, 21.0, 21.0, 21.0, 21.0, 21.0, 21.0, 21.0, 21.0, 21.0, 21.0, 21.0, 21.0, 21.0, 21.0, 21.1, 21.1, 21.1, 21.1, 21.1, 21.1, 21.1, 21.1, 21.1, 21.1, 21.1, 21.1, 21.1, 21.1, 21.1, 21.1, 21.2, 21.2, 21.2, 21.2, 21.2, 21.2, 21.2, 21.2, 21.2, 21.2, 21.2, 21.2, 21.2, 21.2, 21.2, 21.2, 21.3, 21.3, 21.3, 21.3, 21.3, 21.3, 21.3, 21.3, 21.3, 21.3, 21.3, 21.3, 21.3, 21.3, 21.3, 21.3, 21.3, 21.3, 21.3, 21.3, 21.3, 21.4, 21.4, 21.4, 21.4, 21.4, 21.4, 21.4, 21.4, 21.4, 21.4, 21.4, 21.4, 21.4, 21.4, 21.4, 21.4, 21.4, 21.4, 21.4, 21.4, 21.4, 21.4, 21.5, 21.5, 21.5, 21.5, 21.5, 21.5, 21.5, 21.5, 21.5, 21.5, 21.5, 21.5, 21.5, 21.5, 21.5, 21.5, 21.5, 21.5, 21.5, 21.5, 21.5, 21.5, 21.5, 21.5, 21.5, 21.5, 21.5, 21.6, 21.6, 21.6, 21.6, 21.6, 21.6, 21.6, 21.6, 21.6, 21.6, 21.6, 21.6, 21.6, 21.6, 21.6, 21.6, 21.7, 21.7, 21.7, 21.7, 21.7, 21.7, 21.7, 21.7, 21.7, 21.7, 21.7, 21.7, 21.7, 21.7, 21.8, 21.8, 21.8, 21.8, 21.8, 21.8, 21.8, 21.8, 21.8, 21.8, 21.8, 21.8, 21.8, 21.8, 21.8, 21.8, 21.8, 21.8, 21.9, 21.9, 21.9, 21.9, 21.9, 21.9, 21.9, 21.9, 21.9, 21.9, 21.9, 21.9, 21.9, 21.9, 22.0, 22.0, 22.0, 22.0, 22.0, 22.0, 22.0, 22.0, 22.0, 22.0, 22.0, 22.0, 22.0, 22.0, 22.0, 22.1, 22.1, 22.1, 22.1, 22.1, 22.1, 22.1, 22.1, 22.1, 22.1, 22.1, 22.1, 22.1, 22.1, 22.1, 22.1, 22.1, 22.1, 22.1, 22.1, 22.1, 22.1, 22.2, 22.2, 22.2, 22.2, 22.2, 22.2, 22.2, 22.2, 22.2, 22.2, 22.2, 22.2, 22.2, 22.2, 22.2, 22.2, 22.2, 22.2, 22.2, 22.2, 22.2, 22.2, 22.2, 22.2, 22.2, 22.2, 22.2, 22.2, 22.2, 22.2, 22.3, 22.3, 22.3, 22.3, 22.3, 22.3, 22.3, 22.3, 22.3, 22.3, 22.3, 22.3, 22.3, 22.3, 22.3, 22.3, 22.3, 22.3, 22.4, 22.4, 22.4, 22.4, 22.4, 22.4, 22.4, 22.4, 22.4, 22.4, 22.4, 22.4, 22.4, 22.4, 22.4, 22.4, 22.4, 22.4, 22.4, 22.4, 22.4, 22.5, 22.5, 22.5, 22.5, 22.5, 22.5, 22.5, 22.5, 22.5, 22.5, 22.5, 22.5, 22.5, 22.6, 22.6, 22.6, 22.6, 22.6, 22.6, 22.6, 22.6, 22.6, 22.6, 22.6, 22.6, 22.6, 22.6, 22.6, 22.6, 22.6, 22.6, 22.7, 22.7, 22.7, 22.7, 22.7, 22.7, 22.7, 22.7, 22.7, 22.7, 22.7, 22.7, 22.7, 22.7, 22.7, 22.7, 22.7, 22.7, 22.7, 22.7, 22.7, 22.7, 22.7, 22.7, 22.7, 22.8, 22.8, 22.8, 22.8, 22.8, 22.8, 22.8, 22.8, 22.8, 22.8, 22.8, 22.8, 22.8, 22.8, 22.8, 22.8, 22.8, 22.8, 22.8, 22.8, 22.8, 22.8, 22.8, 22.8, 22.8, 22.9, 22.9, 22.9, 22.9, 22.9, 22.9, 22.9, 22.9, 22.9, 22.9, 22.9, 22.9, 22.9, 22.9, 22.9, 22.9, 23.0, 23.0, 23.0, 23.0, 23.0, 23.0, 23.0, 23.0, 23.0, 23.0, 23.0, 23.0, 23.0, 23.0, 23.0, 23.0, 23.0, 23.0, 23.0, 23.0, 23.0, 23.0, 23.0, 23.0, 23.0, 23.0, 23.0, 23.1, 23.1, 23.1, 23.1, 23.1, 23.1, 23.1, 23.1, 23.1, 23.1, 23.1, 23.1, 23.1, 23.1, 23.1, 23.1, 23.1, 23.1, 23.1, 23.1, 23.1, 23.2, 23.2, 23.2, 23.2, 23.2, 23.2, 23.2, 23.2, 23.2, 23.2, 23.2, 23.2, 23.2, 23.2, 23.2, 23.2, 23.2, 23.2, 23.2, 23.2, 23.3, 23.3, 23.3, 23.3, 23.3, 23.3, 23.3, 23.3, 23.3, 23.3, 23.3, 23.3, 23.3, 23.3, 23.3, 23.3, 23.3, 23.3, 23.3, 23.4, 23.4, 23.4, 23.4, 23.4, 23.4, 23.4, 23.4, 23.4, 23.4, 23.4, 23.4, 23.4, 23.4, 23.4, 23.4, 23.4, 23.4, 23.4, 23.4, 23.4, 23.4, 23.4, 23.4, 23.4, 23.4, 23.4, 23.4, 23.4, 23.4, 23.4, 23.4, 23.4, 23.4, 23.4, 23.4, 23.5, 23.5, 23.5, 23.5, 23.5, 23.5, 23.5, 23.5, 23.5, 23.5, 23.5, 23.5, 23.5, 23.5, 23.5, 23.5, 23.5, 23.5, 23.5, 23.5, 23.5, 23.5, 23.5, 23.5, 23.5, 23.5, 23.5, 23.5, 23.5, 23.5, 23.5, 23.6, 23.6, 23.6, 23.6, 23.6, 23.6, 23.6, 23.6, 23.6, 23.6, 23.6, 23.6, 23.6, 23.6, 23.6, 23.6, 23.6, 23.6, 23.6, 23.6, 23.6, 23.6, 23.6, 23.6, 23.7, 23.7, 23.7, 23.7, 23.7, 23.7, 23.7, 23.7, 23.7, 23.7, 23.7, 23.7, 23.7, 23.7, 23.7, 23.7, 23.8, 23.8, 23.8, 23.8, 23.8, 23.8, 23.8, 23.8, 23.8, 23.8, 23.8, 23.8, 23.8, 23.8, 23.8, 23.8, 23.8, 23.8, 23.8, 23.8, 23.8, 23.8, 23.9, 23.9, 23.9, 23.9, 23.9, 23.9, 23.9, 23.9, 23.9, 23.9, 23.9, 23.9, 23.9, 23.9, 23.9, 23.9, 23.9, 23.9, 23.9, 23.9, 23.9, 23.9, 23.9, 23.9, 24.0, 24.0, 24.0, 24.0, 24.0, 24.0, 24.0, 24.0, 24.0, 24.0, 24.0, 24.0, 24.0, 24.0, 24.0, 24.0, 24.0, 24.0, 24.0, 24.0, 24.0, 24.0, 24.0, 24.0, 24.0, 24.0, 24.0, 24.0, 24.1, 24.1, 24.1, 24.1, 24.1, 24.1, 24.1, 24.1, 24.1, 24.1, 24.1, 24.1, 24.1, 24.1, 24.1, 24.1, 24.1, 24.1, 24.1, 24.1, 24.1, 24.1, 24.1, 24.1, 24.1, 24.1, 24.1, 24.1, 24.2, 24.2, 24.2, 24.2, 24.2, 24.2, 24.2, 24.2, 24.2, 24.2, 24.2, 24.2, 24.2, 24.2, 24.2, 24.2, 24.2, 24.2, 24.2, 24.2, 24.2, 24.2, 24.2, 24.2, 24.2, 24.2, 24.2, 24.2, 24.2, 24.3, 24.3, 24.3, 24.3, 24.3, 24.3, 24.3, 24.3, 24.3, 24.3, 24.3, 24.3, 24.3, 24.3, 24.3, 24.3, 24.3, 24.3, 24.3, 24.3, 24.3, 24.3, 24.3, 24.3, 24.3, 24.3, 24.4, 24.4, 24.4, 24.4, 24.4, 24.4, 24.4, 24.4, 24.4, 24.4, 24.4, 24.4, 24.4, 24.4, 24.4, 24.4, 24.4, 24.4, 24.4, 24.4, 24.4, 24.4, 24.4, 24.5, 24.5, 24.5, 24.5, 24.5, 24.5, 24.5, 24.5, 24.5, 24.5, 24.5, 24.5, 24.5, 24.5, 24.5, 24.5, 24.5, 24.5, 24.5, 24.5, 24.5, 24.5, 24.5, 24.5, 24.5, 24.5, 24.6, 24.6, 24.6, 24.6, 24.6, 24.6, 24.6, 24.6, 24.6, 24.6, 24.6, 24.6, 24.6, 24.6, 24.6, 24.6, 24.6, 24.6, 24.6, 24.6, 24.6, 24.6, 24.7, 24.7, 24.7, 24.7, 24.7, 24.7, 24.7, 24.7, 24.7, 24.7, 24.7, 24.7, 24.7, 24.7, 24.7, 24.7, 24.7, 24.7, 24.7, 24.7, 24.7, 24.7, 24.8, 24.8, 24.8, 24.8, 24.8, 24.8, 24.8, 24.8, 24.8, 24.8, 24.8, 24.8, 24.8, 24.8, 24.8, 24.8, 24.8, 24.8, 24.8, 24.8, 24.8, 24.8, 24.8, 24.8, 24.8, 24.8, 24.8, 24.8, 24.8, 24.8, 24.8, 24.9, 24.9, 24.9, 24.9, 24.9, 24.9, 24.9, 24.9, 24.9, 24.9, 24.9, 24.9, 24.9, 24.9, 24.9, 24.9, 24.9, 24.9, 24.9, 24.9, 24.9, 24.9, 24.9, 24.9, 24.9, 24.9, 24.9, 25.0, 25.0, 25.0, 25.0, 25.0, 25.0, 25.0, 25.0, 25.0, 25.0, 25.0, 25.0, 25.0, 25.0, 25.0, 25.0, 25.0, 25.0, 25.0, 25.0, 25.0, 25.0, 25.0, 25.0, 25.0, 25.0, 25.0, 25.1, 25.1, 25.1, 25.1, 25.1, 25.1, 25.1, 25.1, 25.1, 25.1, 25.1, 25.1, 25.1, 25.1, 25.1, 25.1, 25.1, 25.1, 25.1, 25.1, 25.1, 25.1, 25.1, 25.1, 25.1, 25.1, 25.1, 25.1, 25.1, 25.1, 25.1, 25.1, 25.1, 25.1, 25.2, 25.2, 25.2, 25.2, 25.2, 25.2, 25.2, 25.2, 25.2, 25.2, 25.2, 25.2, 25.2, 25.2, 25.2, 25.2, 25.2, 25.2, 25.3, 25.3, 25.3, 25.3, 25.3, 25.3, 25.3, 25.3, 25.3, 25.3, 25.3, 25.3, 25.3, 25.3, 25.3, 25.3, 25.3, 25.3, 25.3, 25.3, 25.3, 25.3, 25.3, 25.3, 25.3, 25.3, 25.3, 25.3, 25.4, 25.4, 25.4, 25.4, 25.4, 25.4, 25.4, 25.4, 25.4, 25.4, 25.4, 25.4, 25.4, 25.4, 25.4, 25.4, 25.4, 25.4, 25.4, 25.4, 25.4, 25.4, 25.4, 25.4, 25.4, 25.4, 25.5, 25.5, 25.5, 25.5, 25.5, 25.5, 25.5, 25.5, 25.5, 25.5, 25.5, 25.5, 25.5, 25.5, 25.5, 25.5, 25.5, 25.5, 25.5, 25.5, 25.5, 25.5, 25.5, 25.5, 25.5, 25.5, 25.5, 25.5, 25.5, 25.5, 25.5, 25.5, 25.5, 25.6, 25.6, 25.6, 25.6, 25.6, 25.6, 25.6, 25.6, 25.6, 25.6, 25.6, 25.6, 25.6, 25.6, 25.6, 25.6, 25.6, 25.6, 25.6, 25.6, 25.6, 25.7, 25.7, 25.7, 25.7, 25.7, 25.7, 25.7, 25.7, 25.7, 25.7, 25.7, 25.7, 25.7, 25.7, 25.7, 25.8, 25.8, 25.8, 25.8, 25.8, 25.8, 25.8, 25.8, 25.8, 25.8, 25.8, 25.8, 25.8, 25.8, 25.8, 25.8, 25.8, 25.8, 25.8, 25.8, 25.8, 25.8, 25.8, 25.8, 25.9, 25.9, 25.9, 25.9, 25.9, 25.9, 25.9, 25.9, 25.9, 25.9, 25.9, 25.9, 25.9, 25.9, 25.9, 25.9, 25.9, 25.9, 25.9, 25.9, 25.9, 25.9, 25.9, 25.9, 26.0, 26.0, 26.0, 26.0, 26.0, 26.0, 26.0, 26.0, 26.0, 26.0, 26.0, 26.0, 26.0, 26.0, 26.0, 26.0, 26.0, 26.0, 26.0, 26.0, 26.0, 26.0, 26.0, 26.0, 26.0, 26.1, 26.1, 26.1, 26.1, 26.1, 26.1, 26.1, 26.1, 26.1, 26.1, 26.1, 26.1, 26.1, 26.1, 26.1, 26.1, 26.1, 26.1, 26.1, 26.1, 26.1, 26.1, 26.1, 26.1, 26.1, 26.1, 26.1, 26.1, 26.1, 26.1, 26.1, 26.1, 26.1, 26.1, 26.1, 26.1, 26.1, 26.2, 26.2, 26.2, 26.2, 26.2, 26.2, 26.2, 26.2, 26.2, 26.2, 26.2, 26.2, 26.2, 26.2, 26.2, 26.2, 26.2, 26.2, 26.2, 26.2, 26.2, 26.2, 26.2, 26.2, 26.2, 26.2, 26.2, 26.3, 26.3, 26.3, 26.3, 26.3, 26.3, 26.3, 26.3, 26.3, 26.3, 26.3, 26.3, 26.3, 26.3, 26.3, 26.3, 26.3, 26.3, 26.3, 26.3, 26.3, 26.3, 26.3, 26.4, 26.4, 26.4, 26.4, 26.4, 26.4, 26.4, 26.4, 26.4, 26.4, 26.4, 26.4, 26.4, 26.4, 26.4, 26.4, 26.4, 26.4, 26.4, 26.4, 26.4, 26.4, 26.4, 26.4, 26.4, 26.4, 26.4, 26.4, 26.4, 26.4, 26.4, 26.4, 26.4, 26.4, 26.5, 26.5, 26.5, 26.5, 26.5, 26.5, 26.5, 26.5, 26.5, 26.5, 26.5, 26.5, 26.5, 26.5, 26.5, 26.5, 26.5, 26.5, 26.5, 26.5, 26.5, 26.5, 26.5, 26.5, 26.5, 26.5, 26.5, 26.5, 26.5, 26.5, 26.6, 26.6, 26.6, 26.6, 26.6, 26.6, 26.6, 26.6, 26.6, 26.6, 26.6, 26.6, 26.6, 26.6, 26.6, 26.6, 26.6, 26.6, 26.6, 26.6, 26.6, 26.6, 26.6, 26.6, 26.6, 26.6, 26.6, 26.6, 26.6, 26.7, 26.7, 26.7, 26.7, 26.7, 26.7, 26.7, 26.7, 26.7, 26.7, 26.7, 26.7, 26.7, 26.7, 26.7, 26.7, 26.7, 26.7, 26.7, 26.7, 26.7, 26.7, 26.7, 26.7, 26.7, 26.7, 26.7, 26.7, 26.7, 26.7, 26.7, 26.7, 26.7, 26.7, 26.7, 26.7, 26.7, 26.8, 26.8, 26.8, 26.8, 26.8, 26.8, 26.8, 26.8, 26.8, 26.8, 26.8, 26.8, 26.8, 26.8, 26.8, 26.8, 26.8, 26.8, 26.8, 26.8, 26.8, 26.9, 26.9, 26.9, 26.9, 26.9, 26.9, 26.9, 26.9, 26.9, 26.9, 26.9, 26.9, 26.9, 26.9, 26.9, 26.9, 26.9, 26.9, 26.9, 26.9, 26.9, 26.9, 26.9, 26.9, 26.9, 26.9, 26.9, 26.9, 26.9, 26.9, 26.9, 26.9, 26.9, 26.9, 27.0, 27.0, 27.0, 27.0, 27.0, 27.0, 27.0, 27.0, 27.0, 27.0, 27.0, 27.0, 27.0, 27.0, 27.0, 27.0, 27.0, 27.0, 27.0, 27.0, 27.0, 27.0, 27.0, 27.0, 27.0, 27.0, 27.0, 27.0, 27.0, 27.0, 27.0, 27.0, 27.0, 27.0, 27.0, 27.1, 27.1, 27.1, 27.1, 27.1, 27.1, 27.1, 27.1, 27.1, 27.1, 27.1, 27.1, 27.1, 27.1, 27.1, 27.1, 27.1, 27.1, 27.1, 27.1, 27.1, 27.1, 27.1, 27.1, 27.1, 27.1, 27.1, 27.1, 27.2, 27.2, 27.2, 27.2, 27.2, 27.2, 27.2, 27.2, 27.2, 27.2, 27.2, 27.2, 27.2, 27.2, 27.2, 27.2, 27.2, 27.2, 27.2, 27.2, 27.2, 27.2, 27.2, 27.2, 27.3, 27.3, 27.3, 27.3, 27.3, 27.3, 27.3, 27.3, 27.3, 27.3, 27.3, 27.3, 27.3, 27.3, 27.3, 27.3, 27.3, 27.3, 27.3, 27.3, 27.3, 27.3, 27.3, 27.3, 27.3, 27.3, 27.3, 27.3, 27.3, 27.3, 27.3, 27.3, 27.3, 27.3, 27.3, 27.3, 27.4, 27.4, 27.4, 27.4, 27.4, 27.4, 27.4, 27.4, 27.4, 27.4, 27.4, 27.4, 27.4, 27.4, 27.4, 27.4, 27.4, 27.4, 27.4, 27.4, 27.4, 27.4, 27.5, 27.5, 27.5, 27.5, 27.5, 27.5, 27.5, 27.5, 27.5, 27.5, 27.5, 27.5, 27.5, 27.5, 27.5, 27.5, 27.5, 27.5, 27.5, 27.5, 27.5, 27.5, 27.5, 27.5, 27.5, 27.5, 27.5, 27.5, 27.5, 27.6, 27.6, 27.6, 27.6, 27.6, 27.6, 27.6, 27.6, 27.6, 27.6, 27.6, 27.6, 27.6, 27.6, 27.6, 27.6, 27.6, 27.6, 27.6, 27.6, 27.6, 27.6, 27.6, 27.6, 27.6, 27.6, 27.6, 27.6, 27.6, 27.6, 27.6, 27.6, 27.6, 27.6, 27.6, 27.6, 27.6, 27.7, 27.7, 27.7, 27.7, 27.7, 27.7, 27.7, 27.7, 27.7, 27.7, 27.7, 27.7, 27.7, 27.7, 27.7, 27.7, 27.7, 27.7, 27.7, 27.7, 27.7, 27.7, 27.7, 27.7, 27.7, 27.7, 27.7, 27.7, 27.7, 27.7, 27.7, 27.7, 27.7, 27.7, 27.7, 27.7, 27.7, 27.8, 27.8, 27.8, 27.8, 27.8, 27.8, 27.8, 27.8, 27.8, 27.8, 27.8, 27.8, 27.8, 27.8, 27.8, 27.8, 27.8, 27.8, 27.8, 27.8, 27.8, 27.8, 27.8, 27.9, 27.9, 27.9, 27.9, 27.9, 27.9, 27.9, 27.9, 27.9, 27.9, 27.9, 27.9, 27.9, 27.9, 27.9, 27.9, 27.9, 27.9, 27.9, 27.9, 27.9, 27.9, 27.9, 27.9, 27.9, 27.9, 27.9, 27.9, 28.0, 28.0, 28.0, 28.0, 28.0, 28.0, 28.0, 28.0, 28.0, 28.0, 28.0, 28.0, 28.0, 28.0, 28.0, 28.0, 28.0, 28.0, 28.0, 28.0, 28.0, 28.0, 28.0, 28.0, 28.0, 28.0, 28.0, 28.0, 28.1, 28.1, 28.1, 28.1, 28.1, 28.1, 28.1, 28.1, 28.1, 28.1, 28.1, 28.1, 28.1, 28.1, 28.1, 28.1, 28.1, 28.1, 28.1, 28.1, 28.1, 28.1, 28.1, 28.1, 28.1, 28.1, 28.1, 28.1, 28.1, 28.2, 28.2, 28.2, 28.2, 28.2, 28.2, 28.2, 28.2, 28.2, 28.2, 28.2, 28.2, 28.2, 28.2, 28.2, 28.2, 28.2, 28.2, 28.2, 28.2, 28.2, 28.2, 28.2, 28.2, 28.2, 28.3, 28.3, 28.3, 28.3, 28.3, 28.3, 28.3, 28.3, 28.3, 28.3, 28.3, 28.3, 28.3, 28.3, 28.3, 28.3, 28.3, 28.3, 28.3, 28.3, 28.3, 28.3, 28.3, 28.3, 28.3, 28.3, 28.3, 28.3, 28.3, 28.3, 28.4, 28.4, 28.4, 28.4, 28.4, 28.4, 28.4, 28.4, 28.4, 28.4, 28.4, 28.4, 28.4, 28.4, 28.4, 28.4, 28.4, 28.4, 28.4, 28.4, 28.4, 28.4, 28.4, 28.4, 28.4, 28.4, 28.4, 28.4, 28.4, 28.4, 28.4, 28.4, 28.4, 28.4, 28.4, 28.4, 28.4, 28.4, 28.5, 28.5, 28.5, 28.5, 28.5, 28.5, 28.5, 28.5, 28.5, 28.5, 28.5, 28.5, 28.5, 28.5, 28.5, 28.5, 28.5, 28.5, 28.5, 28.5, 28.5, 28.5, 28.5, 28.5, 28.5, 28.5, 28.5, 28.6, 28.6, 28.6, 28.6, 28.6, 28.6, 28.6, 28.6, 28.6, 28.6, 28.6, 28.6, 28.6, 28.6, 28.6, 28.6, 28.6, 28.6, 28.6, 28.6, 28.6, 28.6, 28.6, 28.6, 28.6, 28.6, 28.6, 28.7, 28.7, 28.7, 28.7, 28.7, 28.7, 28.7, 28.7, 28.7, 28.7, 28.7, 28.7, 28.7, 28.7, 28.7, 28.7, 28.7, 28.7, 28.7, 28.7, 28.7, 28.7, 28.7, 28.7, 28.7, 28.7, 28.7, 28.7, 28.7, 28.7, 28.7, 28.7, 28.7, 28.7, 28.7, 28.7, 28.7, 28.7, 28.7, 28.7, 28.7, 28.8, 28.8, 28.8, 28.8, 28.8, 28.8, 28.8, 28.8, 28.8, 28.8, 28.8, 28.8, 28.8, 28.8, 28.8, 28.8, 28.8, 28.8, 28.8, 28.8, 28.8, 28.8, 28.8, 28.8, 28.8, 28.8, 28.893236911794663, 28.893236911794663, 28.893236911794663, 28.893236911794663, 28.893236911794663, 28.893236911794663, 28.893236911794663, 28.893236911794663, 28.893236911794663, 28.893236911794663, 28.893236911794663, 28.893236911794663, 28.893236911794663, 28.893236911794663, 28.893236911794663, 28.893236911794663, 28.893236911794663, 28.893236911794663, 28.893236911794663, 28.893236911794663, 28.893236911794663, 28.893236911794663, 28.893236911794663, 28.893236911794663, 28.893236911794663, 28.893236911794663, 28.893236911794663, 28.893236911794663, 28.893236911794663, 28.893236911794663, 28.893236911794663, 28.893236911794663, 28.893236911794663, 28.893236911794663, 28.893236911794663, 28.893236911794663, 28.893236911794663, 28.893236911794663, 28.893236911794663, 28.893236911794663, 28.893236911794663, 28.893236911794663, 28.893236911794663, 28.893236911794663, 28.893236911794663, 28.893236911794663, 28.893236911794663, 28.893236911794663, 28.893236911794663, 28.893236911794663, 28.893236911794663, 28.893236911794663, 28.893236911794663, 28.893236911794663, 28.893236911794663, 28.893236911794663, 28.893236911794663, 28.893236911794663, 28.893236911794663, 28.893236911794663, 28.893236911794663, 28.893236911794663, 28.893236911794663, 28.893236911794663, 28.893236911794663, 28.893236911794663, 28.893236911794663, 28.893236911794663, 28.893236911794663, 28.893236911794663, 28.893236911794663, 28.893236911794663, 28.893236911794663, 28.893236911794663, 28.893236911794663, 28.893236911794663, 28.893236911794663, 28.893236911794663, 28.893236911794663, 28.893236911794663, 28.893236911794663, 28.893236911794663, 28.893236911794663, 28.893236911794663, 28.893236911794663, 28.893236911794663, 28.893236911794663, 28.893236911794663, 28.893236911794663, 28.893236911794663, 28.893236911794663, 28.893236911794663, 28.893236911794663, 28.893236911794663, 28.893236911794663, 28.893236911794663, 28.893236911794663, 28.893236911794663, 28.893236911794663, 28.893236911794663, 28.893236911794663, 28.893236911794663, 28.893236911794663, 28.893236911794663, 28.893236911794663, 28.893236911794663, 28.893236911794663, 28.893236911794663, 28.893236911794663, 28.893236911794663, 28.893236911794663, 28.893236911794663, 28.893236911794663, 28.893236911794663, 28.893236911794663, 28.893236911794663, 28.893236911794663, 28.893236911794663, 28.893236911794663, 28.893236911794663, 28.893236911794663, 28.893236911794663, 28.893236911794663, 28.893236911794663, 28.893236911794663, 28.893236911794663, 28.893236911794663, 28.893236911794663, 28.893236911794663, 28.893236911794663, 28.893236911794663, 28.893236911794663, 28.893236911794663, 28.893236911794663, 28.893236911794663, 28.893236911794663, 28.893236911794663, 28.893236911794663, 28.893236911794663, 28.893236911794663, 28.893236911794663, 28.893236911794663, 28.893236911794663, 28.893236911794663, 28.893236911794663, 28.893236911794663, 28.893236911794663, 28.893236911794663, 28.893236911794663, 28.893236911794663, 28.893236911794663, 28.893236911794663, 28.893236911794663, 28.893236911794663, 28.893236911794663, 28.893236911794663, 28.893236911794663, 28.893236911794663, 28.893236911794663, 28.893236911794663, 28.893236911794663, 28.893236911794663, 28.893236911794663, 28.893236911794663, 28.893236911794663, 28.893236911794663, 28.893236911794663, 28.893236911794663, 28.893236911794663, 28.893236911794663, 28.893236911794663, 28.893236911794663, 28.893236911794663, 28.893236911794663, 28.893236911794663, 28.893236911794663, 28.893236911794663, 28.893236911794663, 28.893236911794663, 28.893236911794663, 28.893236911794663, 28.893236911794663, 28.893236911794663, 28.893236911794663, 28.893236911794663, 28.893236911794663, 28.893236911794663, 28.893236911794663, 28.893236911794663, 28.893236911794663, 28.893236911794663, 28.893236911794663, 28.893236911794663, 28.893236911794663, 28.893236911794663, 28.893236911794663, 28.893236911794663, 28.893236911794663, 28.893236911794663, 28.893236911794663, 28.893236911794663, 28.9, 28.9, 28.9, 28.9, 28.9, 28.9, 28.9, 28.9, 28.9, 28.9, 28.9, 28.9, 28.9, 28.9, 28.9, 28.9, 28.9, 28.9, 28.9, 28.9, 28.9, 28.9, 28.9, 28.9, 28.9, 28.9, 28.9, 28.9, 28.9, 28.9, 28.9, 29.0, 29.0, 29.0, 29.0, 29.0, 29.0, 29.0, 29.0, 29.0, 29.0, 29.0, 29.0, 29.0, 29.0, 29.0, 29.0, 29.0, 29.0, 29.0, 29.0, 29.0, 29.0, 29.0, 29.0, 29.0, 29.0, 29.1, 29.1, 29.1, 29.1, 29.1, 29.1, 29.1, 29.1, 29.1, 29.1, 29.1, 29.1, 29.1, 29.1, 29.1, 29.1, 29.1, 29.1, 29.1, 29.1, 29.1, 29.1, 29.1, 29.1, 29.1, 29.1, 29.1, 29.1, 29.1, 29.2, 29.2, 29.2, 29.2, 29.2, 29.2, 29.2, 29.2, 29.2, 29.2, 29.2, 29.2, 29.2, 29.2, 29.2, 29.2, 29.2, 29.2, 29.2, 29.2, 29.2, 29.2, 29.2, 29.2, 29.2, 29.2, 29.3, 29.3, 29.3, 29.3, 29.3, 29.3, 29.3, 29.3, 29.3, 29.3, 29.3, 29.3, 29.3, 29.3, 29.3, 29.3, 29.3, 29.3, 29.3, 29.3, 29.3, 29.3, 29.4, 29.4, 29.4, 29.4, 29.4, 29.4, 29.4, 29.4, 29.4, 29.4, 29.4, 29.4, 29.4, 29.4, 29.4, 29.4, 29.4, 29.4, 29.4, 29.4, 29.4, 29.4, 29.4, 29.4, 29.4, 29.4, 29.4, 29.4, 29.4, 29.4, 29.5, 29.5, 29.5, 29.5, 29.5, 29.5, 29.5, 29.5, 29.5, 29.5, 29.5, 29.5, 29.5, 29.5, 29.5, 29.5, 29.5, 29.5, 29.5, 29.5, 29.5, 29.5, 29.5, 29.5, 29.5, 29.5, 29.6, 29.6, 29.6, 29.6, 29.6, 29.6, 29.6, 29.6, 29.6, 29.6, 29.6, 29.6, 29.6, 29.6, 29.6, 29.6, 29.6, 29.6, 29.6, 29.6, 29.6, 29.6, 29.6, 29.6, 29.6, 29.6, 29.7, 29.7, 29.7, 29.7, 29.7, 29.7, 29.7, 29.7, 29.7, 29.7, 29.7, 29.7, 29.7, 29.7, 29.7, 29.7, 29.7, 29.7, 29.7, 29.7, 29.7, 29.7, 29.7, 29.7, 29.7, 29.7, 29.7, 29.8, 29.8, 29.8, 29.8, 29.8, 29.8, 29.8, 29.8, 29.8, 29.8, 29.8, 29.8, 29.8, 29.8, 29.8, 29.8, 29.8, 29.8, 29.8, 29.8, 29.8, 29.8, 29.8, 29.9, 29.9, 29.9, 29.9, 29.9, 29.9, 29.9, 29.9, 29.9, 29.9, 29.9, 29.9, 29.9, 29.9, 29.9, 29.9, 29.9, 29.9, 29.9, 29.9, 29.9, 29.9, 29.9, 29.9, 29.9, 29.9, 30.0, 30.0, 30.0, 30.0, 30.0, 30.0, 30.0, 30.0, 30.0, 30.0, 30.0, 30.0, 30.0, 30.0, 30.0, 30.0, 30.0, 30.0, 30.0, 30.0, 30.0, 30.0, 30.0, 30.0, 30.0, 30.0, 30.0, 30.1, 30.1, 30.1, 30.1, 30.1, 30.1, 30.1, 30.1, 30.1, 30.1, 30.1, 30.1, 30.1, 30.1, 30.1, 30.1, 30.1, 30.1, 30.1, 30.1, 30.1, 30.1, 30.1, 30.1, 30.1, 30.1, 30.2, 30.2, 30.2, 30.2, 30.2, 30.2, 30.2, 30.2, 30.2, 30.2, 30.2, 30.2, 30.2, 30.2, 30.2, 30.2, 30.2, 30.2, 30.2, 30.2, 30.3, 30.3, 30.3, 30.3, 30.3, 30.3, 30.3, 30.3, 30.3, 30.3, 30.3, 30.3, 30.3, 30.3, 30.3, 30.3, 30.3, 30.3, 30.3, 30.3, 30.3, 30.3, 30.3, 30.3, 30.3, 30.3, 30.3, 30.3, 30.3, 30.3, 30.4, 30.4, 30.4, 30.4, 30.4, 30.4, 30.4, 30.4, 30.4, 30.4, 30.4, 30.4, 30.4, 30.4, 30.4, 30.4, 30.4, 30.5, 30.5, 30.5, 30.5, 30.5, 30.5, 30.5, 30.5, 30.5, 30.5, 30.5, 30.5, 30.5, 30.5, 30.5, 30.5, 30.5, 30.5, 30.5, 30.5, 30.5, 30.5, 30.5, 30.5, 30.6, 30.6, 30.6, 30.6, 30.6, 30.6, 30.6, 30.6, 30.6, 30.6, 30.6, 30.6, 30.6, 30.6, 30.6, 30.6, 30.6, 30.6, 30.7, 30.7, 30.7, 30.7, 30.7, 30.7, 30.7, 30.7, 30.7, 30.7, 30.7, 30.7, 30.7, 30.7, 30.7, 30.7, 30.7, 30.7, 30.7, 30.7, 30.7, 30.7, 30.7, 30.8, 30.8, 30.8, 30.8, 30.8, 30.8, 30.8, 30.8, 30.8, 30.8, 30.8, 30.8, 30.8, 30.8, 30.8, 30.8, 30.8, 30.8, 30.8, 30.8, 30.8, 30.9, 30.9, 30.9, 30.9, 30.9, 30.9, 30.9, 30.9, 30.9, 30.9, 30.9, 30.9, 30.9, 30.9, 30.9, 30.9, 30.9, 30.9, 30.9, 30.9, 30.9, 30.9, 30.9, 30.9, 30.9, 30.9, 30.9, 31.0, 31.0, 31.0, 31.0, 31.0, 31.0, 31.0, 31.0, 31.0, 31.0, 31.0, 31.0, 31.0, 31.0, 31.0, 31.0, 31.0, 31.0, 31.0, 31.0, 31.0, 31.0, 31.1, 31.1, 31.1, 31.1, 31.1, 31.1, 31.1, 31.1, 31.1, 31.1, 31.1, 31.1, 31.1, 31.1, 31.1, 31.1, 31.1, 31.1, 31.1, 31.1, 31.1, 31.1, 31.1, 31.1, 31.1, 31.1, 31.2, 31.2, 31.2, 31.2, 31.2, 31.2, 31.2, 31.2, 31.2, 31.2, 31.2, 31.2, 31.2, 31.2, 31.2, 31.2, 31.2, 31.2, 31.2, 31.3, 31.3, 31.3, 31.3, 31.3, 31.3, 31.3, 31.3, 31.3, 31.3, 31.3, 31.3, 31.3, 31.3, 31.3, 31.3, 31.3, 31.3, 31.3, 31.3, 31.3, 31.4, 31.4, 31.4, 31.4, 31.4, 31.4, 31.4, 31.4, 31.4, 31.4, 31.4, 31.4, 31.4, 31.4, 31.4, 31.4, 31.4, 31.4, 31.4, 31.4, 31.4, 31.4, 31.4, 31.4, 31.4, 31.4, 31.4, 31.4, 31.4, 31.4, 31.5, 31.5, 31.5, 31.5, 31.5, 31.5, 31.5, 31.5, 31.5, 31.5, 31.5, 31.5, 31.5, 31.5, 31.5, 31.5, 31.5, 31.5, 31.5, 31.5, 31.5, 31.5, 31.5, 31.5, 31.5, 31.5, 31.5, 31.6, 31.6, 31.6, 31.6, 31.6, 31.6, 31.6, 31.6, 31.6, 31.6, 31.6, 31.6, 31.6, 31.6, 31.6, 31.6, 31.6, 31.6, 31.6, 31.6, 31.6, 31.7, 31.7, 31.7, 31.7, 31.7, 31.7, 31.7, 31.7, 31.7, 31.7, 31.7, 31.7, 31.7, 31.7, 31.8, 31.8, 31.8, 31.8, 31.8, 31.8, 31.8, 31.8, 31.8, 31.8, 31.8, 31.8, 31.8, 31.8, 31.8, 31.8, 31.8, 31.8, 31.8, 31.8, 31.8, 31.8, 31.8, 31.8, 31.9, 31.9, 31.9, 31.9, 31.9, 31.9, 31.9, 31.9, 31.9, 31.9, 31.9, 31.9, 31.9, 31.9, 31.9, 31.9, 31.9, 31.9, 31.9, 31.9, 31.9, 31.9, 32.0, 32.0, 32.0, 32.0, 32.0, 32.0, 32.0, 32.0, 32.0, 32.0, 32.0, 32.0, 32.0, 32.0, 32.0, 32.0, 32.0, 32.0, 32.0, 32.0, 32.0, 32.1, 32.1, 32.1, 32.1, 32.1, 32.1, 32.1, 32.1, 32.1, 32.1, 32.1, 32.1, 32.1, 32.1, 32.1, 32.1, 32.1, 32.1, 32.1, 32.1, 32.1, 32.1, 32.1, 32.1, 32.2, 32.2, 32.2, 32.2, 32.2, 32.2, 32.2, 32.2, 32.2, 32.2, 32.2, 32.2, 32.2, 32.2, 32.2, 32.2, 32.2, 32.2, 32.2, 32.2, 32.3, 32.3, 32.3, 32.3, 32.3, 32.3, 32.3, 32.3, 32.3, 32.3, 32.3, 32.3, 32.3, 32.3, 32.3, 32.3, 32.3, 32.3, 32.3, 32.3, 32.3, 32.3, 32.3, 32.3, 32.3, 32.3, 32.3, 32.3, 32.4, 32.4, 32.4, 32.4, 32.4, 32.4, 32.4, 32.4, 32.4, 32.4, 32.4, 32.4, 32.4, 32.4, 32.4, 32.4, 32.4, 32.4, 32.4, 32.5, 32.5, 32.5, 32.5, 32.5, 32.5, 32.5, 32.5, 32.5, 32.5, 32.5, 32.5, 32.5, 32.5, 32.5, 32.5, 32.5, 32.5, 32.5, 32.5, 32.5, 32.6, 32.6, 32.6, 32.6, 32.6, 32.6, 32.6, 32.6, 32.6, 32.6, 32.6, 32.6, 32.6, 32.6, 32.6, 32.6, 32.6, 32.6, 32.6, 32.7, 32.7, 32.7, 32.7, 32.7, 32.7, 32.7, 32.7, 32.7, 32.7, 32.7, 32.7, 32.7, 32.7, 32.7, 32.7, 32.7, 32.7, 32.7, 32.7, 32.7, 32.8, 32.8, 32.8, 32.8, 32.8, 32.8, 32.8, 32.8, 32.8, 32.8, 32.8, 32.8, 32.8, 32.8, 32.8, 32.8, 32.8, 32.8, 32.8, 32.8, 32.8, 32.8, 32.8, 32.8, 32.8, 32.9, 32.9, 32.9, 32.9, 32.9, 32.9, 32.9, 32.9, 32.9, 32.9, 32.9, 32.9, 32.9, 33.0, 33.0, 33.0, 33.0, 33.0, 33.0, 33.0, 33.0, 33.0, 33.0, 33.0, 33.0, 33.0, 33.0, 33.0, 33.1, 33.1, 33.1, 33.1, 33.1, 33.1, 33.1, 33.1, 33.1, 33.1, 33.1, 33.1, 33.1, 33.1, 33.1, 33.1, 33.1, 33.1, 33.1, 33.1, 33.1, 33.1, 33.1, 33.1, 33.1, 33.2, 33.2, 33.2, 33.2, 33.2, 33.2, 33.2, 33.2, 33.2, 33.2, 33.2, 33.2, 33.2, 33.2, 33.2, 33.2, 33.2, 33.3, 33.3, 33.3, 33.3, 33.3, 33.3, 33.3, 33.3, 33.3, 33.3, 33.3, 33.3, 33.3, 33.3, 33.3, 33.4, 33.4, 33.4, 33.4, 33.4, 33.4, 33.4, 33.4, 33.4, 33.4, 33.4, 33.4, 33.4, 33.4, 33.4, 33.4, 33.5, 33.5, 33.5, 33.5, 33.5, 33.5, 33.5, 33.5, 33.5, 33.5, 33.5, 33.5, 33.5, 33.5, 33.5, 33.5, 33.5, 33.5, 33.5, 33.5, 33.5, 33.5, 33.5, 33.6, 33.6, 33.6, 33.6, 33.6, 33.6, 33.6, 33.6, 33.6, 33.6, 33.6, 33.7, 33.7, 33.7, 33.7, 33.7, 33.7, 33.7, 33.7, 33.7, 33.7, 33.7, 33.7, 33.7, 33.7, 33.7, 33.7, 33.7, 33.7, 33.7, 33.8, 33.8, 33.8, 33.8, 33.8, 33.8, 33.8, 33.8, 33.8, 33.8, 33.8, 33.8, 33.8, 33.9, 33.9, 33.9, 33.9, 33.9, 33.9, 33.9, 33.9, 33.9, 33.9, 33.9, 33.9, 33.9, 34.0, 34.0, 34.0, 34.0, 34.0, 34.0, 34.0, 34.0, 34.0, 34.0, 34.0, 34.0, 34.0, 34.0, 34.0, 34.0, 34.0, 34.1, 34.1, 34.1, 34.1, 34.1, 34.1, 34.1, 34.1, 34.1, 34.1, 34.1, 34.1, 34.1, 34.1, 34.1, 34.2, 34.2, 34.2, 34.2, 34.2, 34.2, 34.2, 34.2, 34.2, 34.2, 34.2, 34.2, 34.2, 34.2, 34.2, 34.2, 34.2, 34.3, 34.3, 34.3, 34.3, 34.3, 34.3, 34.3, 34.3, 34.3, 34.3, 34.3, 34.3, 34.3, 34.3, 34.3, 34.3, 34.3, 34.3, 34.4, 34.4, 34.4, 34.4, 34.4, 34.4, 34.4, 34.4, 34.4, 34.4, 34.4, 34.4, 34.4, 34.4, 34.4, 34.4, 34.4, 34.4, 34.5, 34.5, 34.5, 34.5, 34.5, 34.5, 34.5, 34.5, 34.5, 34.5, 34.5, 34.5, 34.5, 34.5, 34.5, 34.5, 34.5, 34.5, 34.5, 34.5, 34.5, 34.6, 34.6, 34.6, 34.6, 34.6, 34.6, 34.6, 34.6, 34.6, 34.6, 34.6, 34.7, 34.7, 34.7, 34.7, 34.7, 34.7, 34.7, 34.7, 34.7, 34.7, 34.7, 34.7, 34.7, 34.7, 34.7, 34.7, 34.7, 34.7, 34.7, 34.7, 34.8, 34.8, 34.8, 34.8, 34.8, 34.8, 34.8, 34.8, 34.8, 34.8, 34.8, 34.8, 34.8, 34.8, 34.8, 34.9, 34.9, 34.9, 34.9, 34.9, 34.9, 34.9, 34.9, 34.9, 34.9, 34.9, 35.0, 35.0, 35.0, 35.0, 35.0, 35.0, 35.0, 35.0, 35.0, 35.0, 35.0, 35.0, 35.1, 35.1, 35.1, 35.1, 35.1, 35.1, 35.1, 35.1, 35.1, 35.1, 35.2, 35.2, 35.2, 35.2, 35.2, 35.2, 35.2, 35.2, 35.2, 35.2, 35.2, 35.2, 35.2, 35.2, 35.2, 35.2, 35.3, 35.3, 35.3, 35.3, 35.3, 35.3, 35.3, 35.3, 35.3, 35.3, 35.3, 35.3, 35.4, 35.4, 35.4, 35.4, 35.4, 35.4, 35.4, 35.4, 35.4, 35.5, 35.5, 35.5, 35.5, 35.5, 35.5, 35.5, 35.5, 35.5, 35.5, 35.5, 35.5, 35.5, 35.6, 35.6, 35.6, 35.6, 35.6, 35.6, 35.6, 35.6, 35.6, 35.6, 35.6, 35.6, 35.6, 35.6, 35.6, 35.7, 35.7, 35.7, 35.7, 35.7, 35.7, 35.7, 35.7, 35.7, 35.7, 35.7, 35.7, 35.7, 35.8, 35.8, 35.8, 35.8, 35.8, 35.8, 35.8, 35.8, 35.8, 35.8, 35.8, 35.8, 35.8, 35.8, 35.8, 35.8, 35.8, 35.8, 35.8, 35.8, 35.8, 35.8, 35.8, 35.8, 35.9, 35.9, 35.9, 35.9, 35.9, 35.9, 35.9, 35.9, 35.9, 35.9, 35.9, 35.9, 35.9, 35.9, 35.9, 35.9, 35.9, 35.9, 36.0, 36.0, 36.0, 36.0, 36.0, 36.0, 36.0, 36.0, 36.0, 36.0, 36.0, 36.1, 36.1, 36.1, 36.1, 36.1, 36.1, 36.1, 36.2, 36.2, 36.2, 36.2, 36.2, 36.2, 36.2, 36.2, 36.2, 36.2, 36.2, 36.2, 36.3, 36.3, 36.3, 36.3, 36.3, 36.3, 36.3, 36.3, 36.3, 36.3, 36.3, 36.3, 36.3, 36.4, 36.4, 36.4, 36.4, 36.4, 36.4, 36.4, 36.4, 36.4, 36.4, 36.5, 36.5, 36.5, 36.5, 36.6, 36.6, 36.6, 36.6, 36.6, 36.6, 36.6, 36.6, 36.6, 36.6, 36.6, 36.6, 36.6, 36.6, 36.7, 36.7, 36.7, 36.7, 36.7, 36.7, 36.7, 36.7, 36.7, 36.7, 36.7, 36.7, 36.7, 36.7, 36.7, 36.8, 36.8, 36.8, 36.8, 36.8, 36.8, 36.8, 36.8, 36.9, 36.9, 36.9, 36.9, 36.9, 36.9, 36.9, 36.9, 36.9, 36.9, 36.9, 36.9, 36.9, 37.0, 37.0, 37.0, 37.0, 37.0, 37.0, 37.0, 37.0, 37.0, 37.0, 37.1, 37.1, 37.1, 37.1, 37.1, 37.1, 37.1, 37.2, 37.2, 37.2, 37.2, 37.2, 37.2, 37.2, 37.2, 37.2, 37.3, 37.3, 37.3, 37.3, 37.3, 37.3, 37.3, 37.3, 37.3, 37.3, 37.3, 37.3, 37.3, 37.4, 37.4, 37.4, 37.4, 37.4, 37.4, 37.4, 37.4, 37.4, 37.4, 37.4, 37.5, 37.5, 37.5, 37.5, 37.5, 37.5, 37.5, 37.5, 37.5, 37.6, 37.6, 37.6, 37.6, 37.6, 37.6, 37.6, 37.6, 37.6, 37.7, 37.7, 37.7, 37.7, 37.7, 37.7, 37.7, 37.8, 37.8, 37.8, 37.8, 37.8, 37.8, 37.8, 37.8, 37.8, 37.8, 37.9, 37.9, 37.9, 37.9, 37.9, 37.9, 37.9, 37.9, 37.9, 37.9, 37.9, 38.0, 38.0, 38.0, 38.0, 38.0, 38.0, 38.0, 38.0, 38.0, 38.0, 38.0, 38.0, 38.0, 38.1, 38.1, 38.1, 38.1, 38.1, 38.1, 38.1, 38.1, 38.1, 38.1, 38.2, 38.2, 38.2, 38.2, 38.2, 38.2, 38.2, 38.2, 38.2, 38.3, 38.3, 38.4, 38.4, 38.4, 38.4, 38.4, 38.4, 38.5, 38.5, 38.5, 38.5, 38.5, 38.5, 38.5, 38.6, 38.6, 38.6, 38.6, 38.6, 38.6, 38.6, 38.6, 38.6, 38.7, 38.7, 38.7, 38.7, 38.7, 38.7, 38.7, 38.7, 38.7, 38.7, 38.7, 38.8, 38.8, 38.8, 38.8, 38.8, 38.8, 38.8, 38.8, 38.8, 38.8, 38.9, 38.9, 38.9, 38.9, 38.9, 38.9, 38.9, 38.9, 39.0, 39.0, 39.0, 39.0, 39.0, 39.0, 39.0, 39.1, 39.1, 39.1, 39.1, 39.1, 39.1, 39.1, 39.1, 39.2, 39.2, 39.2, 39.2, 39.2, 39.2, 39.2, 39.2, 39.2, 39.2, 39.3, 39.3, 39.3, 39.3, 39.3, 39.3, 39.4, 39.4, 39.4, 39.4, 39.4, 39.4, 39.4, 39.4, 39.4, 39.4, 39.5, 39.5, 39.5, 39.5, 39.5, 39.5, 39.5, 39.5, 39.6, 39.6, 39.6, 39.6, 39.6, 39.6, 39.6, 39.6, 39.6, 39.7, 39.7, 39.7, 39.7, 39.7, 39.7, 39.7, 39.7, 39.8, 39.8, 39.8, 39.8, 39.8, 39.9, 39.9, 39.9, 39.9, 39.9, 40.0, 40.0, 40.0, 40.0, 40.0, 40.0, 40.1, 40.1, 40.1, 40.1, 40.1, 40.1, 40.1, 40.1, 40.1, 40.1, 40.2, 40.2, 40.2, 40.2, 40.2, 40.2, 40.2, 40.2, 40.2, 40.2, 40.3, 40.3, 40.3, 40.3, 40.3, 40.3, 40.3, 40.3, 40.4, 40.4, 40.4, 40.4, 40.4, 40.4, 40.4, 40.4, 40.4, 40.5, 40.5, 40.5, 40.5, 40.5, 40.5, 40.5, 40.6, 40.7, 40.8, 40.8, 40.8, 40.8, 40.8, 40.8, 40.8, 40.9, 40.9, 40.9, 40.9, 40.9, 40.9, 41.0, 41.0, 41.0, 41.1, 41.1, 41.1, 41.1, 41.1, 41.1, 41.1, 41.2, 41.2, 41.2, 41.2, 41.2, 41.2, 41.2, 41.2, 41.3, 41.3, 41.3, 41.3, 41.3, 41.3, 41.4, 41.4, 41.4, 41.5, 41.5, 41.5, 41.5, 41.5, 41.5, 41.5, 41.5, 41.6, 41.6, 41.6, 41.6, 41.6, 41.7, 41.7, 41.7, 41.7, 41.7, 41.7, 41.7, 41.8, 41.8, 41.8, 41.8, 41.8, 41.8, 41.8, 41.8, 41.8, 41.8, 41.8, 41.9, 41.9, 41.9, 41.9, 41.9, 42.0, 42.0, 42.0, 42.1, 42.1, 42.1, 42.2, 42.2, 42.2, 42.2, 42.2, 42.2, 42.2, 42.2, 42.3, 42.3, 42.3, 42.3, 42.3, 42.4, 42.4, 42.4, 42.4, 42.4, 42.5, 42.5, 42.6, 42.6, 42.6, 42.6, 42.7, 42.7, 42.7, 42.7, 42.8, 42.8, 42.8, 42.9, 42.9, 42.9, 43.0, 43.0, 43.0, 43.0, 43.0, 43.0, 43.0, 43.0, 43.1, 43.1, 43.1, 43.1, 43.2, 43.2, 43.2, 43.2, 43.3, 43.3, 43.3, 43.3, 43.3, 43.4, 43.4, 43.4, 43.4, 43.4, 43.4, 43.6, 43.6, 43.6, 43.6, 43.7, 43.7, 43.7, 43.7, 43.7, 43.7, 43.7, 43.8, 43.8, 43.8, 43.8, 43.8, 43.8, 43.8, 43.8, 43.8, 43.9, 43.9, 43.9, 43.9, 43.9, 43.9, 43.9, 43.9, 44.0, 44.0, 44.0, 44.0, 44.1, 44.2, 44.2, 44.2, 44.2, 44.3, 44.3, 44.3, 44.4, 44.5, 44.5, 44.5, 44.5, 44.6, 44.6, 44.7, 44.7, 44.7, 44.7, 44.7, 44.7, 44.8, 44.8, 44.8, 44.8, 44.9, 44.9, 45.0, 45.0, 45.0, 45.0, 45.0, 45.1, 45.1, 45.2, 45.2, 45.2, 45.3, 45.3, 45.3, 45.3, 45.4, 45.4, 45.4, 45.4, 45.5, 45.5, 45.5, 45.5, 45.7, 45.7, 45.8, 45.9, 45.9, 46.0, 46.0, 46.0, 46.0, 46.1, 46.1, 46.2, 46.2, 46.3, 46.4, 46.5, 46.5, 46.6, 46.8, 46.9, 46.9, 47.1, 47.3, 47.3, 47.4, 47.5, 47.5, 47.5, 47.6, 47.6, 47.6, 47.8, 47.8, 47.9, 48.0, 48.1, 48.2, 48.3, 48.3, 48.4, 48.5, 48.5, 48.7, 48.8, 48.8, 48.9, 48.9, 48.9, 49.2, 49.3, 49.3, 49.3, 49.4, 49.5, 49.5, 49.8, 49.8, 49.8, 49.9, 50.1, 50.1, 50.2, 50.2, 50.2, 50.2, 50.3, 50.3, 50.4, 50.5, 50.6, 50.6, 50.8, 50.9, 51.0, 51.5, 51.7, 51.8, 51.9, 51.9, 52.3, 52.5, 52.7, 52.7, 52.8, 52.8, 52.8, 52.9, 53.4, 53.4, 53.5, 53.8, 53.8, 53.9, 54.0, 54.1, 54.2, 54.3, 54.6, 54.6, 54.7, 54.7, 54.7, 54.8, 55.0, 55.0, 55.1, 55.2, 55.7, 55.7, 55.7, 55.7, 55.9, 55.9, 56.0, 56.1, 56.6, 56.6, 57.2, 57.2, 57.3, 57.5, 57.7, 57.9, 58.1, 59.7, 60.2, 60.9, 60.9, 61.2, 61.6, 63.3, 64.4, 64.8, 66.8, 71.9, 78.0, 92.0, 97.6]\n",
      "[32.8, 32.8]\n",
      "23.8\n",
      "32.8\n"
     ]
    }
   ],
   "source": [
    "import math\n",
    "\n",
    "def quartile1(df, n):\n",
    "    len_df = len(df) - 1\n",
    "\n",
    "    q_pos = (len_df + 1) * (n * 0.25)\n",
    "\n",
    "    print(q_pos.is_integer())\n",
    "\n",
    "    if q_pos.is_integer():\n",
    "        q_v = df.loc[q_pos]\n",
    "    else: \n",
    "        q_v = (df.loc[math.ceil(q_pos)] + df.loc[math.floor(q_pos)]) / 2\n",
    "    return q_v\n",
    "\n",
    "len(df) / 4\n",
    "\n",
    "sorted_df = sorted(df['bmi'])\n",
    "\n",
    "print(sorted_df)\n",
    "print(sorted_df[3832:3834])\n",
    "\n",
    "print(df['bmi'].quantile(0.25))\n",
    "print(df['bmi'].quantile(0.75))"
   ]
  },
  {
   "cell_type": "code",
   "execution_count": 23,
   "metadata": {},
   "outputs": [
    {
     "name": "stdout",
     "output_type": "stream",
     "text": [
      "10.300000000000006 46.29999999999999 8.999999999999996\n"
     ]
    }
   ],
   "source": [
    "q1_bmi = df['bmi'].quantile(0.25)\n",
    "q3_bmi = df['bmi'].quantile(0.75)\n",
    "\n",
    "iqr_bmi = q3_bmi - q1_bmi\n",
    "lower_bound = q1_bmi - (1.5 * iqr_bmi)\n",
    "upper_bound = q3_bmi + (1.5 * iqr_bmi)\n",
    "\n",
    "print(lower_bound, upper_bound, iqr_bmi)\n",
    "condition = (df['bmi'].values < upper_bound) & (df['bmi'].values > lower_bound)\n",
    "\n",
    "df = df[condition]"
   ]
  },
  {
   "cell_type": "code",
   "execution_count": 24,
   "metadata": {},
   "outputs": [
    {
     "data": {
      "image/png": "[encoded data removed]",
      "text/plain": [
       "<Figure size 432x288 with 1 Axes>"
      ]
     },
     "metadata": {
      "needs_background": "light"
     },
     "output_type": "display_data"
    }
   ],
   "source": [
    "plt.boxplot(df['bmi'])\n",
    "plt.show()"
   ]
  },
  {
   "cell_type": "code",
   "execution_count": 25,
   "metadata": {},
   "outputs": [
    {
     "data": {
      "text/html": [
       "<div>\n",
       "<style scoped>\n",
       "    .dataframe tbody tr th:only-of-type {\n",
       "        vertical-align: middle;\n",
       "    }\n",
       "\n",
       "    .dataframe tbody tr th {\n",
       "        vertical-align: top;\n",
       "    }\n",
       "\n",
       "    .dataframe thead th {\n",
       "        text-align: right;\n",
       "    }\n",
       "</style>\n",
       "<table border=\"1\" class=\"dataframe\">\n",
       "  <thead>\n",
       "    <tr style=\"text-align: right;\">\n",
       "      <th></th>\n",
       "      <th>gender</th>\n",
       "      <th>age</th>\n",
       "      <th>hypertension</th>\n",
       "      <th>heart_disease</th>\n",
       "      <th>ever_married</th>\n",
       "      <th>work_type</th>\n",
       "      <th>Residence_type</th>\n",
       "      <th>avg_glucose_level</th>\n",
       "      <th>bmi</th>\n",
       "      <th>smoking_status</th>\n",
       "      <th>stroke</th>\n",
       "    </tr>\n",
       "  </thead>\n",
       "  <tbody>\n",
       "    <tr>\n",
       "      <th>count</th>\n",
       "      <td>4983.000000</td>\n",
       "      <td>4983.000000</td>\n",
       "      <td>4983.000000</td>\n",
       "      <td>4983.000000</td>\n",
       "      <td>4983.000000</td>\n",
       "      <td>4983.000000</td>\n",
       "      <td>4983.000000</td>\n",
       "      <td>4983.000000</td>\n",
       "      <td>4983.000000</td>\n",
       "      <td>4983.000000</td>\n",
       "      <td>4983.000000</td>\n",
       "    </tr>\n",
       "    <tr>\n",
       "      <th>mean</th>\n",
       "      <td>0.419025</td>\n",
       "      <td>43.208260</td>\n",
       "      <td>0.095725</td>\n",
       "      <td>0.055188</td>\n",
       "      <td>0.653221</td>\n",
       "      <td>2.486855</td>\n",
       "      <td>0.490668</td>\n",
       "      <td>105.723143</td>\n",
       "      <td>28.285619</td>\n",
       "      <td>0.981939</td>\n",
       "      <td>0.049368</td>\n",
       "    </tr>\n",
       "    <tr>\n",
       "      <th>std</th>\n",
       "      <td>0.493449</td>\n",
       "      <td>22.788234</td>\n",
       "      <td>0.294244</td>\n",
       "      <td>0.228369</td>\n",
       "      <td>0.475992</td>\n",
       "      <td>1.286131</td>\n",
       "      <td>0.499963</td>\n",
       "      <td>44.829867</td>\n",
       "      <td>6.630735</td>\n",
       "      <td>0.572060</td>\n",
       "      <td>0.216657</td>\n",
       "    </tr>\n",
       "    <tr>\n",
       "      <th>min</th>\n",
       "      <td>0.000000</td>\n",
       "      <td>0.080000</td>\n",
       "      <td>0.000000</td>\n",
       "      <td>0.000000</td>\n",
       "      <td>0.000000</td>\n",
       "      <td>0.000000</td>\n",
       "      <td>0.000000</td>\n",
       "      <td>55.120000</td>\n",
       "      <td>11.300000</td>\n",
       "      <td>0.000000</td>\n",
       "      <td>0.000000</td>\n",
       "    </tr>\n",
       "    <tr>\n",
       "      <th>25%</th>\n",
       "      <td>0.000000</td>\n",
       "      <td>25.000000</td>\n",
       "      <td>0.000000</td>\n",
       "      <td>0.000000</td>\n",
       "      <td>0.000000</td>\n",
       "      <td>1.000000</td>\n",
       "      <td>0.000000</td>\n",
       "      <td>77.195000</td>\n",
       "      <td>23.600000</td>\n",
       "      <td>1.000000</td>\n",
       "      <td>0.000000</td>\n",
       "    </tr>\n",
       "    <tr>\n",
       "      <th>50%</th>\n",
       "      <td>0.000000</td>\n",
       "      <td>45.000000</td>\n",
       "      <td>0.000000</td>\n",
       "      <td>0.000000</td>\n",
       "      <td>1.000000</td>\n",
       "      <td>3.000000</td>\n",
       "      <td>0.000000</td>\n",
       "      <td>91.820000</td>\n",
       "      <td>28.200000</td>\n",
       "      <td>1.000000</td>\n",
       "      <td>0.000000</td>\n",
       "    </tr>\n",
       "    <tr>\n",
       "      <th>75%</th>\n",
       "      <td>1.000000</td>\n",
       "      <td>61.000000</td>\n",
       "      <td>0.000000</td>\n",
       "      <td>0.000000</td>\n",
       "      <td>1.000000</td>\n",
       "      <td>3.000000</td>\n",
       "      <td>1.000000</td>\n",
       "      <td>113.710000</td>\n",
       "      <td>32.300000</td>\n",
       "      <td>1.000000</td>\n",
       "      <td>0.000000</td>\n",
       "    </tr>\n",
       "    <tr>\n",
       "      <th>max</th>\n",
       "      <td>1.000000</td>\n",
       "      <td>82.000000</td>\n",
       "      <td>1.000000</td>\n",
       "      <td>1.000000</td>\n",
       "      <td>1.000000</td>\n",
       "      <td>4.000000</td>\n",
       "      <td>1.000000</td>\n",
       "      <td>271.740000</td>\n",
       "      <td>46.200000</td>\n",
       "      <td>2.000000</td>\n",
       "      <td>1.000000</td>\n",
       "    </tr>\n",
       "  </tbody>\n",
       "</table>\n",
       "</div>"
      ],
      "text/plain": [
       "            gender          age  hypertension  heart_disease  ever_married  \\\n",
       "count  4983.000000  4983.000000   4983.000000    4983.000000   4983.000000   \n",
       "mean      0.419025    43.208260      0.095725       0.055188      0.653221   \n",
       "std       0.493449    22.788234      0.294244       0.228369      0.475992   \n",
       "min       0.000000     0.080000      0.000000       0.000000      0.000000   \n",
       "25%       0.000000    25.000000      0.000000       0.000000      0.000000   \n",
       "50%       0.000000    45.000000      0.000000       0.000000      1.000000   \n",
       "75%       1.000000    61.000000      0.000000       0.000000      1.000000   \n",
       "max       1.000000    82.000000      1.000000       1.000000      1.000000   \n",
       "\n",
       "         work_type  Residence_type  avg_glucose_level          bmi  \\\n",
       "count  4983.000000     4983.000000        4983.000000  4983.000000   \n",
       "mean      2.486855        0.490668         105.723143    28.285619   \n",
       "std       1.286131        0.499963          44.829867     6.630735   \n",
       "min       0.000000        0.000000          55.120000    11.300000   \n",
       "25%       1.000000        0.000000          77.195000    23.600000   \n",
       "50%       3.000000        0.000000          91.820000    28.200000   \n",
       "75%       3.000000        1.000000         113.710000    32.300000   \n",
       "max       4.000000        1.000000         271.740000    46.200000   \n",
       "\n",
       "       smoking_status       stroke  \n",
       "count     4983.000000  4983.000000  \n",
       "mean         0.981939     0.049368  \n",
       "std          0.572060     0.216657  \n",
       "min          0.000000     0.000000  \n",
       "25%          1.000000     0.000000  \n",
       "50%          1.000000     0.000000  \n",
       "75%          1.000000     0.000000  \n",
       "max          2.000000     1.000000  "
      ]
     },
     "execution_count": 25,
     "metadata": {},
     "output_type": "execute_result"
    }
   ],
   "source": [
    "df.describe()"
   ]
  },
  {
   "cell_type": "code",
   "execution_count": 27,
   "metadata": {},
   "outputs": [
    {
     "data": {
      "text/html": [
       "<div>\n",
       "<style scoped>\n",
       "    .dataframe tbody tr th:only-of-type {\n",
       "        vertical-align: middle;\n",
       "    }\n",
       "\n",
       "    .dataframe tbody tr th {\n",
       "        vertical-align: top;\n",
       "    }\n",
       "\n",
       "    .dataframe thead th {\n",
       "        text-align: right;\n",
       "    }\n",
       "</style>\n",
       "<table border=\"1\" class=\"dataframe\">\n",
       "  <thead>\n",
       "    <tr style=\"text-align: right;\">\n",
       "      <th></th>\n",
       "      <th>gender</th>\n",
       "      <th>age</th>\n",
       "      <th>hypertension</th>\n",
       "      <th>heart_disease</th>\n",
       "      <th>ever_married</th>\n",
       "      <th>work_type</th>\n",
       "      <th>Residence_type</th>\n",
       "      <th>avg_glucose_level</th>\n",
       "      <th>bmi</th>\n",
       "      <th>smoking_status</th>\n",
       "      <th>stroke</th>\n",
       "    </tr>\n",
       "  </thead>\n",
       "  <tbody>\n",
       "    <tr>\n",
       "      <th>gender</th>\n",
       "      <td>1.000000</td>\n",
       "      <td>-0.026980</td>\n",
       "      <td>0.020910</td>\n",
       "      <td>0.085086</td>\n",
       "      <td>-0.028137</td>\n",
       "      <td>-0.070705</td>\n",
       "      <td>0.006090</td>\n",
       "      <td>0.058051</td>\n",
       "      <td>0.001038</td>\n",
       "      <td>-0.020826</td>\n",
       "      <td>0.009237</td>\n",
       "    </tr>\n",
       "    <tr>\n",
       "      <th>age</th>\n",
       "      <td>-0.026980</td>\n",
       "      <td>1.000000</td>\n",
       "      <td>0.279313</td>\n",
       "      <td>0.265582</td>\n",
       "      <td>0.682017</td>\n",
       "      <td>0.543293</td>\n",
       "      <td>-0.014231</td>\n",
       "      <td>0.235397</td>\n",
       "      <td>0.380806</td>\n",
       "      <td>-0.110279</td>\n",
       "      <td>0.246698</td>\n",
       "    </tr>\n",
       "    <tr>\n",
       "      <th>hypertension</th>\n",
       "      <td>0.020910</td>\n",
       "      <td>0.279313</td>\n",
       "      <td>1.000000</td>\n",
       "      <td>0.112541</td>\n",
       "      <td>0.166837</td>\n",
       "      <td>0.127174</td>\n",
       "      <td>0.006756</td>\n",
       "      <td>0.171005</td>\n",
       "      <td>0.157193</td>\n",
       "      <td>-0.017153</td>\n",
       "      <td>0.130514</td>\n",
       "    </tr>\n",
       "    <tr>\n",
       "      <th>heart_disease</th>\n",
       "      <td>0.085086</td>\n",
       "      <td>0.265582</td>\n",
       "      <td>0.112541</td>\n",
       "      <td>1.000000</td>\n",
       "      <td>0.117005</td>\n",
       "      <td>0.100538</td>\n",
       "      <td>-0.001642</td>\n",
       "      <td>0.168913</td>\n",
       "      <td>0.064572</td>\n",
       "      <td>-0.016952</td>\n",
       "      <td>0.135595</td>\n",
       "    </tr>\n",
       "    <tr>\n",
       "      <th>ever_married</th>\n",
       "      <td>-0.028137</td>\n",
       "      <td>0.682017</td>\n",
       "      <td>0.166837</td>\n",
       "      <td>0.117005</td>\n",
       "      <td>1.000000</td>\n",
       "      <td>0.429941</td>\n",
       "      <td>-0.005166</td>\n",
       "      <td>0.150888</td>\n",
       "      <td>0.373688</td>\n",
       "      <td>-0.046595</td>\n",
       "      <td>0.109595</td>\n",
       "    </tr>\n",
       "    <tr>\n",
       "      <th>work_type</th>\n",
       "      <td>-0.070705</td>\n",
       "      <td>0.543293</td>\n",
       "      <td>0.127174</td>\n",
       "      <td>0.100538</td>\n",
       "      <td>0.429941</td>\n",
       "      <td>1.000000</td>\n",
       "      <td>0.002072</td>\n",
       "      <td>0.092046</td>\n",
       "      <td>0.368577</td>\n",
       "      <td>-0.018601</td>\n",
       "      <td>0.085169</td>\n",
       "    </tr>\n",
       "    <tr>\n",
       "      <th>Residence_type</th>\n",
       "      <td>0.006090</td>\n",
       "      <td>-0.014231</td>\n",
       "      <td>0.006756</td>\n",
       "      <td>-0.001642</td>\n",
       "      <td>-0.005166</td>\n",
       "      <td>0.002072</td>\n",
       "      <td>1.000000</td>\n",
       "      <td>0.001266</td>\n",
       "      <td>-0.010086</td>\n",
       "      <td>-0.013924</td>\n",
       "      <td>-0.014277</td>\n",
       "    </tr>\n",
       "    <tr>\n",
       "      <th>avg_glucose_level</th>\n",
       "      <td>0.058051</td>\n",
       "      <td>0.235397</td>\n",
       "      <td>0.171005</td>\n",
       "      <td>0.168913</td>\n",
       "      <td>0.150888</td>\n",
       "      <td>0.092046</td>\n",
       "      <td>0.001266</td>\n",
       "      <td>1.000000</td>\n",
       "      <td>0.173060</td>\n",
       "      <td>-0.032569</td>\n",
       "      <td>0.130543</td>\n",
       "    </tr>\n",
       "    <tr>\n",
       "      <th>bmi</th>\n",
       "      <td>0.001038</td>\n",
       "      <td>0.380806</td>\n",
       "      <td>0.157193</td>\n",
       "      <td>0.064572</td>\n",
       "      <td>0.373688</td>\n",
       "      <td>0.368577</td>\n",
       "      <td>-0.010086</td>\n",
       "      <td>0.173060</td>\n",
       "      <td>1.000000</td>\n",
       "      <td>-0.017252</td>\n",
       "      <td>0.057700</td>\n",
       "    </tr>\n",
       "    <tr>\n",
       "      <th>smoking_status</th>\n",
       "      <td>-0.020826</td>\n",
       "      <td>-0.110279</td>\n",
       "      <td>-0.017153</td>\n",
       "      <td>-0.016952</td>\n",
       "      <td>-0.046595</td>\n",
       "      <td>-0.018601</td>\n",
       "      <td>-0.013924</td>\n",
       "      <td>-0.032569</td>\n",
       "      <td>-0.017252</td>\n",
       "      <td>1.000000</td>\n",
       "      <td>-0.038151</td>\n",
       "    </tr>\n",
       "    <tr>\n",
       "      <th>stroke</th>\n",
       "      <td>0.009237</td>\n",
       "      <td>0.246698</td>\n",
       "      <td>0.130514</td>\n",
       "      <td>0.135595</td>\n",
       "      <td>0.109595</td>\n",
       "      <td>0.085169</td>\n",
       "      <td>-0.014277</td>\n",
       "      <td>0.130543</td>\n",
       "      <td>0.057700</td>\n",
       "      <td>-0.038151</td>\n",
       "      <td>1.000000</td>\n",
       "    </tr>\n",
       "  </tbody>\n",
       "</table>\n",
       "</div>"
      ],
      "text/plain": [
       "                     gender       age  hypertension  heart_disease  \\\n",
       "gender             1.000000 -0.026980      0.020910       0.085086   \n",
       "age               -0.026980  1.000000      0.279313       0.265582   \n",
       "hypertension       0.020910  0.279313      1.000000       0.112541   \n",
       "heart_disease      0.085086  0.265582      0.112541       1.000000   \n",
       "ever_married      -0.028137  0.682017      0.166837       0.117005   \n",
       "work_type         -0.070705  0.543293      0.127174       0.100538   \n",
       "Residence_type     0.006090 -0.014231      0.006756      -0.001642   \n",
       "avg_glucose_level  0.058051  0.235397      0.171005       0.168913   \n",
       "bmi                0.001038  0.380806      0.157193       0.064572   \n",
       "smoking_status    -0.020826 -0.110279     -0.017153      -0.016952   \n",
       "stroke             0.009237  0.246698      0.130514       0.135595   \n",
       "\n",
       "                   ever_married  work_type  Residence_type  avg_glucose_level  \\\n",
       "gender                -0.028137  -0.070705        0.006090           0.058051   \n",
       "age                    0.682017   0.543293       -0.014231           0.235397   \n",
       "hypertension           0.166837   0.127174        0.006756           0.171005   \n",
       "heart_disease          0.117005   0.100538       -0.001642           0.168913   \n",
       "ever_married           1.000000   0.429941       -0.005166           0.150888   \n",
       "work_type              0.429941   1.000000        0.002072           0.092046   \n",
       "Residence_type        -0.005166   0.002072        1.000000           0.001266   \n",
       "avg_glucose_level      0.150888   0.092046        0.001266           1.000000   \n",
       "bmi                    0.373688   0.368577       -0.010086           0.173060   \n",
       "smoking_status        -0.046595  -0.018601       -0.013924          -0.032569   \n",
       "stroke                 0.109595   0.085169       -0.014277           0.130543   \n",
       "\n",
       "                        bmi  smoking_status    stroke  \n",
       "gender             0.001038       -0.020826  0.009237  \n",
       "age                0.380806       -0.110279  0.246698  \n",
       "hypertension       0.157193       -0.017153  0.130514  \n",
       "heart_disease      0.064572       -0.016952  0.135595  \n",
       "ever_married       0.373688       -0.046595  0.109595  \n",
       "work_type          0.368577       -0.018601  0.085169  \n",
       "Residence_type    -0.010086       -0.013924 -0.014277  \n",
       "avg_glucose_level  0.173060       -0.032569  0.130543  \n",
       "bmi                1.000000       -0.017252  0.057700  \n",
       "smoking_status    -0.017252        1.000000 -0.038151  \n",
       "stroke             0.057700       -0.038151  1.000000  "
      ]
     },
     "execution_count": 27,
     "metadata": {},
     "output_type": "execute_result"
    }
   ],
   "source": [
    "df.corr()"
   ]
  },
  {
   "cell_type": "code",
   "execution_count": 28,
   "metadata": {},
   "outputs": [
    {
     "name": "stdout",
     "output_type": "stream",
     "text": [
      "1    0.672486\n",
      "0    0.172787\n",
      "2    0.154726\n",
      "Name: smoking_status, dtype: float64\n"
     ]
    }
   ],
   "source": [
    "print_percentage_data(df, 'smoking_status')"
   ]
  },
  {
   "cell_type": "code",
   "execution_count": 29,
   "metadata": {},
   "outputs": [
    {
     "data": {
      "text/html": [
       "<div>\n",
       "<style scoped>\n",
       "    .dataframe tbody tr th:only-of-type {\n",
       "        vertical-align: middle;\n",
       "    }\n",
       "\n",
       "    .dataframe tbody tr th {\n",
       "        vertical-align: top;\n",
       "    }\n",
       "\n",
       "    .dataframe thead th {\n",
       "        text-align: right;\n",
       "    }\n",
       "</style>\n",
       "<table border=\"1\" class=\"dataframe\">\n",
       "  <thead>\n",
       "    <tr style=\"text-align: right;\">\n",
       "      <th></th>\n",
       "      <th>gender</th>\n",
       "      <th>age</th>\n",
       "      <th>hypertension</th>\n",
       "      <th>heart_disease</th>\n",
       "      <th>ever_married</th>\n",
       "      <th>work_type</th>\n",
       "      <th>Residence_type</th>\n",
       "      <th>avg_glucose_level</th>\n",
       "      <th>bmi</th>\n",
       "      <th>smoking_status</th>\n",
       "      <th>stroke</th>\n",
       "    </tr>\n",
       "  </thead>\n",
       "  <tbody>\n",
       "    <tr>\n",
       "      <th>0</th>\n",
       "      <td>1</td>\n",
       "      <td>67.0</td>\n",
       "      <td>0</td>\n",
       "      <td>1</td>\n",
       "      <td>1</td>\n",
       "      <td>3</td>\n",
       "      <td>0</td>\n",
       "      <td>228.69</td>\n",
       "      <td>36.600000</td>\n",
       "      <td>0</td>\n",
       "      <td>1</td>\n",
       "    </tr>\n",
       "    <tr>\n",
       "      <th>1</th>\n",
       "      <td>0</td>\n",
       "      <td>61.0</td>\n",
       "      <td>0</td>\n",
       "      <td>0</td>\n",
       "      <td>1</td>\n",
       "      <td>4</td>\n",
       "      <td>1</td>\n",
       "      <td>202.21</td>\n",
       "      <td>28.893237</td>\n",
       "      <td>1</td>\n",
       "      <td>1</td>\n",
       "    </tr>\n",
       "    <tr>\n",
       "      <th>2</th>\n",
       "      <td>1</td>\n",
       "      <td>80.0</td>\n",
       "      <td>0</td>\n",
       "      <td>1</td>\n",
       "      <td>1</td>\n",
       "      <td>3</td>\n",
       "      <td>1</td>\n",
       "      <td>105.92</td>\n",
       "      <td>32.500000</td>\n",
       "      <td>1</td>\n",
       "      <td>1</td>\n",
       "    </tr>\n",
       "    <tr>\n",
       "      <th>3</th>\n",
       "      <td>0</td>\n",
       "      <td>49.0</td>\n",
       "      <td>0</td>\n",
       "      <td>0</td>\n",
       "      <td>1</td>\n",
       "      <td>3</td>\n",
       "      <td>0</td>\n",
       "      <td>171.23</td>\n",
       "      <td>34.400000</td>\n",
       "      <td>2</td>\n",
       "      <td>1</td>\n",
       "    </tr>\n",
       "    <tr>\n",
       "      <th>4</th>\n",
       "      <td>0</td>\n",
       "      <td>79.0</td>\n",
       "      <td>1</td>\n",
       "      <td>0</td>\n",
       "      <td>1</td>\n",
       "      <td>4</td>\n",
       "      <td>1</td>\n",
       "      <td>174.12</td>\n",
       "      <td>24.000000</td>\n",
       "      <td>1</td>\n",
       "      <td>1</td>\n",
       "    </tr>\n",
       "  </tbody>\n",
       "</table>\n",
       "</div>"
      ],
      "text/plain": [
       "   gender   age  hypertension  heart_disease  ever_married  work_type  \\\n",
       "0       1  67.0             0              1             1          3   \n",
       "1       0  61.0             0              0             1          4   \n",
       "2       1  80.0             0              1             1          3   \n",
       "3       0  49.0             0              0             1          3   \n",
       "4       0  79.0             1              0             1          4   \n",
       "\n",
       "   Residence_type  avg_glucose_level        bmi  smoking_status  stroke  \n",
       "0               0             228.69  36.600000               0       1  \n",
       "1               1             202.21  28.893237               1       1  \n",
       "2               1             105.92  32.500000               1       1  \n",
       "3               0             171.23  34.400000               2       1  \n",
       "4               1             174.12  24.000000               1       1  "
      ]
     },
     "execution_count": 29,
     "metadata": {},
     "output_type": "execute_result"
    }
   ],
   "source": [
    "df.head()"
   ]
  },
  {
   "cell_type": "code",
   "execution_count": 31,
   "metadata": {},
   "outputs": [
    {
     "name": "stdout",
     "output_type": "stream",
     "text": [
      "0    4737\n",
      "1     246\n",
      "Name: stroke, dtype: int64\n"
     ]
    },
    {
     "data": {
      "image/png": "[encoded data removed]",
      "text/plain": [
       "<Figure size 432x432 with 1 Axes>"
      ]
     },
     "metadata": {},
     "output_type": "display_data"
    }
   ],
   "source": [
    "stroke_value_count = df['stroke'].value_counts()\n",
    "replace_index = [\"tidak stroke\" if i == 0 else \"stroke\" for i in stroke_value_count.index]\n",
    "\n",
    "print(df['stroke'].value_counts())\n",
    "plt.figure(figsize=(6, 6))\n",
    "plt.pie(stroke_value_count.values,labels=replace_index, autopct='%1.1f%%')\n",
    "plt.title('Distribusi Kelas')\n",
    "plt.legend()\n",
    "plt.show()"
   ]
  },
  {
   "cell_type": "code",
   "execution_count": 32,
   "metadata": {},
   "outputs": [
    {
     "data": {
      "text/html": [
       "<div>\n",
       "<style scoped>\n",
       "    .dataframe tbody tr th:only-of-type {\n",
       "        vertical-align: middle;\n",
       "    }\n",
       "\n",
       "    .dataframe tbody tr th {\n",
       "        vertical-align: top;\n",
       "    }\n",
       "\n",
       "    .dataframe thead th {\n",
       "        text-align: right;\n",
       "    }\n",
       "</style>\n",
       "<table border=\"1\" class=\"dataframe\">\n",
       "  <thead>\n",
       "    <tr style=\"text-align: right;\">\n",
       "      <th></th>\n",
       "      <th>gender</th>\n",
       "      <th>age</th>\n",
       "      <th>hypertension</th>\n",
       "      <th>heart_disease</th>\n",
       "      <th>ever_married</th>\n",
       "      <th>work_type</th>\n",
       "      <th>Residence_type</th>\n",
       "      <th>avg_glucose_level</th>\n",
       "      <th>bmi</th>\n",
       "      <th>smoking_status</th>\n",
       "      <th>stroke</th>\n",
       "    </tr>\n",
       "  </thead>\n",
       "  <tbody>\n",
       "  </tbody>\n",
       "</table>\n",
       "</div>"
      ],
      "text/plain": [
       "Empty DataFrame\n",
       "Columns: [gender, age, hypertension, heart_disease, ever_married, work_type, Residence_type, avg_glucose_level, bmi, smoking_status, stroke]\n",
       "Index: []"
      ]
     },
     "execution_count": 32,
     "metadata": {},
     "output_type": "execute_result"
    }
   ],
   "source": [
    "duplicated_row = df.duplicated()\n",
    "\n",
    "df[duplicated_row]"
   ]
  },
  {
   "cell_type": "code",
   "execution_count": 33,
   "metadata": {},
   "outputs": [],
   "source": [
    "X = df.iloc[:, df.columns != 'stroke']\n",
    "y = np.array(df.stroke.values)"
   ]
  },
  {
   "attachments": {},
   "cell_type": "markdown",
   "metadata": {},
   "source": [
    "### **Membuat function melakukan visualisasi distribusi kelas**\n",
    "\n",
    "Visualisasi dilakukan menggunakan library  `Matplotlib`\n",
    "Untuk mempermudah akan dibentuk dalam 1 function \n",
    "```python \n",
    "def viz_distribution_of_class(X,y, col_idx, title) \n",
    "```\n",
    "\n",
    "| Parameter | Deskripsi | Data Type |\n",
    "| --------- | --------- | --------- |\n",
    "| X | Fitur pada dataset | Numpy Array | \n",
    "| y | Kelas pada dataset | Numpy Array |\n",
    "| col_idx | index column yang merepresentasikan dataset | Tupple [0, 1] |\n",
    "| title | Title Visualisasi (default \"\") | String / None |\n"
   ]
  },
  {
   "cell_type": "code",
   "execution_count": 34,
   "metadata": {},
   "outputs": [],
   "source": [
    "from collections import Counter\n",
    "from matplotlib import pyplot\n",
    "from numpy import where\n",
    "\n",
    "\n",
    "def viz_distribution_of_class(X, y, col_idx, title=\"\") -> None:\n",
    "    plt = pyplot\n",
    "    counter = Counter(y)\n",
    "    print(counter)\n",
    "    # scatter plot of examples by class label\n",
    "    idx_label = {\n",
    "        0: None,\n",
    "        1: None,\n",
    "    }\n",
    "    for label, _ in counter.items():\n",
    "        row_ix = where(y == label)[0]\n",
    "        idx_label[label] = row_ix\n",
    "    plt.title(title)\n",
    "    plt.scatter(X[idx_label[0], col_idx[0]], X[idx_label[0], col_idx[1]], label=\"Tidak Stroke\")\n",
    "    plt.scatter(X[idx_label[1], col_idx[0]], X[idx_label[1], col_idx[1]], label=\"Stroke\")\n",
    "    plt.legend()\n",
    "    plt.show()"
   ]
  },
  {
   "attachments": {},
   "cell_type": "markdown",
   "metadata": {},
   "source": [
    "### Visualisasi Distribusi kelas sebelum dilakukan resampling"
   ]
  },
  {
   "cell_type": "code",
   "execution_count": 35,
   "metadata": {},
   "outputs": [
    {
     "name": "stdout",
     "output_type": "stream",
     "text": [
      "Counter({0: 4266, 1: 218})\n"
     ]
    },
    {
     "data": {
      "image/png": "[encoded data removed]",
      "text/plain": [
       "<Figure size 432x288 with 1 Axes>"
      ]
     },
     "metadata": {
      "needs_background": "light"
     },
     "output_type": "display_data"
    }
   ],
   "source": [
    "from sklearn.preprocessing import MinMaxScaler\n",
    "from sklearn.model_selection import train_test_split\n",
    "\n",
    "scaler = MinMaxScaler()\n",
    "X_scaled = scaler.fit_transform(X)\n",
    "\n",
    "x_viz, x_n, y_viz, y_n = train_test_split(X_scaled, y, train_size=0.9)\n",
    "\n",
    "viz_distribution_of_class(x_viz, y_viz, [1,8], title=\"Sebelum Dilakukan Resampling\")"
   ]
  },
  {
   "cell_type": "code",
   "execution_count": 36,
   "metadata": {},
   "outputs": [
    {
     "data": {
      "text/html": [
       "<div>\n",
       "<style scoped>\n",
       "    .dataframe tbody tr th:only-of-type {\n",
       "        vertical-align: middle;\n",
       "    }\n",
       "\n",
       "    .dataframe tbody tr th {\n",
       "        vertical-align: top;\n",
       "    }\n",
       "\n",
       "    .dataframe thead th {\n",
       "        text-align: right;\n",
       "    }\n",
       "</style>\n",
       "<table border=\"1\" class=\"dataframe\">\n",
       "  <thead>\n",
       "    <tr style=\"text-align: right;\">\n",
       "      <th></th>\n",
       "      <th>gender</th>\n",
       "      <th>age</th>\n",
       "      <th>hypertension</th>\n",
       "      <th>heart_disease</th>\n",
       "      <th>ever_married</th>\n",
       "      <th>work_type</th>\n",
       "      <th>Residence_type</th>\n",
       "      <th>avg_glucose_level</th>\n",
       "      <th>bmi</th>\n",
       "      <th>smoking_status</th>\n",
       "    </tr>\n",
       "  </thead>\n",
       "  <tbody>\n",
       "    <tr>\n",
       "      <th>0</th>\n",
       "      <td>1.0</td>\n",
       "      <td>0.816895</td>\n",
       "      <td>0.0</td>\n",
       "      <td>1.0</td>\n",
       "      <td>1.0</td>\n",
       "      <td>0.75</td>\n",
       "      <td>0.0</td>\n",
       "      <td>0.801265</td>\n",
       "      <td>0.724928</td>\n",
       "      <td>0.0</td>\n",
       "    </tr>\n",
       "    <tr>\n",
       "      <th>1</th>\n",
       "      <td>0.0</td>\n",
       "      <td>0.743652</td>\n",
       "      <td>0.0</td>\n",
       "      <td>0.0</td>\n",
       "      <td>1.0</td>\n",
       "      <td>1.00</td>\n",
       "      <td>1.0</td>\n",
       "      <td>0.679023</td>\n",
       "      <td>0.504104</td>\n",
       "      <td>0.5</td>\n",
       "    </tr>\n",
       "    <tr>\n",
       "      <th>2</th>\n",
       "      <td>1.0</td>\n",
       "      <td>0.975586</td>\n",
       "      <td>0.0</td>\n",
       "      <td>1.0</td>\n",
       "      <td>1.0</td>\n",
       "      <td>0.75</td>\n",
       "      <td>1.0</td>\n",
       "      <td>0.234512</td>\n",
       "      <td>0.607450</td>\n",
       "      <td>0.5</td>\n",
       "    </tr>\n",
       "    <tr>\n",
       "      <th>3</th>\n",
       "      <td>0.0</td>\n",
       "      <td>0.597168</td>\n",
       "      <td>0.0</td>\n",
       "      <td>0.0</td>\n",
       "      <td>1.0</td>\n",
       "      <td>0.75</td>\n",
       "      <td>0.0</td>\n",
       "      <td>0.536008</td>\n",
       "      <td>0.661891</td>\n",
       "      <td>1.0</td>\n",
       "    </tr>\n",
       "    <tr>\n",
       "      <th>4</th>\n",
       "      <td>0.0</td>\n",
       "      <td>0.963379</td>\n",
       "      <td>1.0</td>\n",
       "      <td>0.0</td>\n",
       "      <td>1.0</td>\n",
       "      <td>1.00</td>\n",
       "      <td>1.0</td>\n",
       "      <td>0.549349</td>\n",
       "      <td>0.363897</td>\n",
       "      <td>0.5</td>\n",
       "    </tr>\n",
       "    <tr>\n",
       "      <th>...</th>\n",
       "      <td>...</td>\n",
       "      <td>...</td>\n",
       "      <td>...</td>\n",
       "      <td>...</td>\n",
       "      <td>...</td>\n",
       "      <td>...</td>\n",
       "      <td>...</td>\n",
       "      <td>...</td>\n",
       "      <td>...</td>\n",
       "      <td>...</td>\n",
       "    </tr>\n",
       "    <tr>\n",
       "      <th>4978</th>\n",
       "      <td>0.0</td>\n",
       "      <td>0.975586</td>\n",
       "      <td>1.0</td>\n",
       "      <td>0.0</td>\n",
       "      <td>1.0</td>\n",
       "      <td>0.75</td>\n",
       "      <td>0.0</td>\n",
       "      <td>0.132167</td>\n",
       "      <td>0.504104</td>\n",
       "      <td>0.5</td>\n",
       "    </tr>\n",
       "    <tr>\n",
       "      <th>4979</th>\n",
       "      <td>0.0</td>\n",
       "      <td>0.987793</td>\n",
       "      <td>0.0</td>\n",
       "      <td>0.0</td>\n",
       "      <td>1.0</td>\n",
       "      <td>1.00</td>\n",
       "      <td>0.0</td>\n",
       "      <td>0.323516</td>\n",
       "      <td>0.822350</td>\n",
       "      <td>0.5</td>\n",
       "    </tr>\n",
       "    <tr>\n",
       "      <th>4980</th>\n",
       "      <td>0.0</td>\n",
       "      <td>0.426270</td>\n",
       "      <td>0.0</td>\n",
       "      <td>0.0</td>\n",
       "      <td>1.0</td>\n",
       "      <td>1.00</td>\n",
       "      <td>1.0</td>\n",
       "      <td>0.128658</td>\n",
       "      <td>0.553009</td>\n",
       "      <td>0.5</td>\n",
       "    </tr>\n",
       "    <tr>\n",
       "      <th>4981</th>\n",
       "      <td>1.0</td>\n",
       "      <td>0.621582</td>\n",
       "      <td>0.0</td>\n",
       "      <td>0.0</td>\n",
       "      <td>1.0</td>\n",
       "      <td>0.75</td>\n",
       "      <td>1.0</td>\n",
       "      <td>0.513203</td>\n",
       "      <td>0.409742</td>\n",
       "      <td>0.0</td>\n",
       "    </tr>\n",
       "    <tr>\n",
       "      <th>4982</th>\n",
       "      <td>0.0</td>\n",
       "      <td>0.536133</td>\n",
       "      <td>0.0</td>\n",
       "      <td>0.0</td>\n",
       "      <td>1.0</td>\n",
       "      <td>0.25</td>\n",
       "      <td>0.0</td>\n",
       "      <td>0.139230</td>\n",
       "      <td>0.426934</td>\n",
       "      <td>0.5</td>\n",
       "    </tr>\n",
       "  </tbody>\n",
       "</table>\n",
       "<p>4983 rows × 10 columns</p>\n",
       "</div>"
      ],
      "text/plain": [
       "      gender       age  hypertension  heart_disease  ever_married  work_type  \\\n",
       "0        1.0  0.816895           0.0            1.0           1.0       0.75   \n",
       "1        0.0  0.743652           0.0            0.0           1.0       1.00   \n",
       "2        1.0  0.975586           0.0            1.0           1.0       0.75   \n",
       "3        0.0  0.597168           0.0            0.0           1.0       0.75   \n",
       "4        0.0  0.963379           1.0            0.0           1.0       1.00   \n",
       "...      ...       ...           ...            ...           ...        ...   \n",
       "4978     0.0  0.975586           1.0            0.0           1.0       0.75   \n",
       "4979     0.0  0.987793           0.0            0.0           1.0       1.00   \n",
       "4980     0.0  0.426270           0.0            0.0           1.0       1.00   \n",
       "4981     1.0  0.621582           0.0            0.0           1.0       0.75   \n",
       "4982     0.0  0.536133           0.0            0.0           1.0       0.25   \n",
       "\n",
       "      Residence_type  avg_glucose_level       bmi  smoking_status  \n",
       "0                0.0           0.801265  0.724928             0.0  \n",
       "1                1.0           0.679023  0.504104             0.5  \n",
       "2                1.0           0.234512  0.607450             0.5  \n",
       "3                0.0           0.536008  0.661891             1.0  \n",
       "4                1.0           0.549349  0.363897             0.5  \n",
       "...              ...                ...       ...             ...  \n",
       "4978             0.0           0.132167  0.504104             0.5  \n",
       "4979             0.0           0.323516  0.822350             0.5  \n",
       "4980             1.0           0.128658  0.553009             0.5  \n",
       "4981             1.0           0.513203  0.409742             0.0  \n",
       "4982             0.0           0.139230  0.426934             0.5  \n",
       "\n",
       "[4983 rows x 10 columns]"
      ]
     },
     "execution_count": 36,
     "metadata": {},
     "output_type": "execute_result"
    }
   ],
   "source": [
    "pd.DataFrame(X_scaled, columns=X.columns)"
   ]
  },
  {
   "attachments": {},
   "cell_type": "markdown",
   "metadata": {},
   "source": [
    "### Visualisasi Distribusi Kelas Setelah dilakukan SMOTE"
   ]
  },
  {
   "cell_type": "code",
   "execution_count": 37,
   "metadata": {},
   "outputs": [
    {
     "name": "stdout",
     "output_type": "stream",
     "text": [
      "Counter({0: 4266, 1: 4266})\n"
     ]
    },
    {
     "data": {
      "image/png": "[encoded data removed]",
      "text/plain": [
       "<Figure size 432x288 with 1 Axes>"
      ]
     },
     "metadata": {
      "needs_background": "light"
     },
     "output_type": "display_data"
    }
   ],
   "source": [
    "from imblearn.over_sampling import SMOTE\n",
    "\n",
    "sm_oversampl = SMOTE()\n",
    "X_oversampling, y_oversampling = sm_oversampl.fit_resample(x_viz, y_viz)\n",
    "\n",
    "viz_distribution_of_class(X_oversampling, y_oversampling, [1,8], title=\"Setelah dilakukan SMOTE\")"
   ]
  },
  {
   "attachments": {},
   "cell_type": "markdown",
   "metadata": {},
   "source": [
    "### Visualisasi Distribusi Kelas Setelah dilakukan SMOTE + TomekLink"
   ]
  },
  {
   "cell_type": "code",
   "execution_count": 38,
   "metadata": {},
   "outputs": [
    {
     "name": "stdout",
     "output_type": "stream",
     "text": [
      "Counter({0: 4208, 1: 4208})\n"
     ]
    },
    {
     "data": {
      "image/png": "[encoded data removed]",
      "text/plain": [
       "<Figure size 432x288 with 1 Axes>"
      ]
     },
     "metadata": {
      "needs_background": "light"
     },
     "output_type": "display_data"
    }
   ],
   "source": [
    "from imblearn.under_sampling import TomekLinks\n",
    "\n",
    "\n",
    "tomekLink = TomekLinks(sampling_strategy='all')\n",
    "X_tomekLink, y_tomekLink = tomekLink.fit_resample(X_oversampling, y_oversampling)\n",
    "\n",
    "viz_distribution_of_class(X_tomekLink, y_tomekLink, [1,8], title=\"Setelah Dilakukan SMOTE + TomekLink\")"
   ]
  },
  {
   "attachments": {},
   "cell_type": "markdown",
   "metadata": {},
   "source": [
    "### Visualisasi Distribusi Kelas Setelah dilakukan SMOTE + ENN"
   ]
  },
  {
   "cell_type": "code",
   "execution_count": 39,
   "metadata": {},
   "outputs": [
    {
     "name": "stdout",
     "output_type": "stream",
     "text": [
      "Counter({1: 3911, 0: 3415})\n"
     ]
    },
    {
     "data": {
      "image/png": "[encoded data removed]",
      "text/plain": [
       "<Figure size 432x288 with 1 Axes>"
      ]
     },
     "metadata": {
      "needs_background": "light"
     },
     "output_type": "display_data"
    }
   ],
   "source": [
    "from imblearn.under_sampling import EditedNearestNeighbours\n",
    "\n",
    "enn = EditedNearestNeighbours(sampling_strategy='all')\n",
    "X_enn, y_enn = enn.fit_resample(X_oversampling, y_oversampling)\n",
    "\n",
    "viz_distribution_of_class(X_enn, y_enn, [1,8], title=\"Setelah Dilakukan SMOTE + ENN\")"
   ]
  },
  {
   "attachments": {},
   "cell_type": "markdown",
   "metadata": {},
   "source": [
    "### **Process Evaluasi Model Menggunakan 10-cross-validation**\n",
    "\n",
    "1. Tanpa Seleksi Fitur Information Gain :\n",
    "    - SMOTE\n",
    "    - SMOTE + TomekLink\n",
    "    - SMOTE + ENN\n",
    "\n",
    "2. Menggunakan Seleksi Fitur Information Gain :\n",
    "    - SMOTE\n",
    "    - SMOTE + TomekLink\n",
    "    - SMOTE + ENN\n",
    "\n",
    "Evaluasi Model berupa :\n",
    "- F-measure\n",
    "- ROC / AUC\n",
    "\n",
    "Source Belajar : \n",
    "1. [SMOTE for imbalanced dataset](https://machinelearningmastery.com/smote-oversampling-for-imbalanced-classification/)"
   ]
  },
  {
   "cell_type": "code",
   "execution_count": 40,
   "metadata": {},
   "outputs": [],
   "source": [
    "from sklearn.neighbors import KNeighborsClassifier\n",
    "from imblearn.pipeline import Pipeline\n",
    "from sklearn.model_selection import KFold\n",
    "from sklearn.metrics import  f1_score,roc_auc_score,  accuracy_score, roc_curve, auc, recall_score, confusion_matrix\n",
    "from imblearn.combine import SMOTETomek, SMOTEENN\n",
    "import matplotlib.pyplot as plt\n",
    "import seaborn as sns\n",
    "\n",
    "class Evaluate():\n",
    "    def __init__(self, _X, _y):\n",
    "        self._x = _X\n",
    "        self._y = _y\n",
    "        self.result = []\n",
    "        \n",
    "        self.fprs = {}\n",
    "        self.tprs = {}\n",
    "        self.aucs = {}\n",
    "        self.confusion_matrices = {}\n",
    "\n",
    "    def plot_confusion_matrix(self):\n",
    "        for action in self.confusion_matrices:\n",
    "            cm_mean = np.sum(self.confusion_matrices[action], axis=0)\n",
    "            class_labels = ['Tidak Stroke', 'Stroke']  # Replace with your actual class labels\n",
    "\n",
    "            plt.figure(figsize=(8, 6))\n",
    "            sns.heatmap(cm_mean, annot=True, cmap='Blues', fmt='d', xticklabels=class_labels, yticklabels=class_labels)\n",
    "            plt.title(f'Confusion Matrix ({action})')\n",
    "            plt.xlabel('Predicted')\n",
    "            plt.ylabel('True')\n",
    "            plt.show()\n",
    "\n",
    "    def get_roc_plot(self, action):\n",
    "        mean_tpr = np.mean(self.tprs[action], axis=0)\n",
    "        mean_fpr = np.mean(self.fprs[action], axis=0)\n",
    "        mean_auc = np.mean(self.aucs[action])\n",
    "\n",
    "        plt.figure()\n",
    "        plt.plot(mean_fpr, mean_tpr, label='ROC curve (area = %0.3f)' % mean_auc)\n",
    "        plt.plot([0, 1], [0, 1], 'k--')\n",
    "        plt.xlim([0.0, 1.0])\n",
    "        plt.ylim([0.0, 1.05])\n",
    "        plt.xlabel('False Positive Rate')\n",
    "        plt.ylabel('True Positive Rate')\n",
    "        plt.title(f\"Receiver Operating Characteristic {action}\")\n",
    "        plt.legend(loc=\"lower right\")\n",
    "        plt.show()\n",
    "\n",
    "\n",
    "    def ten_cross_fold_validation(self, action, pipeline, cv):\n",
    "        _result = {\n",
    "            'action': action,\n",
    "            'attribute': self._x.shape[1],\n",
    "            'label': f\"{action}_{self._x.shape[1]}\"\n",
    "        }\n",
    "\n",
    "        _temp_score = {\n",
    "            'f1-score': [],\n",
    "            'accuracy': [],\n",
    "            'roc_auc': [],\n",
    "            'recall': [],\n",
    "        }\n",
    "\n",
    "        for train_index, test_index in cv.split(self._x):\n",
    "            X_train, X_test = self._x[train_index], self._x[test_index]\n",
    "            y_train, y_test = self._y[train_index], self._y[test_index]\n",
    "\n",
    "            pipeline.fit(X_train, y_train)\n",
    "            y_pred = pipeline.predict(X_test)\n",
    "\n",
    "            _temp_score['f1-score'].append(f1_score(y_test, y_pred))\n",
    "            _temp_score['accuracy'].append(accuracy_score(y_test, y_pred))\n",
    "            _temp_score['recall'].append(recall_score(y_test, y_pred))\n",
    "\n",
    "            y_scores = pipeline.predict_proba(X_test)[:, 1]\n",
    "    \n",
    "            _temp_score['roc_auc'].append(roc_auc_score(y_test, y_scores))\n",
    "\n",
    "\n",
    "            fpr, tpr, _ = roc_curve(y_test, y_scores)\n",
    "            \n",
    "            # Hitung AUC dari ROC\n",
    "            roc_auc = auc(fpr, tpr)\n",
    "            cm = confusion_matrix(y_test, y_pred)\n",
    "\n",
    "            if action not in self.confusion_matrices:\n",
    "                self.confusion_matrices[action] = []\n",
    "            self.confusion_matrices[action].append(cm)\n",
    "\n",
    "            if action not in self.tprs:\n",
    "                self.tprs[action] = []\n",
    "            self.tprs[action].append(tpr)\n",
    "\n",
    "            if action not in self.fprs:\n",
    "                self.fprs[action] = []\n",
    "            self.fprs[action].append(fpr)\n",
    "\n",
    "            if action not in self.aucs:\n",
    "                self.aucs[action] = []\n",
    "            self.aucs[action].append(roc_auc)\n",
    "\n",
    "\n",
    "        for key in _temp_score:\n",
    "            _result[key] = np.mean(_temp_score[key])\n",
    "        self.result.append(_result)\n",
    "\n",
    "    def fit(self):\n",
    "        oversampling = SMOTE(random_state=42)\n",
    "        smtl = SMOTETomek(random_state=42)\n",
    "        smenn = SMOTEENN(random_state=42)\n",
    "        # tl = TomekLinks(sampling_strategy=\"all\")\n",
    "        # enn = EditedNearestNeighbours(sampling_strategy=\"all\")\n",
    "\n",
    "        model = KNeighborsClassifier(n_neighbors=3)\n",
    "\n",
    "        pipeline_knn = Pipeline(steps = [\n",
    "            ['classifier', model]\n",
    "        ])\n",
    "\n",
    "        pipeline_smote = Pipeline(steps = [\n",
    "            ['over', oversampling],\n",
    "            ['classifier', model]\n",
    "        ])\n",
    "\n",
    "        pipeline_smote_tomek = Pipeline(steps = [\n",
    "            ['over_under', smtl],\n",
    "            ['classifier', model],\n",
    "        ])\n",
    "\n",
    "        pipeline_smote_enn = Pipeline(steps = [\n",
    "            ['over_under', smenn],\n",
    "            ['classifier', model],\n",
    "        ])\n",
    "\n",
    "        cv = KFold(n_splits=10,random_state=1, shuffle=True)\n",
    "\n",
    "        self.ten_cross_fold_validation(action=\"Original\",pipeline=pipeline_knn, cv=cv)\n",
    "        self.ten_cross_fold_validation(action=\"SMOTE\",pipeline=pipeline_smote, cv=cv)\n",
    "        self.ten_cross_fold_validation(action=\"SMOTE_Tomek\", pipeline=pipeline_smote_tomek,cv=cv)\n",
    "        self.ten_cross_fold_validation(action=\"SMOTE_ENN\", pipeline=pipeline_smote_enn,cv=cv)\n",
    "\n",
    "        return self\n",
    "    \n",
    "    def print_result(self):\n",
    "        result_df = pd.DataFrame.from_records(self.result)\n",
    "        print(result_df)\n",
    "\n",
    "        return self"
   ]
  },
  {
   "cell_type": "code",
   "execution_count": 41,
   "metadata": {},
   "outputs": [
    {
     "name": "stdout",
     "output_type": "stream",
     "text": [
      "        action  attribute           label  f1-score  accuracy   roc_auc  \\\n",
      "0     Original         10     Original_10  0.090803  0.943413  0.577127   \n",
      "1        SMOTE         10        SMOTE_10  0.129050  0.833633  0.600542   \n",
      "2  SMOTE_Tomek         10  SMOTE_Tomek_10  0.125528  0.832028  0.601240   \n",
      "3    SMOTE_ENN         10    SMOTE_ENN_10  0.168364  0.782860  0.654069   \n",
      "\n",
      "     recall  \n",
      "0  0.058322  \n",
      "1  0.255848  \n",
      "2  0.251500  \n",
      "3  0.453928  \n"
     ]
    },
    {
     "data": {
      "text/plain": [
       "<__main__.Evaluate at 0x2978194c9d0>"
      ]
     },
     "execution_count": 41,
     "metadata": {},
     "output_type": "execute_result"
    }
   ],
   "source": [
    "standart_evaluate = Evaluate(X_scaled, y)\n",
    "standart_evaluate.fit().print_result()"
   ]
  },
  {
   "cell_type": "code",
   "execution_count": 42,
   "metadata": {},
   "outputs": [
    {
     "data": {
      "image/png": "[encoded data removed]",
      "text/plain": [
       "<Figure size 432x288 with 1 Axes>"
      ]
     },
     "metadata": {
      "needs_background": "light"
     },
     "output_type": "display_data"
    }
   ],
   "source": [
    "standart_evaluate.get_roc_plot('SMOTE_ENN')"
   ]
  },
  {
   "attachments": {},
   "cell_type": "markdown",
   "metadata": {},
   "source": [
    "## Percobaan Evaluasi model dengan tambahan Seleksi Fitur\n",
    "\n",
    "Seleksi Fitur : **Information Gain**\n",
    "\n",
    "Source Belajar :\n",
    "1. [How to implement Information Gain using python](https://www.youtube.com/watch?v=81JSbXZ26Ls&ab_channel=KrishNaik)"
   ]
  },
  {
   "cell_type": "code",
   "execution_count": 47,
   "metadata": {},
   "outputs": [
    {
     "data": {
      "text/plain": [
       "age                  0.036967\n",
       "bmi                  0.013142\n",
       "hypertension         0.006156\n",
       "work_type            0.005756\n",
       "ever_married         0.005273\n",
       "avg_glucose_level    0.004450\n",
       "heart_disease        0.004123\n",
       "smoking_status       0.000558\n",
       "gender               0.000198\n",
       "Residence_type       0.000000\n",
       "dtype: float64"
      ]
     },
     "execution_count": 47,
     "metadata": {},
     "output_type": "execute_result"
    }
   ],
   "source": [
    "\n",
    "from sklearn.feature_selection import mutual_info_classif\n",
    "\n",
    "mutual_info = mutual_info_classif(X, y, random_state=1)\n",
    "mutual_info = pd.Series(mutual_info)\n",
    "mutual_info.index = df.iloc[:, df.columns != 'stroke'].columns\n",
    "mutual_info.sort_values(ascending=False)"
   ]
  },
  {
   "cell_type": "code",
   "execution_count": 48,
   "metadata": {},
   "outputs": [
    {
     "data": {
      "text/plain": [
       "<Axes: >"
      ]
     },
     "execution_count": 48,
     "metadata": {},
     "output_type": "execute_result"
    },
    {
     "data": {
      "image/png": "[encoded data removed]",
      "text/plain": [
       "<Figure size 1440x576 with 1 Axes>"
      ]
     },
     "metadata": {
      "needs_background": "light"
     },
     "output_type": "display_data"
    }
   ],
   "source": [
    "mutual_info.sort_values(ascending=False).plot.bar(figsize=(20,8))"
   ]
  },
  {
   "cell_type": "code",
   "execution_count": 49,
   "metadata": {},
   "outputs": [],
   "source": [
    "from sklearn.feature_selection import SelectKBest"
   ]
  },
  {
   "cell_type": "code",
   "execution_count": 50,
   "metadata": {},
   "outputs": [],
   "source": [
    "def mic_static_random(X,y):\n",
    "    return mutual_info_classif(X,y, random_state=1)\n",
    "\n",
    "sel_five_cols = SelectKBest(mic_static_random, k=5)\n",
    "sel_five_cols.fit(X_scaled, y)\n",
    "\n",
    "X_ig = pd.DataFrame(X_scaled, columns=X.columns).iloc[:, sel_five_cols.get_support()]"
   ]
  },
  {
   "cell_type": "code",
   "execution_count": 51,
   "metadata": {},
   "outputs": [
    {
     "name": "stdout",
     "output_type": "stream",
     "text": [
      "        action  attribute          label  f1-score  accuracy   roc_auc  \\\n",
      "0     Original          5     Original_5  0.077344  0.934982  0.607835   \n",
      "1        SMOTE          5        SMOTE_5  0.185169  0.801124  0.675157   \n",
      "2  SMOTE_Tomek          5  SMOTE_Tomek_5  0.183336  0.799120  0.676786   \n",
      "3    SMOTE_ENN          5    SMOTE_ENN_5  0.201627  0.768809  0.705818   \n",
      "\n",
      "     recall  \n",
      "0  0.059607  \n",
      "1  0.467329  \n",
      "2  0.466328  \n",
      "3  0.596364  \n"
     ]
    },
    {
     "data": {
      "text/plain": [
       "<__main__.Evaluate at 0x297819e9e10>"
      ]
     },
     "execution_count": 51,
     "metadata": {},
     "output_type": "execute_result"
    }
   ],
   "source": [
    "selection_features_evaluate = Evaluate(X_ig.values, y)\n",
    "selection_features_evaluate.fit().print_result()"
   ]
  },
  {
   "cell_type": "code",
   "execution_count": 52,
   "metadata": {},
   "outputs": [
    {
     "data": {
      "image/png": "[encoded data removed]",
      "text/plain": [
       "<Figure size 576x432 with 2 Axes>"
      ]
     },
     "metadata": {
      "needs_background": "light"
     },
     "output_type": "display_data"
    },
    {
     "data": {
      "image/png": "[encoded data removed]",
      "text/plain": [
       "<Figure size 576x432 with 2 Axes>"
      ]
     },
     "metadata": {
      "needs_background": "light"
     },
     "output_type": "display_data"
    },
    {
     "data": {
      "image/png": "[encoded data removed]",
      "text/plain": [
       "<Figure size 576x432 with 2 Axes>"
      ]
     },
     "metadata": {
      "needs_background": "light"
     },
     "output_type": "display_data"
    },
    {
     "data": {
      "image/png": "[encoded data removed]",
      "text/plain": [
       "<Figure size 576x432 with 2 Axes>"
      ]
     },
     "metadata": {
      "needs_background": "light"
     },
     "output_type": "display_data"
    }
   ],
   "source": [
    "selection_features_evaluate.plot_confusion_matrix()"
   ]
  },
  {
   "cell_type": "code",
   "execution_count": 53,
   "metadata": {},
   "outputs": [
    {
     "data": {
      "image/png": "[encoded data removed]",
      "text/plain": [
       "<Figure size 432x288 with 1 Axes>"
      ]
     },
     "metadata": {
      "needs_background": "light"
     },
     "output_type": "display_data"
    }
   ],
   "source": [
    "selection_features_evaluate.get_roc_plot('SMOTE')"
   ]
  },
  {
   "cell_type": "code",
   "execution_count": 54,
   "metadata": {},
   "outputs": [
    {
     "data": {
      "image/png": "[encoded data removed]",
      "text/plain": [
       "<Figure size 432x288 with 1 Axes>"
      ]
     },
     "metadata": {
      "needs_background": "light"
     },
     "output_type": "display_data"
    }
   ],
   "source": [
    "selection_features_evaluate.get_roc_plot('SMOTE_Tomek')"
   ]
  },
  {
   "cell_type": "code",
   "execution_count": 55,
   "metadata": {},
   "outputs": [
    {
     "data": {
      "image/png": "[encoded data removed]",
      "text/plain": [
       "<Figure size 432x288 with 1 Axes>"
      ]
     },
     "metadata": {
      "needs_background": "light"
     },
     "output_type": "display_data"
    }
   ],
   "source": [
    "selection_features_evaluate.get_roc_plot('SMOTE_ENN')"
   ]
  },
  {
   "attachments": {},
   "cell_type": "markdown",
   "metadata": {},
   "source": [
    "## Percobaan evaluasi model menggunakan Seleksi Fitur dengan banyak fitur 5-10"
   ]
  },
  {
   "cell_type": "code",
   "execution_count": 56,
   "metadata": {},
   "outputs": [],
   "source": [
    "test_k_best = [5,6,7,8,9,10]\n",
    "\n",
    "temp_result_val = []\n",
    "for i in test_k_best:\n",
    "    sel_five_cols = SelectKBest(mic_static_random, k=i)\n",
    "    sel_five_cols.fit(X_scaled, y)\n",
    "\n",
    "    test_X_ig = pd.DataFrame(X_scaled, columns=X.columns).iloc[:, sel_five_cols.get_support()]\n",
    "    selection_features_evaluate = Evaluate(test_X_ig.values, y)\n",
    "    selection_features_evaluate.fit()\n",
    "    temp_result_val.append(selection_features_evaluate.result)\n",
    "\n",
    "temp_result_val = np.array(temp_result_val).flatten()"
   ]
  },
  {
   "cell_type": "code",
   "execution_count": 57,
   "metadata": {},
   "outputs": [
    {
     "data": {
      "text/html": [
       "<div>\n",
       "<style scoped>\n",
       "    .dataframe tbody tr th:only-of-type {\n",
       "        vertical-align: middle;\n",
       "    }\n",
       "\n",
       "    .dataframe tbody tr th {\n",
       "        vertical-align: top;\n",
       "    }\n",
       "\n",
       "    .dataframe thead th {\n",
       "        text-align: right;\n",
       "    }\n",
       "</style>\n",
       "<table border=\"1\" class=\"dataframe\">\n",
       "  <thead>\n",
       "    <tr style=\"text-align: right;\">\n",
       "      <th></th>\n",
       "      <th>action</th>\n",
       "      <th>attribute</th>\n",
       "      <th>label</th>\n",
       "      <th>f1-score</th>\n",
       "      <th>accuracy</th>\n",
       "      <th>roc_auc</th>\n",
       "      <th>recall</th>\n",
       "    </tr>\n",
       "  </thead>\n",
       "  <tbody>\n",
       "    <tr>\n",
       "      <th>0</th>\n",
       "      <td>Original</td>\n",
       "      <td>5</td>\n",
       "      <td>Original_5</td>\n",
       "      <td>0.077344</td>\n",
       "      <td>0.934982</td>\n",
       "      <td>0.607835</td>\n",
       "      <td>0.059607</td>\n",
       "    </tr>\n",
       "    <tr>\n",
       "      <th>4</th>\n",
       "      <td>Original</td>\n",
       "      <td>6</td>\n",
       "      <td>Original_6</td>\n",
       "      <td>0.090058</td>\n",
       "      <td>0.939596</td>\n",
       "      <td>0.618328</td>\n",
       "      <td>0.061173</td>\n",
       "    </tr>\n",
       "    <tr>\n",
       "      <th>8</th>\n",
       "      <td>Original</td>\n",
       "      <td>7</td>\n",
       "      <td>Original_7</td>\n",
       "      <td>0.103837</td>\n",
       "      <td>0.939999</td>\n",
       "      <td>0.620778</td>\n",
       "      <td>0.076954</td>\n",
       "    </tr>\n",
       "    <tr>\n",
       "      <th>12</th>\n",
       "      <td>Original</td>\n",
       "      <td>8</td>\n",
       "      <td>Original_8</td>\n",
       "      <td>0.090009</td>\n",
       "      <td>0.939800</td>\n",
       "      <td>0.600800</td>\n",
       "      <td>0.062053</td>\n",
       "    </tr>\n",
       "    <tr>\n",
       "      <th>16</th>\n",
       "      <td>Original</td>\n",
       "      <td>9</td>\n",
       "      <td>Original_9</td>\n",
       "      <td>0.090895</td>\n",
       "      <td>0.939601</td>\n",
       "      <td>0.583049</td>\n",
       "      <td>0.064846</td>\n",
       "    </tr>\n",
       "    <tr>\n",
       "      <th>20</th>\n",
       "      <td>Original</td>\n",
       "      <td>10</td>\n",
       "      <td>Original_10</td>\n",
       "      <td>0.090803</td>\n",
       "      <td>0.943413</td>\n",
       "      <td>0.577127</td>\n",
       "      <td>0.058322</td>\n",
       "    </tr>\n",
       "    <tr>\n",
       "      <th>1</th>\n",
       "      <td>SMOTE</td>\n",
       "      <td>5</td>\n",
       "      <td>SMOTE_5</td>\n",
       "      <td>0.185169</td>\n",
       "      <td>0.801124</td>\n",
       "      <td>0.675157</td>\n",
       "      <td>0.467329</td>\n",
       "    </tr>\n",
       "    <tr>\n",
       "      <th>5</th>\n",
       "      <td>SMOTE</td>\n",
       "      <td>6</td>\n",
       "      <td>SMOTE_6</td>\n",
       "      <td>0.183292</td>\n",
       "      <td>0.817377</td>\n",
       "      <td>0.683545</td>\n",
       "      <td>0.420654</td>\n",
       "    </tr>\n",
       "    <tr>\n",
       "      <th>9</th>\n",
       "      <td>SMOTE</td>\n",
       "      <td>7</td>\n",
       "      <td>SMOTE_7</td>\n",
       "      <td>0.183610</td>\n",
       "      <td>0.820187</td>\n",
       "      <td>0.666813</td>\n",
       "      <td>0.421105</td>\n",
       "    </tr>\n",
       "    <tr>\n",
       "      <th>13</th>\n",
       "      <td>SMOTE</td>\n",
       "      <td>8</td>\n",
       "      <td>SMOTE_8</td>\n",
       "      <td>0.173909</td>\n",
       "      <td>0.831825</td>\n",
       "      <td>0.651161</td>\n",
       "      <td>0.377499</td>\n",
       "    </tr>\n",
       "    <tr>\n",
       "      <th>17</th>\n",
       "      <td>SMOTE</td>\n",
       "      <td>9</td>\n",
       "      <td>SMOTE_9</td>\n",
       "      <td>0.149805</td>\n",
       "      <td>0.833031</td>\n",
       "      <td>0.619812</td>\n",
       "      <td>0.311579</td>\n",
       "    </tr>\n",
       "    <tr>\n",
       "      <th>21</th>\n",
       "      <td>SMOTE</td>\n",
       "      <td>10</td>\n",
       "      <td>SMOTE_10</td>\n",
       "      <td>0.129050</td>\n",
       "      <td>0.833633</td>\n",
       "      <td>0.600542</td>\n",
       "      <td>0.255848</td>\n",
       "    </tr>\n",
       "    <tr>\n",
       "      <th>3</th>\n",
       "      <td>SMOTE_ENN</td>\n",
       "      <td>5</td>\n",
       "      <td>SMOTE_ENN_5</td>\n",
       "      <td>0.201627</td>\n",
       "      <td>0.768809</td>\n",
       "      <td>0.705818</td>\n",
       "      <td>0.596364</td>\n",
       "    </tr>\n",
       "    <tr>\n",
       "      <th>7</th>\n",
       "      <td>SMOTE_ENN</td>\n",
       "      <td>6</td>\n",
       "      <td>SMOTE_ENN_6</td>\n",
       "      <td>0.200163</td>\n",
       "      <td>0.775830</td>\n",
       "      <td>0.700490</td>\n",
       "      <td>0.580123</td>\n",
       "    </tr>\n",
       "    <tr>\n",
       "      <th>11</th>\n",
       "      <td>SMOTE_ENN</td>\n",
       "      <td>7</td>\n",
       "      <td>SMOTE_ENN_7</td>\n",
       "      <td>0.194513</td>\n",
       "      <td>0.773423</td>\n",
       "      <td>0.703310</td>\n",
       "      <td>0.562295</td>\n",
       "    </tr>\n",
       "    <tr>\n",
       "      <th>15</th>\n",
       "      <td>SMOTE_ENN</td>\n",
       "      <td>8</td>\n",
       "      <td>SMOTE_ENN_8</td>\n",
       "      <td>0.190858</td>\n",
       "      <td>0.780045</td>\n",
       "      <td>0.690382</td>\n",
       "      <td>0.539342</td>\n",
       "    </tr>\n",
       "    <tr>\n",
       "      <th>19</th>\n",
       "      <td>SMOTE_ENN</td>\n",
       "      <td>9</td>\n",
       "      <td>SMOTE_ENN_9</td>\n",
       "      <td>0.165491</td>\n",
       "      <td>0.771218</td>\n",
       "      <td>0.653855</td>\n",
       "      <td>0.475144</td>\n",
       "    </tr>\n",
       "    <tr>\n",
       "      <th>23</th>\n",
       "      <td>SMOTE_ENN</td>\n",
       "      <td>10</td>\n",
       "      <td>SMOTE_ENN_10</td>\n",
       "      <td>0.168364</td>\n",
       "      <td>0.782860</td>\n",
       "      <td>0.654069</td>\n",
       "      <td>0.453928</td>\n",
       "    </tr>\n",
       "    <tr>\n",
       "      <th>2</th>\n",
       "      <td>SMOTE_Tomek</td>\n",
       "      <td>5</td>\n",
       "      <td>SMOTE_Tomek_5</td>\n",
       "      <td>0.183336</td>\n",
       "      <td>0.799120</td>\n",
       "      <td>0.676786</td>\n",
       "      <td>0.466328</td>\n",
       "    </tr>\n",
       "    <tr>\n",
       "      <th>6</th>\n",
       "      <td>SMOTE_Tomek</td>\n",
       "      <td>6</td>\n",
       "      <td>SMOTE_Tomek_6</td>\n",
       "      <td>0.185770</td>\n",
       "      <td>0.816976</td>\n",
       "      <td>0.678210</td>\n",
       "      <td>0.427704</td>\n",
       "    </tr>\n",
       "    <tr>\n",
       "      <th>10</th>\n",
       "      <td>SMOTE_Tomek</td>\n",
       "      <td>7</td>\n",
       "      <td>SMOTE_Tomek_7</td>\n",
       "      <td>0.183907</td>\n",
       "      <td>0.818180</td>\n",
       "      <td>0.661082</td>\n",
       "      <td>0.425708</td>\n",
       "    </tr>\n",
       "    <tr>\n",
       "      <th>14</th>\n",
       "      <td>SMOTE_Tomek</td>\n",
       "      <td>8</td>\n",
       "      <td>SMOTE_Tomek_8</td>\n",
       "      <td>0.168101</td>\n",
       "      <td>0.829417</td>\n",
       "      <td>0.652699</td>\n",
       "      <td>0.368533</td>\n",
       "    </tr>\n",
       "    <tr>\n",
       "      <th>18</th>\n",
       "      <td>SMOTE_Tomek</td>\n",
       "      <td>9</td>\n",
       "      <td>SMOTE_Tomek_9</td>\n",
       "      <td>0.149505</td>\n",
       "      <td>0.832629</td>\n",
       "      <td>0.617609</td>\n",
       "      <td>0.312876</td>\n",
       "    </tr>\n",
       "    <tr>\n",
       "      <th>22</th>\n",
       "      <td>SMOTE_Tomek</td>\n",
       "      <td>10</td>\n",
       "      <td>SMOTE_Tomek_10</td>\n",
       "      <td>0.125528</td>\n",
       "      <td>0.832028</td>\n",
       "      <td>0.601240</td>\n",
       "      <td>0.251500</td>\n",
       "    </tr>\n",
       "  </tbody>\n",
       "</table>\n",
       "</div>"
      ],
      "text/plain": [
       "         action  attribute           label  f1-score  accuracy   roc_auc  \\\n",
       "0      Original          5      Original_5  0.077344  0.934982  0.607835   \n",
       "4      Original          6      Original_6  0.090058  0.939596  0.618328   \n",
       "8      Original          7      Original_7  0.103837  0.939999  0.620778   \n",
       "12     Original          8      Original_8  0.090009  0.939800  0.600800   \n",
       "16     Original          9      Original_9  0.090895  0.939601  0.583049   \n",
       "20     Original         10     Original_10  0.090803  0.943413  0.577127   \n",
       "1         SMOTE          5         SMOTE_5  0.185169  0.801124  0.675157   \n",
       "5         SMOTE          6         SMOTE_6  0.183292  0.817377  0.683545   \n",
       "9         SMOTE          7         SMOTE_7  0.183610  0.820187  0.666813   \n",
       "13        SMOTE          8         SMOTE_8  0.173909  0.831825  0.651161   \n",
       "17        SMOTE          9         SMOTE_9  0.149805  0.833031  0.619812   \n",
       "21        SMOTE         10        SMOTE_10  0.129050  0.833633  0.600542   \n",
       "3     SMOTE_ENN          5     SMOTE_ENN_5  0.201627  0.768809  0.705818   \n",
       "7     SMOTE_ENN          6     SMOTE_ENN_6  0.200163  0.775830  0.700490   \n",
       "11    SMOTE_ENN          7     SMOTE_ENN_7  0.194513  0.773423  0.703310   \n",
       "15    SMOTE_ENN          8     SMOTE_ENN_8  0.190858  0.780045  0.690382   \n",
       "19    SMOTE_ENN          9     SMOTE_ENN_9  0.165491  0.771218  0.653855   \n",
       "23    SMOTE_ENN         10    SMOTE_ENN_10  0.168364  0.782860  0.654069   \n",
       "2   SMOTE_Tomek          5   SMOTE_Tomek_5  0.183336  0.799120  0.676786   \n",
       "6   SMOTE_Tomek          6   SMOTE_Tomek_6  0.185770  0.816976  0.678210   \n",
       "10  SMOTE_Tomek          7   SMOTE_Tomek_7  0.183907  0.818180  0.661082   \n",
       "14  SMOTE_Tomek          8   SMOTE_Tomek_8  0.168101  0.829417  0.652699   \n",
       "18  SMOTE_Tomek          9   SMOTE_Tomek_9  0.149505  0.832629  0.617609   \n",
       "22  SMOTE_Tomek         10  SMOTE_Tomek_10  0.125528  0.832028  0.601240   \n",
       "\n",
       "      recall  \n",
       "0   0.059607  \n",
       "4   0.061173  \n",
       "8   0.076954  \n",
       "12  0.062053  \n",
       "16  0.064846  \n",
       "20  0.058322  \n",
       "1   0.467329  \n",
       "5   0.420654  \n",
       "9   0.421105  \n",
       "13  0.377499  \n",
       "17  0.311579  \n",
       "21  0.255848  \n",
       "3   0.596364  \n",
       "7   0.580123  \n",
       "11  0.562295  \n",
       "15  0.539342  \n",
       "19  0.475144  \n",
       "23  0.453928  \n",
       "2   0.466328  \n",
       "6   0.427704  \n",
       "10  0.425708  \n",
       "14  0.368533  \n",
       "18  0.312876  \n",
       "22  0.251500  "
      ]
     },
     "execution_count": 57,
     "metadata": {},
     "output_type": "execute_result"
    }
   ],
   "source": [
    "result_evaluate = pd.DataFrame.from_records(temp_result_val)\n",
    "result_evaluate.sort_values(['action','attribute'])"
   ]
  },
  {
   "cell_type": "code",
   "execution_count": 58,
   "metadata": {},
   "outputs": [],
   "source": [
    "def viz_evaluate(x, y, title=''):\n",
    "    plt.figure(figsize=(24,6))\n",
    "    plt.bar(x, y)\n",
    "\n",
    "    plt.xticks([0], fontsize=8)\n",
    "\n",
    "    plt.xlabel('Method')\n",
    "    plt.ylabel('Values')\n",
    "\n",
    "    plt.title(title)\n",
    "    plt.show()\n",
    "\n",
    "def viz_group_evaluate(df, title=''):\n",
    "    x = np.arange(len(df.values))\n",
    "\n",
    "# Lebar batang\n",
    "    width = 0.2\n",
    "\n",
    "    # Membuat plot\n",
    "    fig, ax = plt.subplots(figsize=(12, 4))\n",
    "    ax.bar(x - width, df['f1-score'].values, width, label='f1-score')\n",
    "    ax.bar(x, df['accuracy'].values, width, label='accuracy')\n",
    "    ax.bar(x + width, df['recall'].values, width, label='recal')\n",
    "\n",
    "    for p in ax.patches:\n",
    "        value = \"{:.5f}\".format(p.get_height())\n",
    "        ax.annotate(value, (p.get_x() * 1.010, p.get_height() * 1.010))\n",
    "\n",
    "    # Label sumbu x dan legenda\n",
    "    ax.set_xticks(x)\n",
    "    ax.set_xticklabels(df['label'].values)\n",
    "    ax.set_title(title)\n",
    "    ax.legend()\n",
    "\n",
    "    # Menampilkan plot\n",
    "    plt.show()"
   ]
  },
  {
   "cell_type": "code",
   "execution_count": 59,
   "metadata": {},
   "outputs": [
    {
     "data": {
      "image/png": "[encoded data removed]",
      "text/plain": [
       "<Figure size 1728x432 with 1 Axes>"
      ]
     },
     "metadata": {
      "needs_background": "light"
     },
     "output_type": "display_data"
    }
   ],
   "source": [
    "by_accuracy = result_evaluate.sort_values('accuracy', ascending=False)\n",
    "\n",
    "viz_evaluate(by_accuracy['label'], by_accuracy['accuracy'], \"Perbandingan Akurasi\")"
   ]
  },
  {
   "cell_type": "code",
   "execution_count": 60,
   "metadata": {},
   "outputs": [
    {
     "data": {
      "image/png": "[encoded data removed]",
      "text/plain": [
       "<Figure size 864x288 with 1 Axes>"
      ]
     },
     "metadata": {
      "needs_background": "light"
     },
     "output_type": "display_data"
    }
   ],
   "source": [
    "result_smote_tomek = result_evaluate[result_evaluate['action'] == 'Original']\n",
    "\n",
    "viz_group_evaluate(result_smote_tomek, 'Hasil Evaluasi KNN imbalanced')"
   ]
  },
  {
   "cell_type": "code",
   "execution_count": 61,
   "metadata": {},
   "outputs": [
    {
     "data": {
      "image/png": "[encoded data removed]",
      "text/plain": [
       "<Figure size 864x288 with 1 Axes>"
      ]
     },
     "metadata": {
      "needs_background": "light"
     },
     "output_type": "display_data"
    }
   ],
   "source": [
    "result_smote = result_evaluate[result_evaluate['action'] == 'SMOTE']\n",
    "\n",
    "viz_group_evaluate(result_smote, 'Hasil Evaluasi SMOTE')"
   ]
  },
  {
   "cell_type": "code",
   "execution_count": 62,
   "metadata": {},
   "outputs": [
    {
     "data": {
      "image/png": "[encoded data removed]",
      "text/plain": [
       "<Figure size 864x288 with 1 Axes>"
      ]
     },
     "metadata": {
      "needs_background": "light"
     },
     "output_type": "display_data"
    }
   ],
   "source": [
    "result_smote_tomek = result_evaluate[result_evaluate['action'] == 'SMOTE_Tomek']\n",
    "\n",
    "viz_group_evaluate(result_smote_tomek, 'Hasil Evaluasi SMOTE Tomek')"
   ]
  },
  {
   "cell_type": "code",
   "execution_count": 63,
   "metadata": {},
   "outputs": [
    {
     "data": {
      "image/png": "[encoded data removed]",
      "text/plain": [
       "<Figure size 864x288 with 1 Axes>"
      ]
     },
     "metadata": {
      "needs_background": "light"
     },
     "output_type": "display_data"
    }
   ],
   "source": [
    "result_smote_enn = result_evaluate[result_evaluate['action'] == 'SMOTE_ENN']\n",
    "\n",
    "viz_group_evaluate(result_smote_enn, 'Hasil Evaluasi SMOTE ENN')"
   ]
  },
  {
   "cell_type": "code",
   "execution_count": 64,
   "metadata": {},
   "outputs": [
    {
     "data": {
      "image/png": "[encoded data removed]",
      "text/plain": [
       "<Figure size 864x288 with 1 Axes>"
      ]
     },
     "metadata": {
      "needs_background": "light"
     },
     "output_type": "display_data"
    }
   ],
   "source": [
    "result_combine = result_evaluate[result_evaluate['attribute'] == 5]\n",
    "\n",
    "viz_group_evaluate(result_combine, 'Hasil Evaluasi Menggunakan top 5 atribut')"
   ]
  },
  {
   "cell_type": "code",
   "execution_count": 65,
   "metadata": {},
   "outputs": [
    {
     "data": {
      "image/png": "[encoded data removed]",
      "text/plain": [
       "<Figure size 864x288 with 1 Axes>"
      ]
     },
     "metadata": {
      "needs_background": "light"
     },
     "output_type": "display_data"
    }
   ],
   "source": [
    "result_combine = result_evaluate[result_evaluate['attribute'] == 6]\n",
    "\n",
    "viz_group_evaluate(result_combine, 'Hasil Evaluasi Menggunakan top 6 atribut')"
   ]
  },
  {
   "cell_type": "code",
   "execution_count": 66,
   "metadata": {},
   "outputs": [
    {
     "data": {
      "image/png": "[encoded data removed]",
      "text/plain": [
       "<Figure size 1728x432 with 1 Axes>"
      ]
     },
     "metadata": {
      "needs_background": "light"
     },
     "output_type": "display_data"
    }
   ],
   "source": [
    "by_f1 = result_evaluate.sort_values('f1-score', ascending=False)\n",
    "\n",
    "viz_evaluate(by_f1['label'], by_f1['f1-score'], \"Perbandingan F-Measure\")"
   ]
  },
  {
   "cell_type": "code",
   "execution_count": 67,
   "metadata": {},
   "outputs": [
    {
     "data": {
      "image/png": "[encoded data removed]",
      "text/plain": [
       "<Figure size 1728x432 with 1 Axes>"
      ]
     },
     "metadata": {
      "needs_background": "light"
     },
     "output_type": "display_data"
    }
   ],
   "source": [
    "by_roc_auc = result_evaluate.sort_values('roc_auc', ascending=False)\n",
    "\n",
    "viz_evaluate(by_roc_auc['label'], by_roc_auc['roc_auc'], \"Perbandingan ROC AUC\")\n"
   ]
  },
  {
   "attachments": {},
   "cell_type": "markdown",
   "metadata": {},
   "source": [
    "### Hasil Evaluasi\n",
    "\n",
    "Top Rank tiap nilai evaluasi:\n",
    "- Akurasi : SMOTE-Tomek (attribute 9)\n",
    "- F-Measure : SMOTE-ENN (attribute 7)\n",
    "- ROC-AUC : SMOTE-ENN (attribute 5)"
   ]
  },
  {
   "cell_type": "code",
   "execution_count": 68,
   "metadata": {},
   "outputs": [
    {
     "data": {
      "text/html": [
       "<div>\n",
       "<style scoped>\n",
       "    .dataframe tbody tr th:only-of-type {\n",
       "        vertical-align: middle;\n",
       "    }\n",
       "\n",
       "    .dataframe tbody tr th {\n",
       "        vertical-align: top;\n",
       "    }\n",
       "\n",
       "    .dataframe thead th {\n",
       "        text-align: right;\n",
       "    }\n",
       "</style>\n",
       "<table border=\"1\" class=\"dataframe\">\n",
       "  <thead>\n",
       "    <tr style=\"text-align: right;\">\n",
       "      <th></th>\n",
       "      <th>age</th>\n",
       "      <th>hypertension</th>\n",
       "      <th>ever_married</th>\n",
       "      <th>work_type</th>\n",
       "      <th>bmi</th>\n",
       "    </tr>\n",
       "  </thead>\n",
       "  <tbody>\n",
       "    <tr>\n",
       "      <th>0</th>\n",
       "      <td>0.816895</td>\n",
       "      <td>0.0</td>\n",
       "      <td>1.0</td>\n",
       "      <td>0.75</td>\n",
       "      <td>0.724928</td>\n",
       "    </tr>\n",
       "    <tr>\n",
       "      <th>1</th>\n",
       "      <td>0.743652</td>\n",
       "      <td>0.0</td>\n",
       "      <td>1.0</td>\n",
       "      <td>1.00</td>\n",
       "      <td>0.504104</td>\n",
       "    </tr>\n",
       "    <tr>\n",
       "      <th>2</th>\n",
       "      <td>0.975586</td>\n",
       "      <td>0.0</td>\n",
       "      <td>1.0</td>\n",
       "      <td>0.75</td>\n",
       "      <td>0.607450</td>\n",
       "    </tr>\n",
       "    <tr>\n",
       "      <th>3</th>\n",
       "      <td>0.597168</td>\n",
       "      <td>0.0</td>\n",
       "      <td>1.0</td>\n",
       "      <td>0.75</td>\n",
       "      <td>0.661891</td>\n",
       "    </tr>\n",
       "    <tr>\n",
       "      <th>4</th>\n",
       "      <td>0.963379</td>\n",
       "      <td>1.0</td>\n",
       "      <td>1.0</td>\n",
       "      <td>1.00</td>\n",
       "      <td>0.363897</td>\n",
       "    </tr>\n",
       "  </tbody>\n",
       "</table>\n",
       "</div>"
      ],
      "text/plain": [
       "        age  hypertension  ever_married  work_type       bmi\n",
       "0  0.816895           0.0           1.0       0.75  0.724928\n",
       "1  0.743652           0.0           1.0       1.00  0.504104\n",
       "2  0.975586           0.0           1.0       0.75  0.607450\n",
       "3  0.597168           0.0           1.0       0.75  0.661891\n",
       "4  0.963379           1.0           1.0       1.00  0.363897"
      ]
     },
     "execution_count": 68,
     "metadata": {},
     "output_type": "execute_result"
    }
   ],
   "source": [
    "sel_five_cols = SelectKBest(mic_static_random, k=5)\n",
    "sel_five_cols.fit(X_scaled, y)\n",
    "X_ig = pd.DataFrame(X_scaled, columns=X.columns).iloc[:, sel_five_cols.get_support()]\n",
    "\n",
    "X_ig.head()"
   ]
  },
  {
   "cell_type": "code",
   "execution_count": 69,
   "metadata": {},
   "outputs": [
    {
     "name": "stdout",
     "output_type": "stream",
     "text": [
      "        action  attribute          label  f1-score  accuracy   roc_auc  \\\n",
      "0     Original          5     Original_5  0.077344  0.934982  0.607835   \n",
      "1        SMOTE          5        SMOTE_5  0.185169  0.801124  0.675157   \n",
      "2  SMOTE_Tomek          5  SMOTE_Tomek_5  0.183336  0.799120  0.676786   \n",
      "3    SMOTE_ENN          5    SMOTE_ENN_5  0.201627  0.768809  0.705818   \n",
      "\n",
      "     recall  \n",
      "0  0.059607  \n",
      "1  0.467329  \n",
      "2  0.466328  \n",
      "3  0.596364  \n"
     ]
    },
    {
     "data": {
      "image/png": "[encoded data removed]",
      "text/plain": [
       "<Figure size 432x288 with 1 Axes>"
      ]
     },
     "metadata": {
      "needs_background": "light"
     },
     "output_type": "display_data"
    }
   ],
   "source": [
    "smoten_5 = Evaluate(X_ig.values, y)\n",
    "smoten_5.fit().print_result().get_roc_plot('SMOTE_ENN')"
   ]
  },
  {
   "cell_type": "code",
   "execution_count": 70,
   "metadata": {},
   "outputs": [
    {
     "data": {
      "text/plain": [
       "Index(['age', 'hypertension', 'ever_married', 'work_type', 'bmi'], dtype='object')"
      ]
     },
     "execution_count": 70,
     "metadata": {},
     "output_type": "execute_result"
    }
   ],
   "source": [
    "X_ig.columns"
   ]
  },
  {
   "cell_type": "code",
   "execution_count": 71,
   "metadata": {},
   "outputs": [
    {
     "data": {
      "text/html": [
       "<style>#sk-container-id-1 {color: black;background-color: white;}#sk-container-id-1 pre{padding: 0;}#sk-container-id-1 div.sk-toggleable {background-color: white;}#sk-container-id-1 label.sk-toggleable__label {cursor: pointer;display: block;width: 100%;margin-bottom: 0;padding: 0.3em;box-sizing: border-box;text-align: center;}#sk-container-id-1 label.sk-toggleable__label-arrow:before {content: \"▸\";float: left;margin-right: 0.25em;color: #696969;}#sk-container-id-1 label.sk-toggleable__label-arrow:hover:before {color: black;}#sk-container-id-1 div.sk-estimator:hover label.sk-toggleable__label-arrow:before {color: black;}#sk-container-id-1 div.sk-toggleable__content {max-height: 0;max-width: 0;overflow: hidden;text-align: left;background-color: #f0f8ff;}#sk-container-id-1 div.sk-toggleable__content pre {margin: 0.2em;color: black;border-radius: 0.25em;background-color: #f0f8ff;}#sk-container-id-1 input.sk-toggleable__control:checked~div.sk-toggleable__content {max-height: 200px;max-width: 100%;overflow: auto;}#sk-container-id-1 input.sk-toggleable__control:checked~label.sk-toggleable__label-arrow:before {content: \"▾\";}#sk-container-id-1 div.sk-estimator input.sk-toggleable__control:checked~label.sk-toggleable__label {background-color: #d4ebff;}#sk-container-id-1 div.sk-label input.sk-toggleable__control:checked~label.sk-toggleable__label {background-color: #d4ebff;}#sk-container-id-1 input.sk-hidden--visually {border: 0;clip: rect(1px 1px 1px 1px);clip: rect(1px, 1px, 1px, 1px);height: 1px;margin: -1px;overflow: hidden;padding: 0;position: absolute;width: 1px;}#sk-container-id-1 div.sk-estimator {font-family: monospace;background-color: #f0f8ff;border: 1px dotted black;border-radius: 0.25em;box-sizing: border-box;margin-bottom: 0.5em;}#sk-container-id-1 div.sk-estimator:hover {background-color: #d4ebff;}#sk-container-id-1 div.sk-parallel-item::after {content: \"\";width: 100%;border-bottom: 1px solid gray;flex-grow: 1;}#sk-container-id-1 div.sk-label:hover label.sk-toggleable__label {background-color: #d4ebff;}#sk-container-id-1 div.sk-serial::before {content: \"\";position: absolute;border-left: 1px solid gray;box-sizing: border-box;top: 0;bottom: 0;left: 50%;z-index: 0;}#sk-container-id-1 div.sk-serial {display: flex;flex-direction: column;align-items: center;background-color: white;padding-right: 0.2em;padding-left: 0.2em;position: relative;}#sk-container-id-1 div.sk-item {position: relative;z-index: 1;}#sk-container-id-1 div.sk-parallel {display: flex;align-items: stretch;justify-content: center;background-color: white;position: relative;}#sk-container-id-1 div.sk-item::before, #sk-container-id-1 div.sk-parallel-item::before {content: \"\";position: absolute;border-left: 1px solid gray;box-sizing: border-box;top: 0;bottom: 0;left: 50%;z-index: -1;}#sk-container-id-1 div.sk-parallel-item {display: flex;flex-direction: column;z-index: 1;position: relative;background-color: white;}#sk-container-id-1 div.sk-parallel-item:first-child::after {align-self: flex-end;width: 50%;}#sk-container-id-1 div.sk-parallel-item:last-child::after {align-self: flex-start;width: 50%;}#sk-container-id-1 div.sk-parallel-item:only-child::after {width: 0;}#sk-container-id-1 div.sk-dashed-wrapped {border: 1px dashed gray;margin: 0 0.4em 0.5em 0.4em;box-sizing: border-box;padding-bottom: 0.4em;background-color: white;}#sk-container-id-1 div.sk-label label {font-family: monospace;font-weight: bold;display: inline-block;line-height: 1.2em;}#sk-container-id-1 div.sk-label-container {text-align: center;}#sk-container-id-1 div.sk-container {/* jupyter's `normalize.less` sets `[hidden] { display: none; }` but bootstrap.min.css set `[hidden] { display: none !important; }` so we also need the `!important` here to be able to override the default hidden behavior on the sphinx rendered scikit-learn.org. See: https://github.com/scikit-learn/scikit-learn/issues/21755 */display: inline-block !important;position: relative;}#sk-container-id-1 div.sk-text-repr-fallback {display: none;}</style><div id=\"sk-container-id-1\" class=\"sk-top-container\"><div class=\"sk-text-repr-fallback\"><pre>KNeighborsClassifier(metric=&#x27;euclidean&#x27;, n_neighbors=3)</pre><b>In a Jupyter environment, please rerun this cell to show the HTML representation or trust the notebook. <br />On GitHub, the HTML representation is unable to render, please try loading this page with nbviewer.org.</b></div><div class=\"sk-container\" hidden><div class=\"sk-item\"><div class=\"sk-estimator sk-toggleable\"><input class=\"sk-toggleable__control sk-hidden--visually\" id=\"sk-estimator-id-1\" type=\"checkbox\" checked><label for=\"sk-estimator-id-1\" class=\"sk-toggleable__label sk-toggleable__label-arrow\">KNeighborsClassifier</label><div class=\"sk-toggleable__content\"><pre>KNeighborsClassifier(metric=&#x27;euclidean&#x27;, n_neighbors=3)</pre></div></div></div></div></div>"
      ],
      "text/plain": [
       "KNeighborsClassifier(metric='euclidean', n_neighbors=3)"
      ]
     },
     "execution_count": 71,
     "metadata": {},
     "output_type": "execute_result"
    }
   ],
   "source": [
    "from sklearn.model_selection import train_test_split\n",
    "from sklearn.metrics import confusion_matrix\n",
    "from sklearn.feature_selection import SelectKBest\n",
    "\n",
    "def mic_static_random(X,y):\n",
    "    return mutual_info_classif(X,y, random_state=1)\n",
    "\n",
    "\n",
    "sel_five_cols = SelectKBest(mic_static_random, k=5)\n",
    "sel_five_cols.fit(X_scaled, y)\n",
    "\n",
    "new_scaler = MinMaxScaler()\n",
    "X_best = X.iloc[:, sel_five_cols.get_support()]\n",
    "\n",
    "X_new_scaled = new_scaler.fit_transform(X_best)\n",
    "\n",
    "X_ig = pd.DataFrame(X_new_scaled, columns=X_best.columns)\n",
    "\n",
    "X_train, X_test, y_train, y_test = train_test_split(X_ig, y, train_size=0.9, random_state=42)\n",
    "\n",
    "X_train, y_train = SMOTE(random_state=42).fit_resample(X_train, y_train)\n",
    "X_train, y_train = EditedNearestNeighbours(sampling_strategy='all').fit_resample(X_train, y_train)\n",
    "\n",
    "model = KNeighborsClassifier(n_neighbors=3, metric=\"euclidean\")\n",
    "model.fit(X_train, y_train)"
   ]
  },
  {
   "cell_type": "code",
   "execution_count": null,
   "metadata": {},
   "outputs": [],
   "source": []
  },
  {
   "attachments": {},
   "cell_type": "markdown",
   "metadata": {},
   "source": [
    "### Dump Best Model yang telah dibuat serta Dump Scaler Ke Supabase Storage\n",
    "Supabase adalah Service storage berbasis Cloud semacam Firebase\n",
    "\n",
    "# WARNING UNCOMMENT THIS CODE WILL UPDATE MODEL AND SCALLER ON PRODUCTION"
   ]
  },
  {
   "cell_type": "code",
   "execution_count": 77,
   "metadata": {},
   "outputs": [],
   "source": [
    "# from joblib import dump\n",
    "# from supabase import create_client\n",
    "\n",
    "# url = \"PUTSUPAURL\"\n",
    "# key = \"CLIENT_SECRET\"\n",
    "\n",
    "# supabase = create_client(url, key)\n",
    "\n",
    "# res = supabase.storage.from_('model').remove('model.joblib')\n",
    "# res = supabase.storage.from_('model').remove('scaler.joblib')\n",
    "\n",
    "# dump(model, 'model.joblib')\n",
    "# response = supabase.storage.from_('model').upload('model.joblib', 'model.joblib',file_options={\n",
    "#     'content-type': \"application/octet-stream\"\n",
    "# })\n",
    "\n",
    "# dump(new_scaler, 'scaler.joblib')\n",
    "# response = supabase.storage.from_('model').upload('scaler.joblib', 'scaler.joblib',file_options={\n",
    "#     'content-type': \"application/octet-stream\"\n",
    "# })"
   ]
  }
 ],
 "metadata": {
  "kernelspec": {
   "display_name": "Python 3",
   "language": "python",
   "name": "python3"
  },
  "language_info": {
   "codemirror_mode": {
    "name": "ipython",
    "version": 3
   },
   "file_extension": ".py",
   "mimetype": "text/x-python",
   "name": "python",
   "nbconvert_exporter": "python",
   "pygments_lexer": "ipython3",
   "version": "3.10.11"
  },
  "orig_nbformat": 4
 },
 "nbformat": 4,
 "nbformat_minor": 2
}
