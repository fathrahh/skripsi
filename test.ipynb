{
 "cells": [
  {
   "cell_type": "code",
   "execution_count": 10,
   "metadata": {},
   "outputs": [
    {
     "data": {
      "text/plain": [
       "0.006186408267051618"
      ]
     },
     "execution_count": 10,
     "metadata": {},
     "output_type": "execute_result"
    }
   ],
   "source": [
    "import math\n",
    "def mi(t, xy, x,y):\n",
    "    try:\n",
    "        return xy/t * math.log((xy/t) / (x/t * y/t))\n",
    "    except:\n",
    "        return 0\n",
    "\n",
    "# hipertensi\n",
    "t = mi(4983,181, 246, 4506)\n",
    "t += mi(4983,65, 246, 477)\n",
    "t += mi(4983, 4325, 4737, 4506)\n",
    "t += mi(4983, 412, 4737, 477)\n",
    "t"
   ]
  },
  {
   "cell_type": "code",
   "execution_count": 21,
   "metadata": {},
   "outputs": [
    {
     "data": {
      "text/plain": [
       "0.00892510052778979"
      ]
     },
     "execution_count": 21,
     "metadata": {},
     "output_type": "execute_result"
    }
   ],
   "source": [
    "def epi(t, x,y):\n",
    "    return -(x/t*math.log(x/t,2)) - (y/t*math.log(y/t,2))\n",
    "\n",
    "t = epi(4983,246,4737)\n",
    "t1 = epi(4506,181,4325)\n",
    "t2 = epi(477,65,412)\n",
    "\n",
    "t - ((4506/4983) * t1) - ((477/4983) * t2)"
   ]
  },
  {
   "cell_type": "code",
   "execution_count": 18,
   "metadata": {},
   "outputs": [
    {
     "data": {
      "text/plain": [
       "0.9402859586706309"
      ]
     },
     "execution_count": 18,
     "metadata": {},
     "output_type": "execute_result"
    }
   ],
   "source": [
    "-(9/14*math.log(9/14,2)) - (5/14*math.log(5/14,2))"
   ]
  },
  {
   "cell_type": "code",
   "execution_count": 14,
   "metadata": {},
   "outputs": [
    {
     "data": {
      "text/plain": [
       "0.007036179352222669"
      ]
     },
     "execution_count": 14,
     "metadata": {},
     "output_type": "execute_result"
    }
   ],
   "source": [
    "w = mi(4983,2, 246, 686)\n",
    "w += mi(4983,33, 246, 639)\n",
    "w += mi(4983,0, 246, 22)\n",
    "w += mi(4983,147, 246, 2835)\n",
    "w += mi(4983,64, 246, 801)\n",
    "w += mi(4983,684, 4737, 686)\n",
    "w += mi(4983,606, 4737, 639)\n",
    "w += mi(4983,22, 4737, 22)\n",
    "w += mi(4983,2688, 4737, 2835)\n",
    "w += mi(4983,737, 4737, 801)\n",
    "w"
   ]
  },
  {
   "cell_type": "code",
   "execution_count": 16,
   "metadata": {},
   "outputs": [
    {
     "data": {
      "text/plain": [
       "0.00598602421387879"
      ]
     },
     "execution_count": 16,
     "metadata": {},
     "output_type": "execute_result"
    }
   ],
   "source": [
    "s = mi(4983,199, 246, 4708)\n",
    "s += mi(4983,47, 246, 275)\n",
    "s += mi(4983,4509, 4737, 4708)\n",
    "s += mi(4983,228, 4737, 275)\n",
    "s"
   ]
  },
  {
   "cell_type": "code",
   "execution_count": 17,
   "metadata": {},
   "outputs": [
    {
     "data": {
      "text/plain": [
       "0.007097654208258955"
      ]
     },
     "execution_count": 17,
     "metadata": {},
     "output_type": "execute_result"
    }
   ],
   "source": [
    "a = mi(4983,29, 246, 1728)\n",
    "a += mi(4983,217, 246, 3255)\n",
    "a += mi(4983,1699, 4737, 1728)\n",
    "a += mi(4983,3038, 4737, 3255)\n",
    "a "
   ]
  },
  {
   "cell_type": "code",
   "execution_count": 30,
   "metadata": {},
   "outputs": [
    {
     "data": {
      "text/plain": [
       "0.7991169977924945"
      ]
     },
     "execution_count": 30,
     "metadata": {},
     "output_type": "execute_result"
    }
   ],
   "source": [
    "(3869 + 113) / (3869 + 133 + 868 + 113)"
   ]
  },
  {
   "cell_type": "code",
   "execution_count": 29,
   "metadata": {},
   "outputs": [
    {
     "data": {
      "text/plain": [
       "0.11518858307849134"
      ]
     },
     "execution_count": 29,
     "metadata": {},
     "output_type": "execute_result"
    }
   ],
   "source": [
    "113 / (113 + 868)"
   ]
  }
 ],
 "metadata": {
  "kernelspec": {
   "display_name": "Python 3",
   "language": "python",
   "name": "python3"
  },
  "language_info": {
   "codemirror_mode": {
    "name": "ipython",
    "version": 3
   },
   "file_extension": ".py",
   "mimetype": "text/x-python",
   "name": "python",
   "nbconvert_exporter": "python",
   "pygments_lexer": "ipython3",
   "version": "3.10.11"
  },
  "orig_nbformat": 4
 },
 "nbformat": 4,
 "nbformat_minor": 2
}
